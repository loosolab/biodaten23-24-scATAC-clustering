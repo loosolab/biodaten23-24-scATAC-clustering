{
 "cells": [
  {
   "cell_type": "markdown",
   "id": "c746df97",
   "metadata": {},
   "source": [
    "# Marker Repo - annotation"
   ]
  },
  {
   "cell_type": "markdown",
   "id": "99769a43",
   "metadata": {},
   "source": [
    "In this notebook, clustered h5ad files can be annotated using the MarkerRepo or SCSA."
   ]
  },
  {
   "cell_type": "markdown",
   "id": "a8e1cf03",
   "metadata": {},
   "source": [
    "## Loading packages"
   ]
  },
  {
   "cell_type": "code",
   "execution_count": null,
   "id": "8a3e5f40",
   "metadata": {},
   "outputs": [],
   "source": [
    "import markerrepo.marker_repo as mr\n",
    "import markerrepo.wrappers as wrap\n",
    "import markerrepo.annotation as annot\n",
    "import markerrepo.parsing as pars\n",
    "import markerrepo.utils as utl\n",
    "import auto_annotation as auto\n",
    "import scanpy as sc\n",
    "import os\n",
    "import matplotlib.pyplot as plt\n",
    "import pandas as pd\n",
    "import inspect\n",
    "import re\n",
    "import math\n",
    "\n",
    "%load_ext autoreload\n",
    "%autoreload 2"
   ]
  },
  {
   "cell_type": "markdown",
   "id": "8eb1bb8e",
   "metadata": {},
   "source": [
    "## Settings"
   ]
  },
  {
   "cell_type": "markdown",
   "id": "df189d52",
   "metadata": {},
   "source": [
    "Specify path of the cloned repository and the h5ad file which is going to be annotated."
   ]
  },
  {
   "cell_type": "code",
   "execution_count": null,
   "id": "87345dc7",
   "metadata": {},
   "outputs": [],
   "source": [
    "repo_path = \"/mnt/workspace_stud/allstud/wp2/annotate_by_marker_and_features-sort\"\n",
    "h5ad_path = \"/mnt/workspace_stud/allstud/wp1/data/2024_01_28/esophagus_muscularis_SM-A8CPH.h5ad\""
   ]
  },
  {
   "cell_type": "markdown",
   "id": "8bddfe81",
   "metadata": {},
   "source": [
    "Load anndata and list all possible settings."
   ]
  },
  {
   "cell_type": "code",
   "execution_count": null,
   "id": "fb038cf2",
   "metadata": {},
   "outputs": [],
   "source": [
    "adata = sc.read_h5ad(h5ad_path)\n",
    "annot.list_possible_settings(repo_path, adata=adata)"
   ]
  },
  {
   "cell_type": "markdown",
   "id": "ade7827e",
   "metadata": {},
   "source": [
    "Enter general annotation settings."
   ]
  },
  {
   "cell_type": "code",
   "execution_count": null,
   "id": "f10c3176",
   "metadata": {},
   "outputs": [],
   "source": [
    "# Taxonomy ID or Organism Name\n",
    "# e.g., \"human\" or 9606\n",
    "organism = \"human\"\n",
    "\n",
    "# Column in .obs table where ranked genes groups are stored\n",
    "# e.g., \"rank_genes_groups\"\n",
    "# Enter None if no ranking has been performed yet\n",
    "rank_genes_column = None\n",
    "\n",
    "# Column in .var table where gene symbols or Ensembl IDs are stored\n",
    "# Enter None if the index column of the .var table already has gene symbols or Ensembl IDs\n",
    "# that you want to use for your annotation\n",
    "genes_column = None\n",
    "\n",
    "# The .obs table column of the clustering you want to annotate (e.g., \"leiden\" or \"louvain\")\n",
    "# If None, you can pick one interactively \n",
    "clustering_column_list = auto.get_clustering_column_list(adata=adata)\n",
    "\n",
    "# Specify whether your index of the .var tables are Ensembl IDs (True) or gene symbols (False)\n",
    "ensembl = mr.check_ensembl(adata)\n",
    "\n",
    "# Name of the column to add with the final cell type annotation\n",
    "# If None, all annotation columns will be kept\n",
    "celltype_column_name = None\n",
    "\n",
    "# Whether to delete the created marker lists after annotation or not\n",
    "delete_lists = True\n",
    "\n",
    "# \n",
    "column_specific_terms={\"Source\":\"panglao\", \"Organism name\":\"human\"}\n",
    "\n",
    "# \n",
    "mr_parameters = [{\"style\":\"two_column\", \"file_name\":\"two_column\"}]"
   ]
  },
  {
   "cell_type": "markdown",
   "id": "5680e8b2",
   "metadata": {},
   "source": [
    "Validate general annotation settings and the mr_parameters."
   ]
  },
  {
   "cell_type": "code",
   "execution_count": null,
   "id": "ee9a9f30",
   "metadata": {},
   "outputs": [],
   "source": [
    "auto.auto_validate_settings(settings=mr_parameters, repo_path=repo_path, adata=adata, organism=organism, \n",
    "                        rank_genes_column=rank_genes_column, genes_column=genes_column, clustering_column=clustering_column_list, ensembl=ensembl,\n",
    "                        column_specific_terms=column_specific_terms)"
   ]
  },
  {
   "cell_type": "markdown",
   "id": "8234624a",
   "metadata": {},
   "source": [
    "## Create suitable marker list(s)"
   ]
  },
  {
   "cell_type": "markdown",
   "id": "c39f3a29",
   "metadata": {},
   "source": [
    "<details>\n",
    "    <summary>Click here to see/collapse the function description</summary>\n",
    "    <p><b>Function Call:</b> create_multiple_marker_lists</p>\n",
    "    <p>This function calls 'create_marker_lists' with multiple parameter sets to create marker lists. It iterates over each dictionary within a list, using its contents to call 'create_marker_lists'. Default values are assigned for any parameters missing from a dictionary, but these can be overridden by individual dictionary entries.</p>\n",
    "    <p><b>Parameters (excerpt):</b></p>\n",
    "    <ul>\n",
    "        <li><b>settings:</b> list of dict, default [{}] - A list of dictionaries where each dictionary contains parameters for a single call to 'create_marker_lists'. Keys should match the parameter names of 'create_marker_lists', and values are the desired values for those parameters.</li>\n",
    "        <li><b>style:</b> str, default \"score\" - Determines the style of the marker lists. Available options include \"two_column\", \"score\", \"ui\", and \"panglao\".</li>\n",
    "        <li><b>force_homology:</b> bool, default False - If set to True, the function will attempt to create marker lists via homology, even if marker lists for the given organism already exist.</li>\n",
    "        <li><b>show_lists:</b> bool, default True - If True, the function displays the marker lists of the query post-creation.</li>\n",
    "        <li><b>column_specific_terms:</b> dict, default None - A dictionary with column names as keys and lists of search terms as values. If provided, this overrides the 'col_to_search' and 'search_terms' parameters.</li>\n",
    "        <li><b>adata:</b> AnnData, default None - If provided, the function adds the marker list IDs to the .uns table of the AnnData object.</li>\n",
    "    </ul>\n",
    "    <p><b>Returns:</b></p>\n",
    "    <ul>\n",
    "        <li><b>list of str:</b> A list of all paths to the created marker lists.</li>\n",
    "    </ul>\n",
    "</details>\n"
   ]
  },
  {
   "cell_type": "markdown",
   "id": "a4fa4f42",
   "metadata": {},
   "source": [
    "The paths of the marker lists will be stored in the <b>marker_lists</b> variable. They will work as input for the actual cell type annotation of the next cell."
   ]
  },
  {
   "cell_type": "code",
   "execution_count": null,
   "id": "0548c09c",
   "metadata": {},
   "outputs": [],
   "source": [
    "marker_lists = wrap.create_multiple_marker_lists(settings=mr_parameters, repo_path=repo_path, organism=organism, \n",
    "                                                 ensembl=ensembl, column_specific_terms=column_specific_terms,\n",
    "                                                 show_lists=True, adata=adata)"
   ]
  },
  {
   "cell_type": "markdown",
   "id": "1171d00d",
   "metadata": {},
   "source": [
    "## Annotate adata using the created list(s)"
   ]
  },
  {
   "cell_type": "markdown",
   "id": "5b29cae2",
   "metadata": {},
   "source": [
    "Show new annotation column."
   ]
  },
  {
   "cell_type": "code",
   "execution_count": null,
   "id": "e722b306",
   "metadata": {
    "scrolled": true
   },
   "outputs": [],
   "source": [
    "annotation_results = auto.auto_run_annotation(adata, marker_repo=True, SCSA=True, marker_lists=marker_lists, mr_obs=\"mr\", scsa_obs=\"scsa\", \n",
    "                   rank_genes_column=None, clustering_column_list=clustering_column_list, reference_obs=None, keep_all=False, \n",
    "                   verbose=False, show_ct_tables=False, show_plots=False, ignore_overwrite=True,\n",
    "                   celltype_column_name=None)"
   ]
  },
  {
   "cell_type": "code",
   "execution_count": null,
   "id": "01179c85",
   "metadata": {},
   "outputs": [],
   "source": [
    "auto.show_umap_collection(annotation_results, clustering_column_list)"
   ]
  },
  {
   "cell_type": "code",
   "execution_count": null,
   "id": "0bece6e6",
   "metadata": {},
   "outputs": [],
   "source": [
    "compared_result_df = auto.create_compare_df(annotation_results)"
   ]
  },
  {
   "cell_type": "code",
   "execution_count": null,
   "id": "4ef63c03",
   "metadata": {},
   "outputs": [],
   "source": [
    "auto.find_cluster(\"lovain_1\", 2, annotation_results)"
   ]
  },
  {
   "cell_type": "code",
   "execution_count": null,
   "id": "42c88d64",
   "metadata": {},
   "outputs": [],
   "source": [
    "best_cluter = str(adata.uns[\"best_cluster\"])\n",
    "best_cluter"
   ]
  },
  {
   "cell_type": "code",
   "execution_count": null,
   "id": "b6ca6a4e",
   "metadata": {
    "scrolled": false
   },
   "outputs": [],
   "source": [
    "reference_best = wrap.run_annotation(adata, SCSA=False, marker_lists=marker_lists, reference_obs=\"ontology label\", show_comparison=False,\n",
    "                    clustering_column=best_cluter, rank_genes_column=rank_genes_column, \n",
    "                    ignore_overwrite=True, verbose=False, show_plots=True, show_ct_tables=True, \n",
    "                    celltype_column_name=celltype_column_name)"
   ]
  },
  {
   "cell_type": "markdown",
   "id": "78785104",
   "metadata": {},
   "source": [
    "Delete created marker lists."
   ]
  },
  {
   "cell_type": "code",
   "execution_count": null,
   "id": "7f97ec46",
   "metadata": {},
   "outputs": [],
   "source": [
    "if delete_lists:\n",
    "    mr.delete_files(marker_lists)"
   ]
  }
 ],
 "metadata": {
  "kernelspec": {
   "display_name": "marker_env-sort",
   "language": "python",
   "name": "marker-repo-sort"
  },
  "language_info": {
   "codemirror_mode": {
    "name": "ipython",
    "version": 3
   },
   "file_extension": ".py",
   "mimetype": "text/x-python",
   "name": "python",
   "nbconvert_exporter": "python",
   "pygments_lexer": "ipython3",
   "version": "3.11.3"
  }
 },
 "nbformat": 4,
 "nbformat_minor": 5
}
