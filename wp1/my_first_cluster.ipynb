{
 "cells": [
  {
   "cell_type": "code",
   "execution_count": 1,
   "id": "3702e799",
   "metadata": {},
   "outputs": [],
   "source": [
    "h5ad_path = \"/mnt/workspace_stud/mbentse/catlas_objects/esophagus_muscularis_SM-A8CPH.h5ad\"\n",
    "#h5ad_path = \"/mnt/workspace_stud/mbentse/catlas_objects/heart_lv_SM-IOBHO.h5ad\"\n",
    "\n",
    "data_folder = \"/mnt/workspace_stud/allstud/wp1/data\"\n",
    "\n",
    "metadata_url = \"http://catlas.org/catlas_downloads/humantissues/Cell_metadata.tsv.gz\"\n",
    "metadata_filename = \"Cell_metadata.tsv\"\n",
    "metadata_path = f\"{data_folder}/catlas_metadata/{metadata_filename}\"\n",
    "\n",
    "gtf_url=\"https://ftp.ebi.ac.uk/pub/databases/gencode/Gencode_human/release_38/gencode.v38.annotation.gtf.gz\"\n",
    "gtf_filename=\"gencode.v38.annotation.gtf\"\n",
    "gtf_path=f\"{data_folder}/{gtf_filename}\""
   ]
  },
  {
   "cell_type": "code",
   "execution_count": 2,
   "id": "395d620a",
   "metadata": {},
   "outputs": [],
   "source": [
    "import os.path\n",
    "\n",
    "import episcanpy as epi\n",
    "import scanpy as sc\n",
    "import numpy as np\n",
    "import anndata as ad\n",
    "import pandas as pd\n",
    "\n",
    "%load_ext autoreload\n",
    "%autoreload 2\n",
    "\n",
    "import utils"
   ]
  },
  {
   "cell_type": "code",
   "execution_count": 3,
   "id": "61c025ed",
   "metadata": {},
   "outputs": [],
   "source": [
    "adata = epi.read_h5ad(h5ad_path)"
   ]
  },
  {
   "cell_type": "code",
   "execution_count": 4,
   "id": "d15220f7",
   "metadata": {},
   "outputs": [],
   "source": [
    "sc.pp.calculate_qc_metrics(adata=adata, percent_top=None, inplace=True)"
   ]
  },
  {
   "cell_type": "code",
   "execution_count": 5,
   "id": "4c5c91a6",
   "metadata": {},
   "outputs": [
    {
     "name": "stdout",
     "output_type": "stream",
     "text": [
      "/mnt/workspace_stud/allstud/wp1/data/catlas_metadata/Cell_metadata.tsv already exists.\n"
     ]
    }
   ],
   "source": [
    "utils.download(metadata_path, metadata_url)"
   ]
  },
  {
   "cell_type": "code",
   "execution_count": 6,
   "id": "b63e1d99",
   "metadata": {},
   "outputs": [],
   "source": [
    "utils.load_metadata(adata, metadata_path, columns_to_keep=['cell type'])"
   ]
  },
  {
   "cell_type": "code",
   "execution_count": 7,
   "id": "1667d911",
   "metadata": {},
   "outputs": [
    {
     "data": {
      "text/html": [
       "<div>\n",
       "<style scoped>\n",
       "    .dataframe tbody tr th:only-of-type {\n",
       "        vertical-align: middle;\n",
       "    }\n",
       "\n",
       "    .dataframe tbody tr th {\n",
       "        vertical-align: top;\n",
       "    }\n",
       "\n",
       "    .dataframe thead th {\n",
       "        text-align: right;\n",
       "    }\n",
       "</style>\n",
       "<table border=\"1\" class=\"dataframe\">\n",
       "  <thead>\n",
       "    <tr style=\"text-align: right;\">\n",
       "      <th></th>\n",
       "      <th>n_genes_by_counts</th>\n",
       "      <th>log1p_n_genes_by_counts</th>\n",
       "      <th>total_counts</th>\n",
       "      <th>log1p_total_counts</th>\n",
       "      <th>cell type</th>\n",
       "    </tr>\n",
       "  </thead>\n",
       "  <tbody>\n",
       "    <tr>\n",
       "      <th>esophagus_muscularis_SM-A8CPH_1+AAGCTATACCGCTTCTCACAAG</th>\n",
       "      <td>6264</td>\n",
       "      <td>8.742734</td>\n",
       "      <td>10835.0</td>\n",
       "      <td>9.290629</td>\n",
       "      <td>Naive T cell</td>\n",
       "    </tr>\n",
       "    <tr>\n",
       "      <th>esophagus_muscularis_SM-A8CPH_1+AATTCGGATGAAATGCTACGGG</th>\n",
       "      <td>827</td>\n",
       "      <td>6.719013</td>\n",
       "      <td>1365.0</td>\n",
       "      <td>7.219642</td>\n",
       "      <td>Naive T cell</td>\n",
       "    </tr>\n",
       "    <tr>\n",
       "      <th>esophagus_muscularis_SM-A8CPH_1+ACTGCACAGAGTCCAGATTTCC</th>\n",
       "      <td>2334</td>\n",
       "      <td>7.755767</td>\n",
       "      <td>4000.0</td>\n",
       "      <td>8.294300</td>\n",
       "      <td>Naive T cell</td>\n",
       "    </tr>\n",
       "    <tr>\n",
       "      <th>esophagus_muscularis_SM-A8CPH_1+AGGTCACTGAGCTTACAATCGT</th>\n",
       "      <td>768</td>\n",
       "      <td>6.645091</td>\n",
       "      <td>1181.0</td>\n",
       "      <td>7.074963</td>\n",
       "      <td>Naive T cell</td>\n",
       "    </tr>\n",
       "    <tr>\n",
       "      <th>esophagus_muscularis_SM-A8CPH_1+AGTCGGAACGCCCAAGATCGAC</th>\n",
       "      <td>2940</td>\n",
       "      <td>7.986505</td>\n",
       "      <td>4891.0</td>\n",
       "      <td>8.495357</td>\n",
       "      <td>Naive T cell</td>\n",
       "    </tr>\n",
       "    <tr>\n",
       "      <th>...</th>\n",
       "      <td>...</td>\n",
       "      <td>...</td>\n",
       "      <td>...</td>\n",
       "      <td>...</td>\n",
       "      <td>...</td>\n",
       "    </tr>\n",
       "    <tr>\n",
       "      <th>esophagus_muscularis_SM-A8CPH_1+CCATCTGGCATGCGATCGTTAG</th>\n",
       "      <td>1612</td>\n",
       "      <td>7.385851</td>\n",
       "      <td>2685.0</td>\n",
       "      <td>7.895808</td>\n",
       "      <td>Fibroblast (Gastrointestinal)</td>\n",
       "    </tr>\n",
       "    <tr>\n",
       "      <th>esophagus_muscularis_SM-A8CPH_1+TTATGGATGCAAAGGATCGGCT</th>\n",
       "      <td>539</td>\n",
       "      <td>6.291569</td>\n",
       "      <td>888.0</td>\n",
       "      <td>6.790097</td>\n",
       "      <td>Fibroblast (Gastrointestinal)</td>\n",
       "    </tr>\n",
       "    <tr>\n",
       "      <th>esophagus_muscularis_SM-A8CPH_1+ACGTGTTGGTGAGTGTGGCATA</th>\n",
       "      <td>1005</td>\n",
       "      <td>6.913737</td>\n",
       "      <td>1593.0</td>\n",
       "      <td>7.374002</td>\n",
       "      <td>Smooth Muscle (Colon) 1</td>\n",
       "    </tr>\n",
       "    <tr>\n",
       "      <th>esophagus_muscularis_SM-A8CPH_1+GGCACGAACAATACTAAGCGCT</th>\n",
       "      <td>1209</td>\n",
       "      <td>7.098376</td>\n",
       "      <td>1920.0</td>\n",
       "      <td>7.560601</td>\n",
       "      <td>Smooth Muscle (Colon) 1</td>\n",
       "    </tr>\n",
       "    <tr>\n",
       "      <th>esophagus_muscularis_SM-A8CPH_1+GGCACGAACAGTGTCATGAAAG</th>\n",
       "      <td>1557</td>\n",
       "      <td>7.351158</td>\n",
       "      <td>2411.0</td>\n",
       "      <td>7.788211</td>\n",
       "      <td>Smooth Muscle (Colon) 1</td>\n",
       "    </tr>\n",
       "  </tbody>\n",
       "</table>\n",
       "<p>10997 rows × 5 columns</p>\n",
       "</div>"
      ],
      "text/plain": [
       "                                                    n_genes_by_counts  \\\n",
       "esophagus_muscularis_SM-A8CPH_1+AAGCTATACCGCTTC...               6264   \n",
       "esophagus_muscularis_SM-A8CPH_1+AATTCGGATGAAATG...                827   \n",
       "esophagus_muscularis_SM-A8CPH_1+ACTGCACAGAGTCCA...               2334   \n",
       "esophagus_muscularis_SM-A8CPH_1+AGGTCACTGAGCTTA...                768   \n",
       "esophagus_muscularis_SM-A8CPH_1+AGTCGGAACGCCCAA...               2940   \n",
       "...                                                               ...   \n",
       "esophagus_muscularis_SM-A8CPH_1+CCATCTGGCATGCGA...               1612   \n",
       "esophagus_muscularis_SM-A8CPH_1+TTATGGATGCAAAGG...                539   \n",
       "esophagus_muscularis_SM-A8CPH_1+ACGTGTTGGTGAGTG...               1005   \n",
       "esophagus_muscularis_SM-A8CPH_1+GGCACGAACAATACT...               1209   \n",
       "esophagus_muscularis_SM-A8CPH_1+GGCACGAACAGTGTC...               1557   \n",
       "\n",
       "                                                    log1p_n_genes_by_counts  \\\n",
       "esophagus_muscularis_SM-A8CPH_1+AAGCTATACCGCTTC...                 8.742734   \n",
       "esophagus_muscularis_SM-A8CPH_1+AATTCGGATGAAATG...                 6.719013   \n",
       "esophagus_muscularis_SM-A8CPH_1+ACTGCACAGAGTCCA...                 7.755767   \n",
       "esophagus_muscularis_SM-A8CPH_1+AGGTCACTGAGCTTA...                 6.645091   \n",
       "esophagus_muscularis_SM-A8CPH_1+AGTCGGAACGCCCAA...                 7.986505   \n",
       "...                                                                     ...   \n",
       "esophagus_muscularis_SM-A8CPH_1+CCATCTGGCATGCGA...                 7.385851   \n",
       "esophagus_muscularis_SM-A8CPH_1+TTATGGATGCAAAGG...                 6.291569   \n",
       "esophagus_muscularis_SM-A8CPH_1+ACGTGTTGGTGAGTG...                 6.913737   \n",
       "esophagus_muscularis_SM-A8CPH_1+GGCACGAACAATACT...                 7.098376   \n",
       "esophagus_muscularis_SM-A8CPH_1+GGCACGAACAGTGTC...                 7.351158   \n",
       "\n",
       "                                                    total_counts  \\\n",
       "esophagus_muscularis_SM-A8CPH_1+AAGCTATACCGCTTC...       10835.0   \n",
       "esophagus_muscularis_SM-A8CPH_1+AATTCGGATGAAATG...        1365.0   \n",
       "esophagus_muscularis_SM-A8CPH_1+ACTGCACAGAGTCCA...        4000.0   \n",
       "esophagus_muscularis_SM-A8CPH_1+AGGTCACTGAGCTTA...        1181.0   \n",
       "esophagus_muscularis_SM-A8CPH_1+AGTCGGAACGCCCAA...        4891.0   \n",
       "...                                                          ...   \n",
       "esophagus_muscularis_SM-A8CPH_1+CCATCTGGCATGCGA...        2685.0   \n",
       "esophagus_muscularis_SM-A8CPH_1+TTATGGATGCAAAGG...         888.0   \n",
       "esophagus_muscularis_SM-A8CPH_1+ACGTGTTGGTGAGTG...        1593.0   \n",
       "esophagus_muscularis_SM-A8CPH_1+GGCACGAACAATACT...        1920.0   \n",
       "esophagus_muscularis_SM-A8CPH_1+GGCACGAACAGTGTC...        2411.0   \n",
       "\n",
       "                                                    log1p_total_counts  \\\n",
       "esophagus_muscularis_SM-A8CPH_1+AAGCTATACCGCTTC...            9.290629   \n",
       "esophagus_muscularis_SM-A8CPH_1+AATTCGGATGAAATG...            7.219642   \n",
       "esophagus_muscularis_SM-A8CPH_1+ACTGCACAGAGTCCA...            8.294300   \n",
       "esophagus_muscularis_SM-A8CPH_1+AGGTCACTGAGCTTA...            7.074963   \n",
       "esophagus_muscularis_SM-A8CPH_1+AGTCGGAACGCCCAA...            8.495357   \n",
       "...                                                                ...   \n",
       "esophagus_muscularis_SM-A8CPH_1+CCATCTGGCATGCGA...            7.895808   \n",
       "esophagus_muscularis_SM-A8CPH_1+TTATGGATGCAAAGG...            6.790097   \n",
       "esophagus_muscularis_SM-A8CPH_1+ACGTGTTGGTGAGTG...            7.374002   \n",
       "esophagus_muscularis_SM-A8CPH_1+GGCACGAACAATACT...            7.560601   \n",
       "esophagus_muscularis_SM-A8CPH_1+GGCACGAACAGTGTC...            7.788211   \n",
       "\n",
       "                                                                        cell type  \n",
       "esophagus_muscularis_SM-A8CPH_1+AAGCTATACCGCTTC...                   Naive T cell  \n",
       "esophagus_muscularis_SM-A8CPH_1+AATTCGGATGAAATG...                   Naive T cell  \n",
       "esophagus_muscularis_SM-A8CPH_1+ACTGCACAGAGTCCA...                   Naive T cell  \n",
       "esophagus_muscularis_SM-A8CPH_1+AGGTCACTGAGCTTA...                   Naive T cell  \n",
       "esophagus_muscularis_SM-A8CPH_1+AGTCGGAACGCCCAA...                   Naive T cell  \n",
       "...                                                                           ...  \n",
       "esophagus_muscularis_SM-A8CPH_1+CCATCTGGCATGCGA...  Fibroblast (Gastrointestinal)  \n",
       "esophagus_muscularis_SM-A8CPH_1+TTATGGATGCAAAGG...  Fibroblast (Gastrointestinal)  \n",
       "esophagus_muscularis_SM-A8CPH_1+ACGTGTTGGTGAGTG...        Smooth Muscle (Colon) 1  \n",
       "esophagus_muscularis_SM-A8CPH_1+GGCACGAACAATACT...        Smooth Muscle (Colon) 1  \n",
       "esophagus_muscularis_SM-A8CPH_1+GGCACGAACAGTGTC...        Smooth Muscle (Colon) 1  \n",
       "\n",
       "[10997 rows x 5 columns]"
      ]
     },
     "execution_count": 7,
     "metadata": {},
     "output_type": "execute_result"
    }
   ],
   "source": [
    "adata.obs"
   ]
  },
  {
   "cell_type": "code",
   "execution_count": 8,
   "id": "19f22a51",
   "metadata": {},
   "outputs": [
    {
     "name": "stdout",
     "output_type": "stream",
     "text": [
      "/mnt/workspace_stud/allstud/wp1/data/gencode.v38.annotation.gtf already exists.\n"
     ]
    }
   ],
   "source": [
    "utils.download(gtf_path, gtf_url)"
   ]
  },
  {
   "cell_type": "code",
   "execution_count": 9,
   "id": "125a1aab",
   "metadata": {},
   "outputs": [
    {
     "name": "stdout",
     "output_type": "stream",
     "text": [
      "CPU times: user 11.4 s, sys: 1.24 s, total: 12.6 s\n",
      "Wall time: 12.6 s\n"
     ]
    }
   ],
   "source": [
    "%%time\n",
    "utils.find_genes(adata,\n",
    "        gtf_file=gtf_path,\n",
    "        key_added='gene_annotation',\n",
    "        upstream=5000,\n",
    "        downstream=2000,\n",
    "        feature_type='gene',\n",
    "        annotation='HAVANA')"
   ]
  },
  {
   "cell_type": "code",
   "execution_count": 10,
   "id": "71071ebe",
   "metadata": {},
   "outputs": [
    {
     "data": {
      "text/html": [
       "<div>\n",
       "<style scoped>\n",
       "    .dataframe tbody tr th:only-of-type {\n",
       "        vertical-align: middle;\n",
       "    }\n",
       "\n",
       "    .dataframe tbody tr th {\n",
       "        vertical-align: top;\n",
       "    }\n",
       "\n",
       "    .dataframe thead th {\n",
       "        text-align: right;\n",
       "    }\n",
       "</style>\n",
       "<table border=\"1\" class=\"dataframe\">\n",
       "  <thead>\n",
       "    <tr style=\"text-align: right;\">\n",
       "      <th></th>\n",
       "      <th>n_cells_by_counts</th>\n",
       "      <th>mean_counts</th>\n",
       "      <th>log1p_mean_counts</th>\n",
       "      <th>pct_dropout_by_counts</th>\n",
       "      <th>total_counts</th>\n",
       "      <th>log1p_total_counts</th>\n",
       "      <th>gene_annotation</th>\n",
       "    </tr>\n",
       "    <tr>\n",
       "      <th>index</th>\n",
       "      <th></th>\n",
       "      <th></th>\n",
       "      <th></th>\n",
       "      <th></th>\n",
       "      <th></th>\n",
       "      <th></th>\n",
       "      <th></th>\n",
       "    </tr>\n",
       "  </thead>\n",
       "  <tbody>\n",
       "    <tr>\n",
       "      <th>chr1:9955-10355</th>\n",
       "      <td>226</td>\n",
       "      <td>0.037738</td>\n",
       "      <td>0.037043</td>\n",
       "      <td>97.944894</td>\n",
       "      <td>415.0</td>\n",
       "      <td>6.030685</td>\n",
       "      <td>DDX11L1</td>\n",
       "    </tr>\n",
       "    <tr>\n",
       "      <th>chr1:29163-29563</th>\n",
       "      <td>3</td>\n",
       "      <td>0.000364</td>\n",
       "      <td>0.000364</td>\n",
       "      <td>99.972720</td>\n",
       "      <td>4.0</td>\n",
       "      <td>1.609438</td>\n",
       "      <td>MIR1302-2HG;WASH7P</td>\n",
       "    </tr>\n",
       "    <tr>\n",
       "      <th>chr1:79215-79615</th>\n",
       "      <td>0</td>\n",
       "      <td>0.000000</td>\n",
       "      <td>0.000000</td>\n",
       "      <td>100.000000</td>\n",
       "      <td>0.0</td>\n",
       "      <td>0.000000</td>\n",
       "      <td>intergenic</td>\n",
       "    </tr>\n",
       "    <tr>\n",
       "      <th>chr1:102755-103155</th>\n",
       "      <td>0</td>\n",
       "      <td>0.000000</td>\n",
       "      <td>0.000000</td>\n",
       "      <td>100.000000</td>\n",
       "      <td>0.0</td>\n",
       "      <td>0.000000</td>\n",
       "      <td>RP11-34P13.7</td>\n",
       "    </tr>\n",
       "    <tr>\n",
       "      <th>chr1:180580-180980</th>\n",
       "      <td>182</td>\n",
       "      <td>0.032827</td>\n",
       "      <td>0.032300</td>\n",
       "      <td>98.345003</td>\n",
       "      <td>361.0</td>\n",
       "      <td>5.891644</td>\n",
       "      <td>DDX11L17</td>\n",
       "    </tr>\n",
       "    <tr>\n",
       "      <th>...</th>\n",
       "      <td>...</td>\n",
       "      <td>...</td>\n",
       "      <td>...</td>\n",
       "      <td>...</td>\n",
       "      <td>...</td>\n",
       "      <td>...</td>\n",
       "      <td>...</td>\n",
       "    </tr>\n",
       "    <tr>\n",
       "      <th>chrY:56676947-56677347</th>\n",
       "      <td>0</td>\n",
       "      <td>0.000000</td>\n",
       "      <td>0.000000</td>\n",
       "      <td>100.000000</td>\n",
       "      <td>0.0</td>\n",
       "      <td>0.000000</td>\n",
       "      <td>intergenic</td>\n",
       "    </tr>\n",
       "    <tr>\n",
       "      <th>chrY:56677442-56677842</th>\n",
       "      <td>4</td>\n",
       "      <td>0.000364</td>\n",
       "      <td>0.000364</td>\n",
       "      <td>99.963626</td>\n",
       "      <td>4.0</td>\n",
       "      <td>1.609438</td>\n",
       "      <td>intergenic</td>\n",
       "    </tr>\n",
       "    <tr>\n",
       "      <th>chrY:56678029-56678429</th>\n",
       "      <td>11</td>\n",
       "      <td>0.001000</td>\n",
       "      <td>0.001000</td>\n",
       "      <td>99.899973</td>\n",
       "      <td>11.0</td>\n",
       "      <td>2.484907</td>\n",
       "      <td>intergenic</td>\n",
       "    </tr>\n",
       "    <tr>\n",
       "      <th>chrY:56678600-56679000</th>\n",
       "      <td>0</td>\n",
       "      <td>0.000000</td>\n",
       "      <td>0.000000</td>\n",
       "      <td>100.000000</td>\n",
       "      <td>0.0</td>\n",
       "      <td>0.000000</td>\n",
       "      <td>intergenic</td>\n",
       "    </tr>\n",
       "    <tr>\n",
       "      <th>chrY:56707025-56707425</th>\n",
       "      <td>20</td>\n",
       "      <td>0.003092</td>\n",
       "      <td>0.003087</td>\n",
       "      <td>99.818132</td>\n",
       "      <td>34.0</td>\n",
       "      <td>3.555348</td>\n",
       "      <td>intergenic</td>\n",
       "    </tr>\n",
       "  </tbody>\n",
       "</table>\n",
       "<p>1154611 rows × 7 columns</p>\n",
       "</div>"
      ],
      "text/plain": [
       "                        n_cells_by_counts  mean_counts  log1p_mean_counts  \\\n",
       "index                                                                       \n",
       "chr1:9955-10355                       226     0.037738           0.037043   \n",
       "chr1:29163-29563                        3     0.000364           0.000364   \n",
       "chr1:79215-79615                        0     0.000000           0.000000   \n",
       "chr1:102755-103155                      0     0.000000           0.000000   \n",
       "chr1:180580-180980                    182     0.032827           0.032300   \n",
       "...                                   ...          ...                ...   \n",
       "chrY:56676947-56677347                  0     0.000000           0.000000   \n",
       "chrY:56677442-56677842                  4     0.000364           0.000364   \n",
       "chrY:56678029-56678429                 11     0.001000           0.001000   \n",
       "chrY:56678600-56679000                  0     0.000000           0.000000   \n",
       "chrY:56707025-56707425                 20     0.003092           0.003087   \n",
       "\n",
       "                        pct_dropout_by_counts  total_counts  \\\n",
       "index                                                         \n",
       "chr1:9955-10355                     97.944894         415.0   \n",
       "chr1:29163-29563                    99.972720           4.0   \n",
       "chr1:79215-79615                   100.000000           0.0   \n",
       "chr1:102755-103155                 100.000000           0.0   \n",
       "chr1:180580-180980                  98.345003         361.0   \n",
       "...                                       ...           ...   \n",
       "chrY:56676947-56677347             100.000000           0.0   \n",
       "chrY:56677442-56677842              99.963626           4.0   \n",
       "chrY:56678029-56678429              99.899973          11.0   \n",
       "chrY:56678600-56679000             100.000000           0.0   \n",
       "chrY:56707025-56707425              99.818132          34.0   \n",
       "\n",
       "                        log1p_total_counts     gene_annotation  \n",
       "index                                                           \n",
       "chr1:9955-10355                   6.030685             DDX11L1  \n",
       "chr1:29163-29563                  1.609438  MIR1302-2HG;WASH7P  \n",
       "chr1:79215-79615                  0.000000          intergenic  \n",
       "chr1:102755-103155                0.000000        RP11-34P13.7  \n",
       "chr1:180580-180980                5.891644            DDX11L17  \n",
       "...                                    ...                 ...  \n",
       "chrY:56676947-56677347            0.000000          intergenic  \n",
       "chrY:56677442-56677842            1.609438          intergenic  \n",
       "chrY:56678029-56678429            2.484907          intergenic  \n",
       "chrY:56678600-56679000            0.000000          intergenic  \n",
       "chrY:56707025-56707425            3.555348          intergenic  \n",
       "\n",
       "[1154611 rows x 7 columns]"
      ]
     },
     "execution_count": 10,
     "metadata": {},
     "output_type": "execute_result"
    }
   ],
   "source": [
    "adata.var"
   ]
  },
  {
   "cell_type": "code",
   "execution_count": 11,
   "id": "80e2c23b",
   "metadata": {},
   "outputs": [],
   "source": [
    "adata.raw = adata\n",
    "epi.pp.binarize(adata)\n",
    "adata.layers['binarized'] = adata.X.copy()"
   ]
  },
  {
   "cell_type": "code",
   "execution_count": 12,
   "id": "60c48733",
   "metadata": {
    "scrolled": false
   },
   "outputs": [
    {
     "data": {
      "image/png": "[encoded data removed]",
      "text/plain": [
       "<Figure size 640x480 with 1 Axes>"
      ]
     },
     "metadata": {},
     "output_type": "display_data"
    },
    {
     "data": {
      "image/png": "[encoded data removed]",
      "text/plain": [
       "<Figure size 640x480 with 1 Axes>"
      ]
     },
     "metadata": {},
     "output_type": "display_data"
    },
    {
     "name": "stderr",
     "output_type": "stream",
     "text": [
      " UserWarning:/home/stud1/.conda/envs/datenanalyse/lib/python3.10/site-packages/episcanpy/preprocessing/_quality_control.py:58: \n",
      "\n",
      "`distplot` is a deprecated function and will be removed in seaborn v0.14.0.\n",
      "\n",
      "Please adapt your code to use either `displot` (a figure-level function with\n",
      "similar flexibility) or `histplot` (an axes-level function for histograms).\n",
      "\n",
      "For a guide to updating your code to use the new functions, please see\n",
      "https://gist.github.com/mwaskom/de44147ed2974457ad6372750bbe5751\n",
      "\n",
      " FutureWarning:/home/stud1/.conda/envs/datenanalyse/lib/python3.10/site-packages/seaborn/_oldcore.py:1498: is_categorical_dtype is deprecated and will be removed in a future version. Use isinstance(dtype, CategoricalDtype) instead\n",
      " FutureWarning:/home/stud1/.conda/envs/datenanalyse/lib/python3.10/site-packages/seaborn/_oldcore.py:1119: use_inf_as_na option is deprecated and will be removed in a future version. Convert inf values to NaN before operating instead.\n",
      " UserWarning:/home/stud1/.conda/envs/datenanalyse/lib/python3.10/site-packages/episcanpy/preprocessing/_quality_control.py:60: \n",
      "\n",
      "`distplot` is a deprecated function and will be removed in seaborn v0.14.0.\n",
      "\n",
      "Please adapt your code to use either `displot` (a figure-level function with\n",
      "similar flexibility) or `histplot` (an axes-level function for histograms).\n",
      "\n",
      "For a guide to updating your code to use the new functions, please see\n",
      "https://gist.github.com/mwaskom/de44147ed2974457ad6372750bbe5751\n",
      "\n",
      " FutureWarning:/home/stud1/.conda/envs/datenanalyse/lib/python3.10/site-packages/seaborn/_oldcore.py:1498: is_categorical_dtype is deprecated and will be removed in a future version. Use isinstance(dtype, CategoricalDtype) instead\n",
      " FutureWarning:/home/stud1/.conda/envs/datenanalyse/lib/python3.10/site-packages/seaborn/_oldcore.py:1119: use_inf_as_na option is deprecated and will be removed in a future version. Convert inf values to NaN before operating instead.\n"
     ]
    },
    {
     "data": {
      "image/png": "[encoded data removed]",
      "text/plain": [
       "<Figure size 640x480 with 2 Axes>"
      ]
     },
     "metadata": {},
     "output_type": "display_data"
    }
   ],
   "source": [
    "epi.pp.coverage_cells(adata, binary=True, log=False, bins=50,\n",
    "               threshold=100)\n",
    "epi.pp.coverage_cells(adata, binary=True, log=10, bins=50,\n",
    "               threshold=100)\n",
    "\n",
    "epi.pp.cal_var(adata)"
   ]
  },
  {
   "cell_type": "code",
   "execution_count": 13,
   "id": "20941e8f",
   "metadata": {},
   "outputs": [],
   "source": [
    "epi.pp.filter_cells(adata, min_features=100)\n",
    "epi.pp.filter_cells(adata, max_features=10000)"
   ]
  },
  {
   "cell_type": "code",
   "execution_count": 14,
   "id": "d554f0d2",
   "metadata": {},
   "outputs": [],
   "source": [
    "sc.pp.normalize_total(adata, exclude_highly_expressed=False, target_sum=None)\n",
    "adata.layers['normalized'] = adata.X.copy()\n",
    "epi.pp.log1p(adata)"
   ]
  },
  {
   "cell_type": "code",
   "execution_count": null,
   "id": "716e584d",
   "metadata": {},
   "outputs": [],
   "source": [
    "%%time\n",
    "sc.pp.pca(adata, n_comps=50, use_highly_variable=False)"
   ]
  },
  {
   "cell_type": "code",
   "execution_count": null,
   "id": "f16737fc",
   "metadata": {},
   "outputs": [],
   "source": [
    "sc.pl.pca_overview(adata, color=\"log1p_n_genes_by_counts\")"
   ]
  },
  {
   "cell_type": "code",
   "execution_count": null,
   "id": "47c64f7c",
   "metadata": {},
   "outputs": [],
   "source": [
    "start = 1\n",
    "n_pcs = 12\n",
    "adata.obsm[\"X_pca\"] = adata.obsm[\"X_pca\"][:, start:n_pcs]\n",
    "adata.varm[\"PCs\"] = adata.varm[\"PCs\"][:, start:n_pcs]\n",
    "\n",
    "if \"variance_ratio\" in adata.uns.get(\"pca\", {}):\n",
    "    adata.uns[\"pca\"][\"variance_ratio\"] = adata.uns[\"pca\"][\"variance_ratio\"][start:n_pcs]"
   ]
  },
  {
   "cell_type": "code",
   "execution_count": null,
   "id": "f212fbf5",
   "metadata": {},
   "outputs": [],
   "source": [
    "sc.pp.neighbors(adata, n_neighbors=15, method='umap', metric='euclidean')"
   ]
  },
  {
   "cell_type": "code",
   "execution_count": null,
   "id": "f47bafc1",
   "metadata": {},
   "outputs": [],
   "source": [
    "sc.tl.umap(adata, min_dist=0.1, spread=2.5)"
   ]
  },
  {
   "cell_type": "code",
   "execution_count": null,
   "id": "6b6fd789",
   "metadata": {},
   "outputs": [],
   "source": [
    "sc.pl.embedding(adata, basis='umap', ncols=3, show=False, color=\"log1p_n_genes_by_counts\")"
   ]
  },
  {
   "cell_type": "code",
   "execution_count": null,
   "id": "f69e0298",
   "metadata": {},
   "outputs": [],
   "source": [
    "sc.tl.louvain(adata, resolution=1.0)"
   ]
  },
  {
   "cell_type": "code",
   "execution_count": null,
   "id": "430e40e6",
   "metadata": {},
   "outputs": [],
   "source": [
    "sc.pl.embedding(adata, basis='umap', ncols=3, show=False, color=\"louvain\")"
   ]
  },
  {
   "cell_type": "code",
   "execution_count": null,
   "id": "a82510be",
   "metadata": {},
   "outputs": [],
   "source": [
    "sc.pl.embedding(adata, basis='umap', ncols=3, show=False, color=\"cell type\")"
   ]
  },
  {
   "cell_type": "code",
   "execution_count": null,
   "id": "242b5cff",
   "metadata": {},
   "outputs": [],
   "source": [
    "adata.write(\n",
    "        f\"{data_folder}/my_first_cluster.h5ad\",\n",
    "        compression=\"gzip\")"
   ]
  },
  {
   "cell_type": "code",
   "execution_count": null,
   "id": "73f300c0",
   "metadata": {},
   "outputs": [],
   "source": [
    "adata2 = epi.read_h5ad(f\"{data_folder}/my_first_cluster.h5ad\")"
   ]
  },
  {
   "cell_type": "code",
   "execution_count": null,
   "id": "06d531cd",
   "metadata": {},
   "outputs": [],
   "source": [
    "sc.pl.embedding(adata2, basis='umap', ncols=3, show=False, color=\"cell type\")"
   ]
  },
  {
   "cell_type": "code",
   "execution_count": null,
   "id": "54dea47f",
   "metadata": {},
   "outputs": [],
   "source": [
    "adata2"
   ]
  }
 ],
 "metadata": {
  "kernelspec": {
   "display_name": "datenanalyse",
   "language": "python",
   "name": "datenanalyse"
  },
  "language_info": {
   "codemirror_mode": {
    "name": "ipython",
    "version": 3
   },
   "file_extension": ".py",
   "mimetype": "text/x-python",
   "name": "python",
   "nbconvert_exporter": "python",
   "pygments_lexer": "ipython3",
   "version": "3.10.13"
  }
 },
 "nbformat": 4,
 "nbformat_minor": 5
}
