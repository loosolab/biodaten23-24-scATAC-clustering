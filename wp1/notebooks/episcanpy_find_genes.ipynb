{
 "cells": [
  {
   "cell_type": "markdown",
   "id": "e4ebf97d",
   "metadata": {},
   "source": [
    "# Test Episcanpy Gene Annotation"
   ]
  },
  {
   "cell_type": "markdown",
   "id": "05e6b30f",
   "metadata": {},
   "source": [
    "This Notebook explores episcanpy's find_genes function"
   ]
  },
  {
   "cell_type": "markdown",
   "id": "97eb979d",
   "metadata": {},
   "source": [
    "## 1. Imports"
   ]
  },
  {
   "cell_type": "code",
   "execution_count": 205,
   "id": "6a5230c1",
   "metadata": {},
   "outputs": [],
   "source": [
    "import os.path\n",
    "import tempfile\n",
    "from collections import defaultdict\n",
    "\n",
    "import anndata as ad\n",
    "import episcanpy as epi\n",
    "import matplotlib.pyplot as plt\n",
    "import numpy as np\n",
    "import pandas as pd\n",
    "import scanpy as sc\n",
    "import seaborn as sns"
   ]
  },
  {
   "cell_type": "markdown",
   "id": "83aacb1c",
   "metadata": {},
   "source": [
    "## 2. Calling find_genes on an example tissue, esophagus muscularis"
   ]
  },
  {
   "cell_type": "markdown",
   "id": "cddaf5d2",
   "metadata": {},
   "source": [
    "### 2.1. Constants"
   ]
  },
  {
   "cell_type": "code",
   "execution_count": 204,
   "id": "0678e072",
   "metadata": {},
   "outputs": [],
   "source": [
    "h5ad_path = \"/mnt/workspace_stud/mbentse/catlas_objects/esophagus_muscularis_SM-A8CPH.h5ad\"\n",
    "\n",
    "data_folder=\"/mnt/workspace_stud/allstud/wp1/data/\"\n",
    "\n",
    "gtf_url=\"https://ftp.ebi.ac.uk/pub/databases/gencode/Gencode_human/release_38/gencode.v38.annotation.gtf.gz\"\n",
    "gtf_filename=\"gencode.v38.annotation.gtf\""
   ]
  },
  {
   "cell_type": "markdown",
   "id": "85786ed7",
   "metadata": {},
   "source": [
    "### 2.2. Download gene annotations (hg38)"
   ]
  },
  {
   "cell_type": "code",
   "execution_count": 78,
   "id": "251369de",
   "metadata": {},
   "outputs": [
    {
     "name": "stdout",
     "output_type": "stream",
     "text": [
      "gencode.v38.annotation.gtf already exists in the data folder.\n"
     ]
    }
   ],
   "source": [
    "# Check if the file exists in the 'data' folder\n",
    "if os.path.exists(f\"{data_folder}/{gtf_filename}\"):\n",
    "    print(f\"{gtf_filename} already exists in the data folder.\")\n",
    "else:\n",
    "    print(f\"Downloading {gtf_filename}...\")\n",
    "    # Use ! to execute the Bash command directly\n",
    "    !wget -qO- {gtf_url} | gunzip > {data_folder}/{gtf_filename}\n",
    "    print(f\"Download and extraction of {gtf_filename} complete.\")"
   ]
  },
  {
   "cell_type": "markdown",
   "id": "dd77d93c",
   "metadata": {},
   "source": [
    "### 2.3. Read h5ad files and build anndata objects"
   ]
  },
  {
   "cell_type": "code",
   "execution_count": 20,
   "id": "4800fc9e",
   "metadata": {},
   "outputs": [],
   "source": [
    "adata = epi.read_h5ad(h5ad_path)"
   ]
  },
  {
   "cell_type": "markdown",
   "id": "fdf84cce",
   "metadata": {},
   "source": [
    "### 2.4. Rename var index from chr1:from-to to chr1_from_to"
   ]
  },
  {
   "cell_type": "code",
   "execution_count": 23,
   "id": "5b6c4478",
   "metadata": {},
   "outputs": [],
   "source": [
    "index = list()\n",
    "for n in adata.var_names.tolist():\n",
    "    parts = n.replace('-', '_').replace(':', '_').split('_')\n",
    "    # sometimes there are extra informations in this format, only read chrom, from and to\n",
    "    index.append(\"_\".join((parts[0], parts[-2], parts[-1])))\n",
    "adata.var_names = pd.Index(index)"
   ]
  },
  {
   "cell_type": "code",
   "execution_count": 24,
   "id": "46fafc23",
   "metadata": {
    "scrolled": false
   },
   "outputs": [
    {
     "data": {
      "text/html": [
       "<div>\n",
       "<style scoped>\n",
       "    .dataframe tbody tr th:only-of-type {\n",
       "        vertical-align: middle;\n",
       "    }\n",
       "\n",
       "    .dataframe tbody tr th {\n",
       "        vertical-align: top;\n",
       "    }\n",
       "\n",
       "    .dataframe thead th {\n",
       "        text-align: right;\n",
       "    }\n",
       "</style>\n",
       "<table border=\"1\" class=\"dataframe\">\n",
       "  <thead>\n",
       "    <tr style=\"text-align: right;\">\n",
       "      <th></th>\n",
       "    </tr>\n",
       "  </thead>\n",
       "  <tbody>\n",
       "    <tr>\n",
       "      <th>chr1_9955_10355</th>\n",
       "    </tr>\n",
       "    <tr>\n",
       "      <th>chr1_29163_29563</th>\n",
       "    </tr>\n",
       "    <tr>\n",
       "      <th>chr1_79215_79615</th>\n",
       "    </tr>\n",
       "    <tr>\n",
       "      <th>chr1_102755_103155</th>\n",
       "    </tr>\n",
       "    <tr>\n",
       "      <th>chr1_180580_180980</th>\n",
       "    </tr>\n",
       "    <tr>\n",
       "      <th>...</th>\n",
       "    </tr>\n",
       "    <tr>\n",
       "      <th>chrY_56676947_56677347</th>\n",
       "    </tr>\n",
       "    <tr>\n",
       "      <th>chrY_56677442_56677842</th>\n",
       "    </tr>\n",
       "    <tr>\n",
       "      <th>chrY_56678029_56678429</th>\n",
       "    </tr>\n",
       "    <tr>\n",
       "      <th>chrY_56678600_56679000</th>\n",
       "    </tr>\n",
       "    <tr>\n",
       "      <th>chrY_56707025_56707425</th>\n",
       "    </tr>\n",
       "  </tbody>\n",
       "</table>\n",
       "<p>1154611 rows × 0 columns</p>\n",
       "</div>"
      ],
      "text/plain": [
       "Empty DataFrame\n",
       "Columns: []\n",
       "Index: [chr1_9955_10355, chr1_29163_29563, chr1_79215_79615, chr1_102755_103155, chr1_180580_180980, chr1_181273_181673, chr1_184281_184681, chr1_185527_185927, chr1_191294_191694, chr1_267803_268203, chr1_276109_276509, chr1_629065_629465, chr1_630110_630510, chr1_631178_631578, chr1_632120_632520, chr1_633354_633754, chr1_633824_634224, chr1_727023_727423, chr1_778525_778925, chr1_778985_779385, chr1_779618_780018, chr1_794897_795297, chr1_804733_805133, chr1_817141_817541, chr1_817901_818301, chr1_818585_818985, chr1_819832_820232, chr1_821262_821662, chr1_826875_827275, chr1_827359_827759, chr1_830730_831130, chr1_831611_832011, chr1_832113_832513, chr1_832724_833124, chr1_835499_835899, chr1_844611_845011, chr1_850296_850696, chr1_851394_851794, chr1_851927_852327, chr1_856585_856985, chr1_858638_859038, chr1_865634_866034, chr1_866135_866535, chr1_868861_869261, chr1_869724_870124, chr1_876148_876548, chr1_895518_895918, chr1_897595_897995, chr1_898674_899074, chr1_904538_904938, chr1_905248_905648, chr1_906127_906527, chr1_906768_907168, chr1_910005_910405, chr1_910522_910922, chr1_911152_911552, chr1_913583_913983, chr1_916502_916902, chr1_920273_920673, chr1_921040_921440, chr1_923663_924063, chr1_924140_924540, chr1_924560_924960, chr1_925472_925872, chr1_927483_927883, chr1_930738_931138, chr1_931776_932176, chr1_933082_933482, chr1_936869_937269, chr1_938058_938458, chr1_940125_940525, chr1_940684_941084, chr1_941110_941510, chr1_941634_942034, chr1_942370_942770, chr1_943167_943567, chr1_944266_944666, chr1_944691_945091, chr1_950265_950665, chr1_959124_959524, chr1_959610_960010, chr1_960365_960765, chr1_960775_961175, chr1_966263_966663, chr1_966800_967200, chr1_967995_968395, chr1_970716_971116, chr1_971271_971671, chr1_972122_972522, chr1_973139_973539, chr1_973852_974252, chr1_976001_976401, chr1_976780_977180, chr1_977967_978367, chr1_978588_978988, chr1_980026_980426, chr1_980587_980987, chr1_982026_982426, chr1_984123_984523, chr1_984619_985019, ...]\n",
       "\n",
       "[1154611 rows x 0 columns]"
      ]
     },
     "execution_count": 24,
     "metadata": {},
     "output_type": "execute_result"
    }
   ],
   "source": [
    "adata.var"
   ]
  },
  {
   "cell_type": "markdown",
   "id": "59d35fd5",
   "metadata": {},
   "source": [
    "### 2.5. call find_genes"
   ]
  },
  {
   "cell_type": "markdown",
   "id": "1dff964f",
   "metadata": {},
   "source": [
    "The parameters are taken from the episcan tutorial on scATAC-Seq\n",
    "https://nbviewer.org/github/colomemaria/epiScanpy/blob/master/docs/tutorials/Buenrostro_PBMC_data_processing.html\n",
    "\n",
    "We should try our own parameters later."
   ]
  },
  {
   "cell_type": "code",
   "execution_count": 26,
   "id": "b4be1825",
   "metadata": {},
   "outputs": [
    {
     "name": "stdout",
     "output_type": "stream",
     "text": [
      "CPU times: user 1min 20s, sys: 2.41 s, total: 1min 22s\n",
      "Wall time: 1min 23s\n"
     ]
    }
   ],
   "source": [
    "%%time\n",
    "epi.tl.find_genes(adata,\n",
    "           gtf_file=f\"{data_folder}/{gtf_filename}\",\n",
    "           key_added='gene_annotation',\n",
    "           upstream=2000,\n",
    "           feature_type='gene',\n",
    "           annotation='HAVANA',\n",
    "           raw=False)"
   ]
  },
  {
   "cell_type": "markdown",
   "id": "21ce14a2",
   "metadata": {},
   "source": [
    "This runs for quite some time."
   ]
  },
  {
   "cell_type": "markdown",
   "id": "d1bdec3c",
   "metadata": {},
   "source": [
    "## 3. Explore the annotations by plotting"
   ]
  },
  {
   "cell_type": "markdown",
   "id": "546b541e",
   "metadata": {},
   "source": [
    "### 3.1. prepare data, sum gene by count"
   ]
  },
  {
   "cell_type": "code",
   "execution_count": 35,
   "id": "738654f7",
   "metadata": {},
   "outputs": [],
   "source": [
    "split_genes = adata.var['gene_annotation'].str.split(';')"
   ]
  },
  {
   "cell_type": "code",
   "execution_count": 64,
   "id": "58ff2c7c",
   "metadata": {},
   "outputs": [
    {
     "data": {
      "text/plain": [
       "chr1_9955_10355                      [DDX11L1]\n",
       "chr1_29163_29563         [WASH7P, MIR1302-2HG]\n",
       "chr1_79215_79615                  [intergenic]\n",
       "chr1_102755_103155              [RP11-34P13.7]\n",
       "chr1_180580_180980                  [DDX11L17]\n",
       "chr1_181273_181673                  [DDX11L17]\n",
       "chr1_184281_184681                [intergenic]\n",
       "chr1_185527_185927                    [WASH9P]\n",
       "chr1_191294_191694                    [WASH9P]\n",
       "chr1_267803_268203    [AP006222.3, AP006222.1]\n",
       "Name: gene_annotation, dtype: object"
      ]
     },
     "execution_count": 64,
     "metadata": {},
     "output_type": "execute_result"
    }
   ],
   "source": [
    "split_genes[:10]"
   ]
  },
  {
   "cell_type": "code",
   "execution_count": 38,
   "id": "2d1b3c93",
   "metadata": {},
   "outputs": [],
   "source": [
    "flattened_data = []\n",
    "for index, genes in split_genes.items():\n",
    "    for gene in genes:\n",
    "        flattened_data.append([index, gene])"
   ]
  },
  {
   "cell_type": "code",
   "execution_count": 39,
   "id": "b3f036ed",
   "metadata": {},
   "outputs": [
    {
     "data": {
      "text/plain": [
       "[['chr1_9955_10355', 'DDX11L1'],\n",
       " ['chr1_29163_29563', 'WASH7P'],\n",
       " ['chr1_29163_29563', 'MIR1302-2HG'],\n",
       " ['chr1_79215_79615', 'intergenic'],\n",
       " ['chr1_102755_103155', 'RP11-34P13.7'],\n",
       " ['chr1_180580_180980', 'DDX11L17'],\n",
       " ['chr1_181273_181673', 'DDX11L17'],\n",
       " ['chr1_184281_184681', 'intergenic'],\n",
       " ['chr1_185527_185927', 'WASH9P'],\n",
       " ['chr1_191294_191694', 'WASH9P']]"
      ]
     },
     "execution_count": 39,
     "metadata": {},
     "output_type": "execute_result"
    }
   ],
   "source": [
    "flattened_data[:10]"
   ]
  },
  {
   "cell_type": "code",
   "execution_count": 40,
   "id": "89371dd0",
   "metadata": {},
   "outputs": [],
   "source": [
    "flattened_df = pd.DataFrame(flattened_data, columns=['region', 'gene'])"
   ]
  },
  {
   "cell_type": "code",
   "execution_count": 41,
   "id": "03af91e1",
   "metadata": {},
   "outputs": [
    {
     "data": {
      "text/html": [
       "<div>\n",
       "<style scoped>\n",
       "    .dataframe tbody tr th:only-of-type {\n",
       "        vertical-align: middle;\n",
       "    }\n",
       "\n",
       "    .dataframe tbody tr th {\n",
       "        vertical-align: top;\n",
       "    }\n",
       "\n",
       "    .dataframe thead th {\n",
       "        text-align: right;\n",
       "    }\n",
       "</style>\n",
       "<table border=\"1\" class=\"dataframe\">\n",
       "  <thead>\n",
       "    <tr style=\"text-align: right;\">\n",
       "      <th></th>\n",
       "      <th>region</th>\n",
       "      <th>gene</th>\n",
       "    </tr>\n",
       "  </thead>\n",
       "  <tbody>\n",
       "    <tr>\n",
       "      <th>0</th>\n",
       "      <td>chr1_9955_10355</td>\n",
       "      <td>DDX11L1</td>\n",
       "    </tr>\n",
       "    <tr>\n",
       "      <th>1</th>\n",
       "      <td>chr1_29163_29563</td>\n",
       "      <td>WASH7P</td>\n",
       "    </tr>\n",
       "    <tr>\n",
       "      <th>2</th>\n",
       "      <td>chr1_29163_29563</td>\n",
       "      <td>MIR1302-2HG</td>\n",
       "    </tr>\n",
       "    <tr>\n",
       "      <th>3</th>\n",
       "      <td>chr1_79215_79615</td>\n",
       "      <td>intergenic</td>\n",
       "    </tr>\n",
       "    <tr>\n",
       "      <th>4</th>\n",
       "      <td>chr1_102755_103155</td>\n",
       "      <td>RP11-34P13.7</td>\n",
       "    </tr>\n",
       "    <tr>\n",
       "      <th>...</th>\n",
       "      <td>...</td>\n",
       "      <td>...</td>\n",
       "    </tr>\n",
       "    <tr>\n",
       "      <th>1305549</th>\n",
       "      <td>chrY_56676947_56677347</td>\n",
       "      <td>unassigned</td>\n",
       "    </tr>\n",
       "    <tr>\n",
       "      <th>1305550</th>\n",
       "      <td>chrY_56677442_56677842</td>\n",
       "      <td>unassigned</td>\n",
       "    </tr>\n",
       "    <tr>\n",
       "      <th>1305551</th>\n",
       "      <td>chrY_56678029_56678429</td>\n",
       "      <td>unassigned</td>\n",
       "    </tr>\n",
       "    <tr>\n",
       "      <th>1305552</th>\n",
       "      <td>chrY_56678600_56679000</td>\n",
       "      <td>unassigned</td>\n",
       "    </tr>\n",
       "    <tr>\n",
       "      <th>1305553</th>\n",
       "      <td>chrY_56707025_56707425</td>\n",
       "      <td>unassigned</td>\n",
       "    </tr>\n",
       "  </tbody>\n",
       "</table>\n",
       "<p>1305554 rows × 2 columns</p>\n",
       "</div>"
      ],
      "text/plain": [
       "                         region          gene\n",
       "0               chr1_9955_10355       DDX11L1\n",
       "1              chr1_29163_29563        WASH7P\n",
       "2              chr1_29163_29563   MIR1302-2HG\n",
       "3              chr1_79215_79615    intergenic\n",
       "4            chr1_102755_103155  RP11-34P13.7\n",
       "...                         ...           ...\n",
       "1305549  chrY_56676947_56677347    unassigned\n",
       "1305550  chrY_56677442_56677842    unassigned\n",
       "1305551  chrY_56678029_56678429    unassigned\n",
       "1305552  chrY_56678600_56679000    unassigned\n",
       "1305553  chrY_56707025_56707425    unassigned\n",
       "\n",
       "[1305554 rows x 2 columns]"
      ]
     },
     "execution_count": 41,
     "metadata": {},
     "output_type": "execute_result"
    }
   ],
   "source": [
    "flattened_df"
   ]
  },
  {
   "cell_type": "code",
   "execution_count": 54,
   "id": "e11c9c86",
   "metadata": {},
   "outputs": [],
   "source": [
    "gene_counts = flattened_df.groupby('gene').count()\n",
    "gene_counts.rename(columns={'region': 'region_count'}, inplace=True)"
   ]
  },
  {
   "cell_type": "code",
   "execution_count": 55,
   "id": "81e92685",
   "metadata": {},
   "outputs": [
    {
     "data": {
      "text/html": [
       "<div>\n",
       "<style scoped>\n",
       "    .dataframe tbody tr th:only-of-type {\n",
       "        vertical-align: middle;\n",
       "    }\n",
       "\n",
       "    .dataframe tbody tr th {\n",
       "        vertical-align: top;\n",
       "    }\n",
       "\n",
       "    .dataframe thead th {\n",
       "        text-align: right;\n",
       "    }\n",
       "</style>\n",
       "<table border=\"1\" class=\"dataframe\">\n",
       "  <thead>\n",
       "    <tr style=\"text-align: right;\">\n",
       "      <th></th>\n",
       "      <th>region_count</th>\n",
       "    </tr>\n",
       "    <tr>\n",
       "      <th>gene</th>\n",
       "      <th></th>\n",
       "    </tr>\n",
       "  </thead>\n",
       "  <tbody>\n",
       "    <tr>\n",
       "      <th>A1BG</th>\n",
       "      <td>6</td>\n",
       "    </tr>\n",
       "    <tr>\n",
       "      <th>A1BG-AS1</th>\n",
       "      <td>6</td>\n",
       "    </tr>\n",
       "    <tr>\n",
       "      <th>A1CF</th>\n",
       "      <td>32</td>\n",
       "    </tr>\n",
       "    <tr>\n",
       "      <th>A2M</th>\n",
       "      <td>25</td>\n",
       "    </tr>\n",
       "    <tr>\n",
       "      <th>A2M-AS1</th>\n",
       "      <td>3</td>\n",
       "    </tr>\n",
       "    <tr>\n",
       "      <th>...</th>\n",
       "      <td>...</td>\n",
       "    </tr>\n",
       "    <tr>\n",
       "      <th>bP-2189O9.5</th>\n",
       "      <td>5</td>\n",
       "    </tr>\n",
       "    <tr>\n",
       "      <th>hsa-mir-423</th>\n",
       "      <td>1</td>\n",
       "    </tr>\n",
       "    <tr>\n",
       "      <th>intergenic</th>\n",
       "      <td>336628</td>\n",
       "    </tr>\n",
       "    <tr>\n",
       "      <th>unassigned</th>\n",
       "      <td>5</td>\n",
       "    </tr>\n",
       "    <tr>\n",
       "      <th>yR211F11.2</th>\n",
       "      <td>5</td>\n",
       "    </tr>\n",
       "  </tbody>\n",
       "</table>\n",
       "<p>45254 rows × 1 columns</p>\n",
       "</div>"
      ],
      "text/plain": [
       "             region_count\n",
       "gene                     \n",
       "A1BG                    6\n",
       "A1BG-AS1                6\n",
       "A1CF                   32\n",
       "A2M                    25\n",
       "A2M-AS1                 3\n",
       "...                   ...\n",
       "bP-2189O9.5             5\n",
       "hsa-mir-423             1\n",
       "intergenic         336628\n",
       "unassigned              5\n",
       "yR211F11.2              5\n",
       "\n",
       "[45254 rows x 1 columns]"
      ]
     },
     "execution_count": 55,
     "metadata": {},
     "output_type": "execute_result"
    }
   ],
   "source": [
    "gene_counts"
   ]
  },
  {
   "cell_type": "markdown",
   "id": "b4f04393",
   "metadata": {},
   "source": [
    "Noticing a lot of intergenic regions. We don't want to plot these. Maybe we should explore other settings for find_genes to annotate more regions, i.e. increase upstream, downstream, choose another annotation"
   ]
  },
  {
   "cell_type": "code",
   "execution_count": 56,
   "id": "5e3b4f90",
   "metadata": {},
   "outputs": [
    {
     "name": "stdout",
     "output_type": "stream",
     "text": [
      "intergenic: 336628\n",
      "unassigned: 5\n"
     ]
    }
   ],
   "source": [
    "print(f'intergenic: {gene_counts.loc[\"intergenic\"][\"region_count\"]}')\n",
    "print(f'unassigned: {gene_counts.loc[\"unassigned\"][\"region_count\"]}')"
   ]
  },
  {
   "cell_type": "code",
   "execution_count": 61,
   "id": "8f3c62ec",
   "metadata": {},
   "outputs": [],
   "source": [
    "# Drop 'intergenic' and 'unassigned' annotations\n",
    "gene_counts = gene_counts.drop(\"intergenic\")\n",
    "gene_counts = gene_counts.drop(\"unassigned\")"
   ]
  },
  {
   "cell_type": "markdown",
   "id": "af677838",
   "metadata": {},
   "source": [
    "### 3.2. Plot Top 80 Genes by region count"
   ]
  },
  {
   "cell_type": "code",
   "execution_count": 62,
   "id": "cbdc7c78",
   "metadata": {},
   "outputs": [
    {
     "data": {
      "image/png": "[encoded data removed]",
      "text/plain": [
       "<Figure size 1200x800 with 1 Axes>"
      ]
     },
     "metadata": {},
     "output_type": "display_data"
    }
   ],
   "source": [
    "top_n = 80\n",
    "gene_counts_sorted = gene_counts.sort_values(by=\"region_count\", ascending=False).head(top_n)\n",
    "\n",
    "# Plotting\n",
    "plt.figure(figsize=(12, 8))\n",
    "plt.bar(gene_counts_sorted.index, gene_counts_sorted[\"region_count\"])\n",
    "plt.xticks(rotation=90)\n",
    "plt.xlabel(\"Gene\")\n",
    "plt.ylabel(\"Count of Regions\")\n",
    "plt.title(f\"Top {top_n} Genes by Count of Associated Regions\")\n",
    "plt.tight_layout()\n",
    "plt.show()"
   ]
  },
  {
   "cell_type": "markdown",
   "id": "3efe0218",
   "metadata": {},
   "source": [
    "I looked up some of these genes, they all seem important in a lot of cells. So it looks like this data was generally correctly loaded"
   ]
  },
  {
   "cell_type": "markdown",
   "id": "56a3688b",
   "metadata": {},
   "source": [
    "### 3.3. Plot Distribution (Histogram) of region_count per gene_annotation"
   ]
  },
  {
   "cell_type": "code",
   "execution_count": 63,
   "id": "58d9a564",
   "metadata": {},
   "outputs": [
    {
     "name": "stderr",
     "output_type": "stream",
     "text": [
      " FutureWarning:/home/stud1/.conda/envs/datenanalyse/lib/python3.10/site-packages/seaborn/_oldcore.py:1498: is_categorical_dtype is deprecated and will be removed in a future version. Use isinstance(dtype, CategoricalDtype) instead\n",
      " FutureWarning:/home/stud1/.conda/envs/datenanalyse/lib/python3.10/site-packages/seaborn/_oldcore.py:1119: use_inf_as_na option is deprecated and will be removed in a future version. Convert inf values to NaN before operating instead.\n"
     ]
    },
    {
     "data": {
      "text/plain": [
       "<Figure size 1200x600 with 0 Axes>"
      ]
     },
     "metadata": {},
     "output_type": "display_data"
    },
    {
     "data": {
      "image/png": "[encoded data removed]",
      "text/plain": [
       "<Figure size 500x500 with 1 Axes>"
      ]
     },
     "metadata": {},
     "output_type": "display_data"
    }
   ],
   "source": [
    "plt.figure(figsize=(12, 6))\n",
    "sns.displot(gene_counts[\"region_count\"], kind='hist', log_scale=(False, True), bins=100)\n",
    "plt.xlabel(\"Count of Regions\")\n",
    "plt.ylabel(\"Frequency (log-scale)\")\n",
    "plt.title(\"Distribution of Region Counts Across Genes\")\n",
    "plt.show()"
   ]
  },
  {
   "cell_type": "markdown",
   "id": "70f428a8",
   "metadata": {},
   "source": [
    "This data is log plotted\n",
    "\n",
    "The data looks reasonable, some genes associated with a lot of regions, most genes only with a few."
   ]
  },
  {
   "cell_type": "markdown",
   "id": "8e8e3802",
   "metadata": {},
   "source": [
    "## 4. Speeding up find_genes"
   ]
  },
  {
   "cell_type": "markdown",
   "id": "4a888d88",
   "metadata": {},
   "source": [
    "Since find_genes takes quite some time (over a minute) this hinders experimentation. find_gene implements a O(N x M) lookup. We can trivially reduce that to O(N + M).\n",
    "\n",
    "We later want to test different parameters of find_genes quickly."
   ]
  },
  {
   "cell_type": "markdown",
   "id": "e040741b",
   "metadata": {},
   "source": [
    "### 4.1. Define my_find_genes"
   ]
  },
  {
   "cell_type": "code",
   "execution_count": 345,
   "id": "a6d70df2",
   "metadata": {},
   "outputs": [],
   "source": [
    "# keep the same parameters and default values as epi.tl.find_genes,\n",
    "# but dropping the raw parameter since it is not even used in episcanpy's find_genes\n",
    "def my_find_genes(adata,\n",
    "        gtf_file,\n",
    "        feature_type='gene',\n",
    "        annotation='HAVANA',\n",
    "        upstream=5000,\n",
    "        downstream=0,\n",
    "        key_added=\"gene_annotation\"):\n",
    "\n",
    "    def extract_gene_name(attributes):\n",
    "        attributes_list = attributes.split(';')\n",
    "        for attribute in attributes_list:\n",
    "            if 'gene_name' in attribute:\n",
    "                return attribute.split('\"')[1].strip()\n",
    "        raise KeyError(\"'gene_name' not found in gtf attributes\")\n",
    "    \n",
    "    def parse_region(region):\n",
    "        if ':' in region and '-' in region:\n",
    "            chrom, positions = region.split(':')\n",
    "            begin, end = map(int, positions.split('-'))\n",
    "        elif '_' in region:\n",
    "            chrom, begin, end = region.split('_')\n",
    "            begin, end = int(begin), int(end)\n",
    "        else:\n",
    "            raise ValueError(f\"Invalid region format: {region}\")\n",
    "        return chrom, begin, end\n",
    "\n",
    "    genes = defaultdict(list)\n",
    "    with open(gtf_file) as f:\n",
    "        for line in f:\n",
    "            # skip comment lines\n",
    "            if line.startswith('#'):\n",
    "                continue\n",
    "            \n",
    "            # gtf data is tab separated\n",
    "            fields = line.strip().split('\\t')\n",
    "            \n",
    "            # only read lines with the correct source and feature_type \n",
    "            if fields[1] != annotation or fields[2] != feature_type:\n",
    "                continue\n",
    "\n",
    "            chrom = fields[0]\n",
    "            start = int(fields[3])\n",
    "            end = int(fields[4])\n",
    "            strand = fields[6]\n",
    "            attributes = fields[8]\n",
    "            gene_name = extract_gene_name(attributes)\n",
    "\n",
    "            if strand == '+':\n",
    "                adjusted_start = start - upstream\n",
    "                adjusted_end = end + downstream\n",
    "            else:\n",
    "                adjusted_start = start - downstream\n",
    "                adjusted_end = end + upstream\n",
    "\n",
    "            genes[chrom].append((adjusted_start, adjusted_end, gene_name))\n",
    "    genes = dict(genes) # defaultdict -> dict\n",
    "\n",
    "    # Since we add upstream and downstream offsets, the list might be unsorted\n",
    "    for chrom in genes:\n",
    "        # sort by start\n",
    "        genes[chrom].sort(key=lambda x: x[0])\n",
    "\n",
    "    gene_annotations = defaultdict(set)\n",
    "\n",
    "    # Group and sort regions by chromosome\n",
    "    regions = defaultdict(list)\n",
    "    for region in adata.var_names.tolist():\n",
    "        chrom, start, end = parse_region(region)\n",
    "        regions[chrom].append((start, end, region))\n",
    "\n",
    "    for chrom in regions:\n",
    "        # sort by start\n",
    "        regions[chrom].sort(key=lambda x: x[0])\n",
    "        \n",
    "    # Perform a merge-like operation for each chromosome\n",
    "    for chrom in regions:\n",
    "        rs = regions[chrom]\n",
    "        try:\n",
    "            gs = genes[chrom]\n",
    "        except KeyError:\n",
    "            # chromosome not found in gtf\n",
    "            for region in rs:\n",
    "                gene_annotations[region[2]] = ['unassigned']\n",
    "            continue\n",
    "        \n",
    "        gene_pointer, region_pointer = 0, 0\n",
    "        while gene_pointer < len(gs) and region_pointer < len(rs):\n",
    "            gene_start, gene_end, gene_name = gs[gene_pointer]\n",
    "            region_start, region_end, region_name = rs[region_pointer]\n",
    "\n",
    "            if gene_end < region_start:\n",
    "                # Move to the next gene\n",
    "                gene_pointer += 1\n",
    "            elif gene_start > region_end:\n",
    "                # Move to the next region\n",
    "                region_pointer += 1\n",
    "                # check if this region has any genes assigned at all\n",
    "            else:\n",
    "                # Overlap detected\n",
    "                gene_annotations[region_name].add(gene_name)\n",
    "                \n",
    "                # look through all regions after region_pointer, then go to next gene\n",
    "                region_pointer2 = region_pointer + 1\n",
    "                while region_pointer2 < len(rs):\n",
    "                    region_start2, region_end2, region_name2 = rs[region_pointer2]\n",
    "                    if gene_end < region_start2:\n",
    "                        break\n",
    "                    gene_annotations[region_name2].add(gene_name)\n",
    "                    region_pointer2 += 1\n",
    "                gene_pointer += 1\n",
    "\n",
    "    # label unannotated regions as intergenic\n",
    "    all_gene_annotations = dict()\n",
    "    for chrom in regions:\n",
    "        for _region_start, _region_end, region_name in regions[chrom]:\n",
    "            annotation = gene_annotations[region_name]\n",
    "            annotation = \";\".join(sorted(annotation)) if len(annotation) > 0 else 'intergenic'\n",
    "            all_gene_annotations[region_name] = annotation\n",
    "            \n",
    "    # Update adata\n",
    "    update_df = pd.DataFrame.from_dict(all_gene_annotations, orient='index')\n",
    "    adata.var[key_added] = update_df"
   ]
  },
  {
   "cell_type": "code",
   "execution_count": 67,
   "id": "37526010",
   "metadata": {},
   "outputs": [
    {
     "name": "stdout",
     "output_type": "stream",
     "text": [
      "CPU times: user 8.28 s, sys: 1.03 s, total: 9.3 s\n",
      "Wall time: 9.29 s\n"
     ]
    }
   ],
   "source": [
    "%%time\n",
    "my_find_genes(adata,\n",
    "            gtf_file=f\"{data_folder}/{gtf_filename}\",\n",
    "            key_added='my_gene_annotation',\n",
    "            upstream=2000,\n",
    "            feature_type='gene',\n",
    "            annotation='HAVANA')"
   ]
  },
  {
   "cell_type": "markdown",
   "id": "04d2a305",
   "metadata": {},
   "source": [
    "This runs a lot faster. This is even more noticable between transcripts, we look into these later"
   ]
  },
  {
   "cell_type": "markdown",
   "id": "0a901131",
   "metadata": {},
   "source": [
    "### 4.2. Testing for correctness"
   ]
  },
  {
   "cell_type": "code",
   "execution_count": 70,
   "id": "e0984817",
   "metadata": {},
   "outputs": [
    {
     "data": {
      "text/plain": [
       "chr1_9955_10355                      DDX11L1\n",
       "chr1_29163_29563          WASH7P;MIR1302-2HG\n",
       "chr1_79215_79615                  intergenic\n",
       "chr1_102755_103155              RP11-34P13.7\n",
       "chr1_180580_180980                  DDX11L17\n",
       "                                 ...        \n",
       "chrY_56676947_56677347            unassigned\n",
       "chrY_56677442_56677842            unassigned\n",
       "chrY_56678029_56678429            unassigned\n",
       "chrY_56678600_56679000            unassigned\n",
       "chrY_56707025_56707425            unassigned\n",
       "Name: gene_annotation, Length: 1154611, dtype: object"
      ]
     },
     "execution_count": 70,
     "metadata": {},
     "output_type": "execute_result"
    }
   ],
   "source": [
    "adata.var[\"gene_annotation\"]"
   ]
  },
  {
   "cell_type": "code",
   "execution_count": 71,
   "id": "a9e92576",
   "metadata": {
    "scrolled": true
   },
   "outputs": [
    {
     "data": {
      "text/plain": [
       "chr1_9955_10355                      DDX11L1\n",
       "chr1_29163_29563          MIR1302-2HG;WASH7P\n",
       "chr1_79215_79615                  intergenic\n",
       "chr1_102755_103155              RP11-34P13.7\n",
       "chr1_180580_180980                  DDX11L17\n",
       "                                 ...        \n",
       "chrY_56676947_56677347            intergenic\n",
       "chrY_56677442_56677842            intergenic\n",
       "chrY_56678029_56678429            intergenic\n",
       "chrY_56678600_56679000            intergenic\n",
       "chrY_56707025_56707425            intergenic\n",
       "Name: my_gene_annotation, Length: 1154611, dtype: object"
      ]
     },
     "execution_count": 71,
     "metadata": {},
     "output_type": "execute_result"
    }
   ],
   "source": [
    "adata.var[\"my_gene_annotation\"]"
   ]
  },
  {
   "cell_type": "markdown",
   "id": "02557964",
   "metadata": {},
   "source": [
    "We can see two things from this already:\n",
    "\n",
    "1. the order of the genes in the output is different, region `chr1_29163_29563` is `WASH7P;MIR1302-2HG` for `find_genes` and `MIR1302-2HG;WASH7P` for `my_find_genes`\n",
    "\n",
    "Since we don't care which order the region is associated with the genes, we will just sort genes by `\";\".join(sorted(genes.split(\";\")))` from now on."
   ]
  },
  {
   "cell_type": "code",
   "execution_count": 89,
   "id": "e5b4e9de",
   "metadata": {
    "scrolled": true
   },
   "outputs": [
    {
     "name": "stdout",
     "output_type": "stream",
     "text": [
      "chrY\tHAVANA\tgene\t253743\t255091\t+\r\n",
      "chrY\tHAVANA\tgene\t276322\t303356\t+\r\n",
      "chrY\tHAVANA\tgene\t304529\t318819\t-\r\n",
      "chrY\tHAVANA\tgene\t320990\t321851\t+\r\n",
      "chrY\tHAVANA\tgene\t333933\t386955\t-\r\n",
      "chrY\tHAVANA\tgene\t386980\t405579\t+\r\n",
      "chrY\tHAVANA\tgene\t419157\t421980\t+\r\n",
      "chrY\tHAVANA\tgene\t523775\t524102\t-\r\n",
      "chrY\tHAVANA\tgene\t545236\t545352\t-\r\n",
      "chrY\tHAVANA\tgene\t624344\t659411\t+\r\n",
      "cut: write error: Broken pipe\r\n"
     ]
    }
   ],
   "source": [
    "!cat {data_folder}/{gtf_filename} | grep -P \"chrY\\tHAVANA\\tgene\" | cut -f1,2,3,4,5,7 | head"
   ]
  },
  {
   "cell_type": "markdown",
   "id": "26b8f21f",
   "metadata": {},
   "source": [
    "2. There are genes on chrY in the gtf_file so even if we don't match a region with a gene, the region on chrY should be intergenic and not unassigned!"
   ]
  },
  {
   "cell_type": "markdown",
   "id": "f7e64708",
   "metadata": {},
   "source": [
    "Just checking the overview with ten regions is not enough, so we check all differences between the two, ignoring gene order.\n",
    "\n",
    "We will have a more detailed look at the first ten differences for now:"
   ]
  },
  {
   "cell_type": "code",
   "execution_count": 92,
   "id": "cceee181",
   "metadata": {},
   "outputs": [
    {
     "name": "stdout",
     "output_type": "stream",
     "text": [
      "chr1_1171768_1172168 intergenic TTLL10\n",
      "chr1_1417870_1418270 intergenic RP4-758J18.7\n",
      "chr1_2048270_2048670 intergenic PRKCZ\n",
      "chr1_2528001_2528401 PANK4 PANK4;RP3-395M20.12\n",
      "chr1_9845938_9846338 intergenic RP11-84A14.5\n",
      "chr1_10427994_10428394 intergenic CENPS-CORT\n",
      "chr1_15682274_15682674 intergenic PLEKHM2\n",
      "chr1_19813013_19813413 intergenic RP11-91K11.2\n",
      "chr1_22022808_22023208 RP1-224A6.11 LINC00339;RP1-224A6.11\n",
      "chr1_28123321_28123721 intergenic RP5-1053E7.3\n",
      "\n",
      "number of regions with difference: 986045\n",
      "total number of regions: 1154611\n",
      "percentage of regions with a difference: 85.4006%\n"
     ]
    }
   ],
   "source": [
    "i = 0\n",
    "for region in adata.var_names.tolist():\n",
    "    left = \";\".join(sorted(adata.var[\"gene_annotation\"][region].split(\";\"))) # sort to make them better comparable\n",
    "    right = adata.var[\"my_gene_annotation\"][region]\n",
    "    if left != right:\n",
    "        i += 1\n",
    "        if i <= 10:\n",
    "            print(region, left, right)\n",
    "print()\n",
    "print(f\"number of regions with difference: {i}\")\n",
    "print(f\"total number of regions: {len(adata.var)}\")\n",
    "print(f\"percentage of regions with a difference: {i / len(adata.var)*100:0.4f}%\")"
   ]
  },
  {
   "cell_type": "markdown",
   "id": "85f07d11",
   "metadata": {},
   "source": [
    "That is a difference of 85% of the regions, that is a lot."
   ]
  },
  {
   "cell_type": "markdown",
   "id": "452aff64",
   "metadata": {},
   "source": [
    "### 4.2.1 First Bug"
   ]
  },
  {
   "cell_type": "markdown",
   "id": "0e221965",
   "metadata": {},
   "source": [
    "Starting with the first difference `chr1_1171768_1172168` episcanpy's `find_genes` does not annotate `TTLL10`, `my_find_genes` does.\n",
    "\n",
    "Is there an error with the implementation of find_my_genes? Let's see where the gene lies and let's eyeball if we would annotate the region with the gene or not"
   ]
  },
  {
   "cell_type": "code",
   "execution_count": 94,
   "id": "bc24e15a",
   "metadata": {},
   "outputs": [
    {
     "name": "stdout",
     "output_type": "stream",
     "text": [
      "chr1\t1173880\t1197936\t+\r\n"
     ]
    }
   ],
   "source": [
    "!cat {data_folder}/{gtf_filename} | grep -P \"HAVANA\\tgene\" | grep 'gene_name \"TTLL10\"' | cut -f1,4,5,7"
   ]
  },
  {
   "cell_type": "markdown",
   "id": "cd70f4e9",
   "metadata": {},
   "source": [
    "So TTLL10 is on chr1 from 1173880 to 1197936 on the positive strand (start codon at begin, stop codon at end)"
   ]
  },
  {
   "cell_type": "markdown",
   "id": "7f4fbb8a",
   "metadata": {},
   "source": [
    "```\n",
    "chr1_1171768_1172168   starts at 1171768 ends at 1172168\n",
    "TTLL10                 starts at 1173880 ends at 1197936\n",
    "```\n",
    "These do not overlap. but we need to take upstream 2000 into account, extending from `TTLL10`'s start codon by 2000. This means we have to start 2000 before the current begin, since it is on the positive strand:\n",
    "```\n",
    "chr1_1171768_1172168   starts at 1171768 ends at 1172168\n",
    "TTLL10 (upstream 2000) starts at 1171880 ends at 1197936\n",
    "```\n",
    "These DO overlap. Why is episcanpy not finding this overlap?"
   ]
  },
  {
   "cell_type": "markdown",
   "id": "2fd4f771",
   "metadata": {},
   "source": [
    "episcanpy does assume that the gtf file is sorted by the start of a gene, which it is, but then proceeds to add/substract upstream/downstream. In some cases moving a gene up or down in sort order!\n",
    "\n",
    "This is relevant, because episcanpy does a linear search through the genes with an early abort. This early abort is triggered too early if the genes are out of order!"
   ]
  },
  {
   "cell_type": "markdown",
   "id": "47d81795",
   "metadata": {},
   "source": [
    "Let's look at one gene before and after `TTLL10` in the gtf file:"
   ]
  },
  {
   "cell_type": "code",
   "execution_count": 95,
   "id": "19ac654a",
   "metadata": {},
   "outputs": [
    {
     "name": "stdout",
     "output_type": "stream",
     "text": [
      "chr1\t1173056\t1179555\t-\r\n",
      "chr1\t1173880\t1197936\t+\r\n",
      "chr1\t1203508\t1206592\t-\r\n"
     ]
    }
   ],
   "source": [
    "!cat {data_folder}/{gtf_filename} | grep -P \"HAVANA\\tgene\" | grep -C 1 'gene_name \"TTLL10\"' | cut -f1,4,5,7"
   ]
  },
  {
   "cell_type": "markdown",
   "id": "6e1bff91",
   "metadata": {},
   "source": [
    "We can see that they are both on the opposite (negative) strand. If we calculate upstream 2000 the genes on the opposite strand will have their end (where the start codon is) extended by 2000. The start remains where it is. Calculating upstream 2000 leads to these gene locations:\n",
    "```\n",
    "chr1\t1173056\t1181555\t-\n",
    "chr1\t1171880\t1197936\t+\n",
    "chr1\t1203508\t1208592\t-\n",
    "```\n",
    "They are not ordered by the start of the location anymore, thus confusing episcanpy"
   ]
  },
  {
   "cell_type": "markdown",
   "id": "fd4760a0",
   "metadata": {},
   "source": [
    "Let's fix episcanpy's find_genes by sorting the genes before doing the lookup"
   ]
  },
  {
   "cell_type": "code",
   "execution_count": 98,
   "id": "17dcbc88",
   "metadata": {},
   "outputs": [],
   "source": [
    "# Taken from episcanpy 0.4.0 https://github.com/colomemaria/epiScanpy/blob/0.4.0/episcanpy/tools/_find_genes.py\n",
    "def find_genes_fixed(adata,\n",
    "                 gtf_file,\n",
    "                 key_added='gene_annotation',\n",
    "                 upstream=5000,\n",
    "                 downstream=0,\n",
    "                 feature_type='gene',\n",
    "                 annotation='HAVANA',\n",
    "                 raw=False):\n",
    "    \"\"\"\n",
    "    merge values of peaks/windows/features overlapping genebodies + 2kb upstream.\n",
    "    It is possible to extend the search for closest gene to a given number of bases downstream as well.\n",
    "\n",
    "    There is commonly 2 set of annotations in a gtf file(HAVANA, ENSEMBL). By default, the function\n",
    "    will search annotation from HAVANA but other annotation label/source can be specifed.\n",
    "\n",
    "    It is possible to use other type of features than genes present in a gtf file such as transcripts or CDS.\n",
    "\n",
    "    \"\"\"\n",
    "    ### extracting the genes\n",
    "    gtf = {}\n",
    "    with open(gtf_file) as f:\n",
    "        for line in f:\n",
    "            if line[0:2] != '##' and '\\t'+feature_type+'\\t' in line and '\\t'+annotation+'\\t' in line:\n",
    "                line = line.rstrip('\\n').split('\\t')\n",
    "                if line[6] == '-':\n",
    "                    if line[0] not in gtf.keys():\n",
    "                        gtf[line[0]] = [[int(line[3])-downstream, int(line[4])+upstream,line[-1].split(';')[:-1]]]\n",
    "                    else:\n",
    "                        gtf[line[0]].append([int(line[3])-downstream, int(line[4])+upstream,line[-1].split(';')[:-1]])\n",
    "                else:\n",
    "                    if line[0] not in gtf.keys():\n",
    "                        gtf[line[0]] = [[int(line[3])-upstream, int(line[4])+downstream,line[-1].split(';')[:-1]]]\n",
    "                    else:\n",
    "                        gtf[line[0]].append([int(line[3])-upstream, int(line[4])+downstream,line[-1].split(';')[:-1]])\n",
    "\n",
    "    \"\"\"\n",
    "    This is the change from the original episcanpy function\n",
    "    \"\"\"         \n",
    "    for chrom in gtf:\n",
    "        gtf[chrom].sort(key=lambda x: x[0])\n",
    "    \n",
    "    \"\"\"\n",
    "    End of change\n",
    "    \"\"\"\n",
    "    \n",
    "    # extracting the feature coordinates\n",
    "    raw_adata_features = {}\n",
    "    feature_index = 0\n",
    "    for line in adata.var_names.tolist():\n",
    "        line = line.split('_')\n",
    "        if line[0] not in raw_adata_features.keys():\n",
    "            raw_adata_features[line[0]] = [[int(line[1]),int(line[2]), feature_index]]\n",
    "        else:\n",
    "            raw_adata_features[line[0]].append([int(line[1]),int(line[2]), feature_index])\n",
    "        feature_index += 1\n",
    "\n",
    "    ## find the genes overlaping the features.\n",
    "    gene_index = []\n",
    "    for chrom in raw_adata_features.keys():\n",
    "        if chrom in gtf.keys():\n",
    "            chrom_index = 0\n",
    "            previous_features_index = 0\n",
    "            for feature in raw_adata_features[chrom]:\n",
    "                gene_name = []\n",
    "                feature_start = feature[0]\n",
    "                feature_end = feature[1]\n",
    "                for gene in gtf[chrom]:\n",
    "                    if (gene[1]<= feature_start): # the gene is before the feature. we need to test the next gene.\n",
    "                        continue\n",
    "                    elif (feature_end <= gene[0]): # the gene is after the feature. we need to test the next feature.\n",
    "                        break\n",
    "                    else: # the window is overlapping the gene.\n",
    "                        for n in gene[-1]:\n",
    "                            if 'gene_name' in n:\n",
    "                                gene_name.append(n.lstrip('gene_name \"').rstrip('\"\"'))\n",
    "\n",
    "                if gene_name == []:\n",
    "                    gene_index.append('intergenic')\n",
    "                elif len(gene_name)==1:\n",
    "                    gene_index.append(gene_name[0])\n",
    "                else:\n",
    "                    gene_index.append(\";\".join(list(set(gene_name))))\n",
    "\n",
    "        else:\n",
    "            for feature in raw_adata_features[chrom]:\n",
    "                gene_index.append(\"unassigned\")\n",
    "\n",
    "    adata.var[key_added] = gene_index"
   ]
  },
  {
   "cell_type": "code",
   "execution_count": 100,
   "id": "b7399067",
   "metadata": {},
   "outputs": [
    {
     "name": "stdout",
     "output_type": "stream",
     "text": [
      "CPU times: user 1min 17s, sys: 921 ms, total: 1min 18s\n",
      "Wall time: 1min 18s\n"
     ]
    }
   ],
   "source": [
    "%%time\n",
    "find_genes_fixed(adata,\n",
    "           gtf_file=f\"{data_folder}/{gtf_filename}\",\n",
    "           key_added='gene_annotation_sorted',\n",
    "           upstream=2000,\n",
    "           feature_type='gene',\n",
    "           annotation='HAVANA',\n",
    "           raw=False)"
   ]
  },
  {
   "cell_type": "markdown",
   "id": "2e723940",
   "metadata": {},
   "source": [
    "This seems to be as fast as episcanpy's find_genes"
   ]
  },
  {
   "cell_type": "markdown",
   "id": "23ea0e3e",
   "metadata": {},
   "source": [
    "Let's look at the difference between the fixed find_genes and my_find_genes"
   ]
  },
  {
   "cell_type": "code",
   "execution_count": 107,
   "id": "4fcb3535",
   "metadata": {},
   "outputs": [
    {
     "name": "stdout",
     "output_type": "stream",
     "text": [
      "chr1_28123321_28123721 intergenic RP5-1053E7.3\n",
      "chr1_36305357_36305757 SH3D21 SH3D21;THRAP3\n",
      "chr1_77067546_77067946 RP4-564M11.2 RP4-564M11.2;ST6GALNAC5\n",
      "chr1_149848661_149849061 H2BC20P H2AC19;H2BC20P\n",
      "chr1_154325325_154325725 ATP8B2 AQP10;ATP8B2\n",
      "chr1_185315379_185315779 IVNS1ABP GS1-279B7.2;IVNS1ABP\n",
      "chr10_11261_11661 RP11-34P13.7 intergenic\n",
      "chr10_48946_49346 AP006222.1;AP006222.3 TUBB8\n",
      "chr10_50297_50697 RP11-206L10.17;RP5-857K21.2 TUBB8\n",
      "chr10_73991_74391 RP11-206L10.17 TUBB8\n",
      "\n",
      "number of regions with difference: 986089\n",
      "total number of regions: 1154611\n",
      "percentage of regions with a difference: 85.4044%\n"
     ]
    }
   ],
   "source": [
    "i = 0\n",
    "for region in adata.var_names.tolist():\n",
    "    left = \";\".join(sorted(adata.var[\"gene_annotation_sorted\"][region].split(\";\"))) # sort to make them better comparable\n",
    "    right = \";\".join(sorted(adata.var[\"my_gene_annotation\"][region].split(\";\")))\n",
    "    if left != right:\n",
    "        i += 1\n",
    "        if i <= 10:\n",
    "            print(region, left, right)\n",
    "print()\n",
    "print(f\"number of regions with difference: {i}\")\n",
    "print(f\"total number of regions: {len(adata.var)}\")\n",
    "print(f\"percentage of regions with a difference: {i / len(adata.var)*100:0.4f}%\")"
   ]
  },
  {
   "cell_type": "markdown",
   "id": "272a5b0f",
   "metadata": {},
   "source": [
    "### 4.2.2 Second Bug"
   ]
  },
  {
   "cell_type": "markdown",
   "id": "890fea68",
   "metadata": {},
   "source": [
    "There are still differences! We even increased the number of differences!\n",
    "Is my_find_genes wrong after all? Let's check the first region:"
   ]
  },
  {
   "cell_type": "code",
   "execution_count": 108,
   "id": "361852f8",
   "metadata": {},
   "outputs": [
    {
     "name": "stdout",
     "output_type": "stream",
     "text": [
      "chr1\t28120449\t28121321\t-\r\n"
     ]
    }
   ],
   "source": [
    "!cat {data_folder}/{gtf_filename} | grep -P \"HAVANA\\tgene\" | grep 'gene_name \"RP5-1053E7.3\"' | cut -f1,4,5,7"
   ]
  },
  {
   "cell_type": "markdown",
   "id": "93c7130b",
   "metadata": {},
   "source": [
    "The gene `RP5-1053E7.3` is on chr1 from 28120449 to 28121321 on the negative strand."
   ]
  },
  {
   "cell_type": "markdown",
   "id": "50ec4d3c",
   "metadata": {},
   "source": [
    "```\n",
    "chr1_28123321_28123721       starts at 28123321 ends at 28123721\n",
    "RP5-1053E7.3 (upstream 2000) starts at 28120449 ends at 28123321\n",
    "```\n",
    "Since the region indices are both inclusive, we have an overlap of exactly one base!"
   ]
  },
  {
   "cell_type": "markdown",
   "id": "2a373282",
   "metadata": {},
   "source": [
    "Let's fix the second bug in episcanpy"
   ]
  },
  {
   "cell_type": "code",
   "execution_count": 140,
   "id": "3652dade",
   "metadata": {},
   "outputs": [],
   "source": [
    "# Taken from episcanpy 0.4.0 https://github.com/colomemaria/epiScanpy/blob/0.4.0/episcanpy/tools/_find_genes.py\n",
    "def find_genes_fixed2(adata,\n",
    "                 gtf_file,\n",
    "                 key_added='gene_annotation',\n",
    "                 upstream=5000,\n",
    "                 downstream=0,\n",
    "                 feature_type='gene',\n",
    "                 annotation='HAVANA',\n",
    "                 raw=False):\n",
    "    \"\"\"\n",
    "    merge values of peaks/windows/features overlapping genebodies + 2kb upstream.\n",
    "    It is possible to extend the search for closest gene to a given number of bases downstream as well.\n",
    "\n",
    "    There is commonly 2 set of annotations in a gtf file(HAVANA, ENSEMBL). By default, the function\n",
    "    will search annotation from HAVANA but other annotation label/source can be specifed.\n",
    "\n",
    "    It is possible to use other type of features than genes present in a gtf file such as transcripts or CDS.\n",
    "\n",
    "    \"\"\"\n",
    "    ### extracting the genes\n",
    "    gtf = {}\n",
    "    with open(gtf_file) as f:\n",
    "        for line in f:\n",
    "            if line[0:2] != '##' and '\\t'+feature_type+'\\t' in line and '\\t'+annotation+'\\t' in line:\n",
    "                line = line.rstrip('\\n').split('\\t')\n",
    "                if line[6] == '-':\n",
    "                    if line[0] not in gtf.keys():\n",
    "                        gtf[line[0]] = [[int(line[3])-downstream, int(line[4])+upstream,line[-1].split(';')[:-1]]]\n",
    "                    else:\n",
    "                        gtf[line[0]].append([int(line[3])-downstream, int(line[4])+upstream,line[-1].split(';')[:-1]])\n",
    "                else:\n",
    "                    if line[0] not in gtf.keys():\n",
    "                        gtf[line[0]] = [[int(line[3])-upstream, int(line[4])+downstream,line[-1].split(';')[:-1]]]\n",
    "                    else:\n",
    "                        gtf[line[0]].append([int(line[3])-upstream, int(line[4])+downstream,line[-1].split(';')[:-1]])\n",
    "\n",
    "    \"\"\"\n",
    "    Begin of change 1: sort genes after calculating upstream/downstream\n",
    "    \"\"\"         \n",
    "    for chrom in gtf:\n",
    "        gtf[chrom].sort(key=lambda x: x[0])\n",
    "    \"\"\"\n",
    "    End of change 1\n",
    "    \"\"\"\n",
    "    \n",
    "    # extracting the feature coordinates\n",
    "    raw_adata_features = {}\n",
    "    feature_index = 0\n",
    "    for line in adata.var_names.tolist():\n",
    "        line = line.split('_')\n",
    "        if line[0] not in raw_adata_features.keys():\n",
    "            raw_adata_features[line[0]] = [[int(line[1]),int(line[2]), feature_index]]\n",
    "        else:\n",
    "            raw_adata_features[line[0]].append([int(line[1]),int(line[2]), feature_index])\n",
    "        feature_index += 1\n",
    "\n",
    "    ## find the genes overlaping the features.\n",
    "    gene_index = []\n",
    "    for chrom in raw_adata_features.keys():\n",
    "        if chrom in gtf.keys():\n",
    "            chrom_index = 0\n",
    "            previous_features_index = 0\n",
    "            for feature in raw_adata_features[chrom]:\n",
    "                gene_name = []\n",
    "                feature_start = feature[0]\n",
    "                feature_end = feature[1]\n",
    "                \"\"\" Begin of change 2: change <= to < \"\"\"\n",
    "                for gene in gtf[chrom]:\n",
    "                    gene_start = gene[0]\n",
    "                    gene_end = gene[1]\n",
    "                    if (gene_end < feature_start): # the gene is before the feature. we need to test the next gene.\n",
    "                        continue\n",
    "                    elif (feature_end < gene_start): # the gene is after the feature. we need to test the next feature.\n",
    "                        break\n",
    "                    else: # the window is overlapping the gene.\n",
    "                        for n in gene[-1]:\n",
    "                            if 'gene_name' in n:\n",
    "                                gene_name.append(n.lstrip('gene_name \"').rstrip('\"\"'))\n",
    "                \"\"\" End of change 2 \"\"\"\n",
    "                if gene_name == []:\n",
    "                    gene_index.append('intergenic')\n",
    "                elif len(gene_name)==1:\n",
    "                    gene_index.append(gene_name[0])\n",
    "                else:\n",
    "                    gene_index.append(\";\".join(list(set(gene_name))))\n",
    "\n",
    "        else:\n",
    "            for feature in raw_adata_features[chrom]:\n",
    "                gene_index.append(\"unassigned\")\n",
    "\n",
    "    adata.var[key_added] = gene_index"
   ]
  },
  {
   "cell_type": "code",
   "execution_count": 115,
   "id": "32632fdc",
   "metadata": {},
   "outputs": [
    {
     "name": "stdout",
     "output_type": "stream",
     "text": [
      "CPU times: user 1min 56s, sys: 744 ms, total: 1min 57s\n",
      "Wall time: 1min 57s\n"
     ]
    }
   ],
   "source": [
    "%%time\n",
    "find_genes_fixed2(adata,\n",
    "           gtf_file=f\"{data_folder}/{gtf_filename}\",\n",
    "           key_added='gene_annotation_sorted_overlap',\n",
    "           upstream=2000,\n",
    "           feature_type='gene',\n",
    "           annotation='HAVANA',\n",
    "           raw=False)"
   ]
  },
  {
   "cell_type": "markdown",
   "id": "c537e272",
   "metadata": {},
   "source": [
    "It runs slower than episcanpy's find_genes now!"
   ]
  },
  {
   "cell_type": "code",
   "execution_count": 157,
   "id": "d20141ee",
   "metadata": {},
   "outputs": [
    {
     "name": "stdout",
     "output_type": "stream",
     "text": [
      "75327 chr10_11261_11661 RP11-34P13.7 intergenic\n",
      "75328 chr10_48946_49346 AP006222.1;AP006222.3 TUBB8\n",
      "75329 chr10_50297_50697 RP11-206L10.17;RP5-857K21.2 TUBB8\n",
      "75330 chr10_73991_74391 RP11-206L10.17 TUBB8\n",
      "75331 chr10_76409_76809 MTATP6P1;MTCO3P12;RP11-206L10.17 intergenic\n",
      "75332 chr10_79761_80161 RP11-206L10.17;RP11-206L10.2 intergenic\n",
      "75333 chr10_80721_81121 FAM87B;RP11-206L10.17;RP11-206L10.8 IL9RP2\n",
      "75334 chr10_87242_87642 LINC01128;RP11-206L10.17 IL9RP2\n",
      "75335 chr10_88251_88651 LINC01128 IL9RP2\n",
      "75336 chr10_89263_89663 LINC01128 intergenic\n",
      "\n",
      "number of regions with difference: 986084\n",
      "total number of regions: 1154611\n",
      "percentage of regions with a difference: 85.4040%\n"
     ]
    }
   ],
   "source": [
    "n = 0\n",
    "for i, region in enumerate(adata.var_names.tolist()):\n",
    "    left = \";\".join(sorted(adata.var[\"gene_annotation_sorted_overlap\"][region].split(\";\"))) # sort to make them better comparable\n",
    "    right = \";\".join(sorted(adata.var[\"my_gene_annotation\"][region].split(\";\")))\n",
    "    if left != right:\n",
    "        n += 1\n",
    "        if n <= 10:\n",
    "            print(i, region, left, right)\n",
    "print()\n",
    "print(f\"number of regions with difference: {n}\")\n",
    "print(f\"total number of regions: {len(adata.var)}\")\n",
    "print(f\"percentage of regions with a difference: {n / len(adata.var)*100:0.4f}%\")"
   ]
  },
  {
   "cell_type": "markdown",
   "id": "0d4b617c",
   "metadata": {},
   "source": [
    "### 4.2.3 Third Bug"
   ]
  },
  {
   "cell_type": "markdown",
   "id": "59c6343b",
   "metadata": {},
   "source": [
    "We got rid of 4 differences, but 85% of the annotations are still different. Let's take a look at the first one: `RP11-34P13.7`"
   ]
  },
  {
   "cell_type": "code",
   "execution_count": 138,
   "id": "f0608ac5",
   "metadata": {},
   "outputs": [
    {
     "name": "stdout",
     "output_type": "stream",
     "text": [
      "chr1\t89295\t133723\t-\r\n"
     ]
    }
   ],
   "source": [
    "!cat {data_folder}/{gtf_filename} | grep -P \"HAVANA\\tgene\" | grep 'gene_name \"RP11-34P13.7\"' | cut -f1,4,5,7"
   ]
  },
  {
   "cell_type": "markdown",
   "id": "f56f7959",
   "metadata": {},
   "source": [
    "The gene `RP11-34P13.7` is on chr1 from 89295 to 133723 on the nagative strand"
   ]
  },
  {
   "cell_type": "markdown",
   "id": "8fe30359",
   "metadata": {},
   "source": [
    "But the region we tried to match is chr10_11261_11661\n",
    "This is on the wrong chromosome!"
   ]
  },
  {
   "cell_type": "markdown",
   "id": "4dba442a",
   "metadata": {},
   "source": [
    "We need to do some checking to see where episcanpy went wrong."
   ]
  },
  {
   "cell_type": "markdown",
   "id": "ba2487c2",
   "metadata": {},
   "source": [
    "1. Check if episcanpy reads in the gtf correctly."
   ]
  },
  {
   "cell_type": "code",
   "execution_count": 151,
   "id": "8d5ce8fc",
   "metadata": {},
   "outputs": [],
   "source": [
    "def read_gtf(\n",
    "        gtf_file,\n",
    "        upstream=5000,\n",
    "        downstream=0,\n",
    "        feature_type='gene',\n",
    "        annotation='HAVANA'):\n",
    "    \"\"\"\n",
    "    merge values of peaks/windows/features overlapping genebodies + 2kb upstream.\n",
    "    It is possible to extend the search for closest gene to a given number of bases downstream as well.\n",
    "\n",
    "    There is commonly 2 set of annotations in a gtf file(HAVANA, ENSEMBL). By default, the function\n",
    "    will search annotation from HAVANA but other annotation label/source can be specifed.\n",
    "\n",
    "    It is possible to use other type of features than genes present in a gtf file such as transcripts or CDS.\n",
    "\n",
    "    \"\"\"\n",
    "    ### extracting the genes\n",
    "    gtf = {}\n",
    "    with open(gtf_file) as f:\n",
    "        for line in f:\n",
    "            if line[0:2] != '##' and '\\t'+feature_type+'\\t' in line and '\\t'+annotation+'\\t' in line:\n",
    "                line = line.rstrip('\\n').split('\\t')\n",
    "                if line[6] == '-':\n",
    "                    if line[0] not in gtf.keys():\n",
    "                        gtf[line[0]] = [[int(line[3])-downstream, int(line[4])+upstream,line[-1].split(';')[:-1]]]\n",
    "                    else:\n",
    "                        gtf[line[0]].append([int(line[3])-downstream, int(line[4])+upstream,line[-1].split(';')[:-1]])\n",
    "                else:\n",
    "                    if line[0] not in gtf.keys():\n",
    "                        gtf[line[0]] = [[int(line[3])-upstream, int(line[4])+downstream,line[-1].split(';')[:-1]]]\n",
    "                    else:\n",
    "                        gtf[line[0]].append([int(line[3])-upstream, int(line[4])+downstream,line[-1].split(';')[:-1]])\n",
    "    for chrom in gtf:\n",
    "        gtf[chrom].sort(key=lambda x: x[0])\n",
    "    return gtf"
   ]
  },
  {
   "cell_type": "code",
   "execution_count": 152,
   "id": "853c4575",
   "metadata": {},
   "outputs": [],
   "source": [
    "gtf = read_gtf(gtf_file=f\"{data_folder}/{gtf_filename}\",\n",
    "        upstream=2000,\n",
    "        feature_type='gene',\n",
    "        annotation='HAVANA')"
   ]
  },
  {
   "cell_type": "code",
   "execution_count": 153,
   "id": "4874bf05",
   "metadata": {},
   "outputs": [
    {
     "name": "stdout",
     "output_type": "stream",
     "text": [
      "89295 135723 ['gene_id \"ENSG00000238009.6\"', ' gene_type \"lncRNA\"', ' gene_name \"RP11-34P13.7\"', ' level 2', ' tag \"overlapping_locus\"', ' havana_gene \"OTTHUMG00000001096.2\"']\n"
     ]
    }
   ],
   "source": [
    "for start, end, attributes in gtf[\"chr1\"]:\n",
    "    if abs(89295 - start) < 100:\n",
    "        print(start, end, attributes)"
   ]
  },
  {
   "cell_type": "markdown",
   "id": "26aaa165",
   "metadata": {},
   "source": [
    "The gene is properly read into the `gtf` dict, into chr1, not chr10"
   ]
  },
  {
   "cell_type": "markdown",
   "id": "f0cd9b73",
   "metadata": {},
   "source": [
    "2. Check if episcanpy correctly reads the regions"
   ]
  },
  {
   "cell_type": "code",
   "execution_count": 192,
   "id": "9164d494",
   "metadata": {},
   "outputs": [],
   "source": [
    "def read_regions(adata):\n",
    "    raw_adata_features = {}\n",
    "    feature_index = 0\n",
    "    for line in adata.var_names.tolist():\n",
    "        line = line.split('_')\n",
    "        if line[0] not in raw_adata_features.keys():\n",
    "            raw_adata_features[line[0]] = [[int(line[1]),int(line[2]), feature_index]]\n",
    "        else:\n",
    "            raw_adata_features[line[0]].append([int(line[1]),int(line[2]), feature_index])\n",
    "        feature_index += 1\n",
    "    return raw_adata_features"
   ]
  },
  {
   "cell_type": "code",
   "execution_count": 193,
   "id": "1eadd07b",
   "metadata": {},
   "outputs": [],
   "source": [
    "raw_adata_features = read_regions(adata)"
   ]
  },
  {
   "cell_type": "code",
   "execution_count": 198,
   "id": "24bcff88",
   "metadata": {},
   "outputs": [
    {
     "data": {
      "text/plain": [
       "[[11261, 11661, 75327],\n",
       " [48946, 49346, 75328],\n",
       " [50297, 50697, 75329],\n",
       " [73991, 74391, 75330],\n",
       " [76409, 76809, 75331],\n",
       " [79761, 80161, 75332],\n",
       " [80721, 81121, 75333],\n",
       " [87242, 87642, 75334],\n",
       " [88251, 88651, 75335],\n",
       " [89263, 89663, 75336]]"
      ]
     },
     "execution_count": 198,
     "metadata": {},
     "output_type": "execute_result"
    }
   ],
   "source": [
    "raw_adata_features[\"chr10\"][:10]"
   ]
  },
  {
   "cell_type": "markdown",
   "id": "8f79d07d",
   "metadata": {},
   "source": [
    "The region is properly added to chr10 with the right offsets."
   ]
  },
  {
   "cell_type": "code",
   "execution_count": 391,
   "id": "ba87dc6f",
   "metadata": {},
   "outputs": [
    {
     "data": {
      "text/plain": [
       "[[248858404, 248858804, 913295],\n",
       " [248863605, 248864005, 913296],\n",
       " [248882533, 248882933, 913297],\n",
       " [248890672, 248891072, 913298],\n",
       " [248891077, 248891477, 913299],\n",
       " [248896466, 248896866, 913300],\n",
       " [248918058, 248918458, 913301],\n",
       " [248924060, 248924460, 913302],\n",
       " [248925838, 248926238, 913303],\n",
       " [84331, 84731, 1007594]]"
      ]
     },
     "execution_count": 391,
     "metadata": {},
     "output_type": "execute_result"
    }
   ],
   "source": [
    "raw_adata_features[\"chr1\"][-10:]"
   ]
  },
  {
   "cell_type": "markdown",
   "id": "56748f05",
   "metadata": {},
   "source": [
    "We can see that the data does not have consecutive indices for the end of chr1"
   ]
  },
  {
   "cell_type": "markdown",
   "id": "d4ad855d",
   "metadata": {},
   "source": [
    "3. Check if episcanpy properly matches regions to genes"
   ]
  },
  {
   "cell_type": "markdown",
   "id": "e123c9f7",
   "metadata": {},
   "source": [
    "For that we look into the first difference `chr10_11261_11661` but also the regions before and after it:"
   ]
  },
  {
   "cell_type": "code",
   "execution_count": 165,
   "id": "e61c4fb8",
   "metadata": {},
   "outputs": [
    {
     "data": {
      "text/plain": [
       "75327"
      ]
     },
     "execution_count": 165,
     "metadata": {},
     "output_type": "execute_result"
    }
   ],
   "source": [
    "adata.var_names.get_loc(\"chr10_11261_11661\")"
   ]
  },
  {
   "cell_type": "markdown",
   "id": "75473ddf",
   "metadata": {},
   "source": [
    "This is the index of our region"
   ]
  },
  {
   "cell_type": "code",
   "execution_count": 197,
   "id": "2c93328c",
   "metadata": {},
   "outputs": [
    {
     "data": {
      "text/plain": [
       "chr1_248945402_248945802                     intergenic\n",
       "chr1_248945944_248946344                     intergenic\n",
       "chr10_11261_11661                          RP11-34P13.7\n",
       "chr10_48946_49346                 AP006222.3;AP006222.1\n",
       "chr10_50297_50697           RP5-857K21.2;RP11-206L10.17\n",
       "Name: gene_annotation_sorted_overlap, dtype: object"
      ]
     },
     "execution_count": 197,
     "metadata": {},
     "output_type": "execute_result"
    }
   ],
   "source": [
    "adata.var[\"gene_annotation_sorted_overlap\"][75325:75330]"
   ]
  },
  {
   "cell_type": "markdown",
   "id": "2a63b679",
   "metadata": {},
   "source": [
    "These are the annotations from find_genes_fixed2 from the regions before and after our region"
   ]
  },
  {
   "cell_type": "markdown",
   "id": "e88a00e4",
   "metadata": {},
   "source": [
    "Let's test the match_region part of episcanpy's find_genes, but add a print that tells us something about the high genes on chr1 and the low genes of chr10:"
   ]
  },
  {
   "cell_type": "code",
   "execution_count": 394,
   "id": "f703bb0f",
   "metadata": {},
   "outputs": [],
   "source": [
    "def match_regions(gtf, raw_adata_features):\n",
    "    print_next = 0\n",
    "    gene_index = []\n",
    "    for chrom in raw_adata_features.keys():\n",
    "        if chrom in gtf.keys():\n",
    "            chrom_index = 0\n",
    "            previous_features_index = 0\n",
    "            for feature in raw_adata_features[chrom]:\n",
    "                gene_name = []\n",
    "                feature_start = feature[0]\n",
    "                feature_end = feature[1]\n",
    "                \"\"\" Begin of change 2: change <= to < \"\"\"\n",
    "                for gene in gtf[chrom]:\n",
    "                    gene_start = gene[0]\n",
    "                    gene_end = gene[1]\n",
    "                    if (gene_end < feature_start): # the gene is before the feature. we need to test the next gene.\n",
    "                        continue\n",
    "                    elif (feature_end < gene_start): # the gene is after the feature. we need to test the next feature.\n",
    "                        break\n",
    "                    else: # the window is overlapping the gene.\n",
    "                        for n in gene[-1]:\n",
    "                            if 'gene_name' in n:\n",
    "                                gene_name.append(n.lstrip('gene_name \"').rstrip('\"\"'))\n",
    "                \"\"\" End of change 2 \"\"\"\n",
    "                \"\"\" Begin of print \"\"\"\n",
    "                if print_next > 0:\n",
    "                    print(chrom, feature_start, feature_end, feature[2], gene_name, len(gene_index))\n",
    "                    print_next -= 1\n",
    "                if (chrom == \"chr1\" and feature_start >= 248945402) or (chrom == \"chr10\" and feature_end <= 50697):\n",
    "                    print(chrom, feature_start, feature_end, feature[2], gene_name, len(gene_index))\n",
    "                    print_next = 5\n",
    "                \"\"\" End of print \"\"\"\n",
    "                if gene_name == []:\n",
    "                    gene_index.append('intergenic')\n",
    "                elif len(gene_name)==1:\n",
    "                    gene_index.append(gene_name[0])\n",
    "                else:\n",
    "                    gene_index.append(\";\".join(list(set(gene_name))))\n",
    "\n",
    "        else:\n",
    "            for feature in raw_adata_features[chrom]:\n",
    "                gene_index.append((feature[2], \"unassigned\"))\n",
    "    return gene_index"
   ]
  },
  {
   "cell_type": "code",
   "execution_count": 376,
   "id": "47a3daea",
   "metadata": {
    "scrolled": false
   },
   "outputs": [
    {
     "name": "stdout",
     "output_type": "stream",
     "text": [
      "chr1 248945402 248945802 75325 [] 75325\n",
      "chr1 248945944 248946344 75326 [] 75326\n",
      "chr1 248945944 248946344 75326 [] 75326\n",
      "chr1 115530 115930 890130 ['RP11-34P13.7'] 75327\n",
      "chr1 265715 266115 890131 ['AP006222.1', 'AP006222.3'] 75328\n",
      "chr1 585985 586385 890132 ['RP5-857K21.2', 'RP11-206L10.17'] 75329\n",
      "chr1 605377 605777 890133 ['RP11-206L10.17'] 75330\n",
      "chr1 634230 634630 890134 ['RP11-206L10.17', 'MTATP6P1', 'MTCO3P12'] 75331\n",
      "chr10 11261 11661 75327 [] 98502\n",
      "chr10 48946 49346 75328 ['TUBB8'] 98503\n",
      "chr10 48946 49346 75328 ['TUBB8'] 98503\n",
      "chr10 50297 50697 75329 ['TUBB8'] 98504\n",
      "chr10 50297 50697 75329 ['TUBB8'] 98504\n",
      "chr10 73991 74391 75330 ['TUBB8'] 98505\n"
     ]
    }
   ],
   "source": [
    "gene_index = match_regions(gtf, raw_adata_features)"
   ]
  },
  {
   "cell_type": "markdown",
   "id": "22b9d825",
   "metadata": {},
   "source": [
    "This tells us that it found the region chr10_11261_11661 at offset 75327 and wants to store `[]` (no gene names => 'intergenic') at offset 98502. \n",
    "Instead it stores chr1_115530_115930 at 75327 which has a way higher feature_index (890130).\n",
    "This offset error mixes the annotations iff the regions in adata.var_names are not ordered by their chromosomes!"
   ]
  },
  {
   "cell_type": "code",
   "execution_count": 196,
   "id": "cce79f68",
   "metadata": {
    "scrolled": true
   },
   "outputs": [
    {
     "data": {
      "text/plain": [
       "['intergenic',\n",
       " 'intergenic',\n",
       " 'RP11-34P13.7',\n",
       " 'AP006222.3;AP006222.1',\n",
       " 'RP5-857K21.2;RP11-206L10.17']"
      ]
     },
     "execution_count": 196,
     "metadata": {},
     "output_type": "execute_result"
    }
   ],
   "source": [
    "gene_index[75325:75330]"
   ]
  },
  {
   "cell_type": "markdown",
   "id": "f3085781",
   "metadata": {},
   "source": [
    "This is what will be stored into the adata. We already saw this above as the differences!"
   ]
  },
  {
   "cell_type": "code",
   "execution_count": 393,
   "id": "aff9b5c8",
   "metadata": {},
   "outputs": [
    {
     "data": {
      "text/plain": [
       "['chr1_248945402_248945802',\n",
       " 'chr1_248945944_248946344',\n",
       " 'chr10_11261_11661',\n",
       " 'chr10_48946_49346',\n",
       " 'chr10_50297_50697']"
      ]
     },
     "execution_count": 393,
     "metadata": {},
     "output_type": "execute_result"
    }
   ],
   "source": [
    "adata.var_names.tolist()[75325:75330]"
   ]
  },
  {
   "cell_type": "markdown",
   "id": "19512d69",
   "metadata": {},
   "source": [
    "This is where the data will be saved in adata."
   ]
  },
  {
   "cell_type": "code",
   "execution_count": 199,
   "id": "201f1d53",
   "metadata": {},
   "outputs": [
    {
     "data": {
      "text/plain": [
       "chr1_248945402_248945802    intergenic\n",
       "chr1_248945944_248946344    intergenic\n",
       "chr10_11261_11661           intergenic\n",
       "chr10_48946_49346                TUBB8\n",
       "chr10_50297_50697                TUBB8\n",
       "Name: my_gene_annotation, dtype: object"
      ]
     },
     "execution_count": 199,
     "metadata": {},
     "output_type": "execute_result"
    }
   ],
   "source": [
    "adata.var[\"my_gene_annotation\"][75325:75330]"
   ]
  },
  {
   "cell_type": "markdown",
   "id": "fe1a48dd",
   "metadata": {},
   "source": [
    "Comparing with the annotations from my_find_genes, we find that the above annotation is the same. So the matching is the same between episcanpy's find_genes and my_find_genes, but episcanpy confuses the indices of where to store the results."
   ]
  },
  {
   "cell_type": "markdown",
   "id": "70c7b03a",
   "metadata": {},
   "source": [
    "Let's fix episcanpy's find_gene:"
   ]
  },
  {
   "cell_type": "markdown",
   "id": "7db483a4",
   "metadata": {},
   "source": [
    "This is our biggest change yet. episcapy's find_genes relies on the ordering of regions and gets them wrong in gene_index. Instead of trying to get the ordering right, let's just remember the name of the region, that we are annotating and at the end match the gene_index to the correct region"
   ]
  },
  {
   "cell_type": "code",
   "execution_count": 233,
   "id": "be86fefb",
   "metadata": {},
   "outputs": [],
   "source": [
    "# Taken from episcanpy 0.4.0 https://github.com/colomemaria/epiScanpy/blob/0.4.0/episcanpy/tools/_find_genes.py\n",
    "def find_genes_fixed3(adata,\n",
    "                 gtf_file,\n",
    "                 key_added='gene_annotation',\n",
    "                 upstream=5000,\n",
    "                 downstream=0,\n",
    "                 feature_type='gene',\n",
    "                 annotation='HAVANA',\n",
    "                 raw=False):\n",
    "    \"\"\"\n",
    "    merge values of peaks/windows/features overlapping genebodies + 2kb upstream.\n",
    "    It is possible to extend the search for closest gene to a given number of bases downstream as well.\n",
    "\n",
    "    There is commonly 2 set of annotations in a gtf file(HAVANA, ENSEMBL). By default, the function\n",
    "    will search annotation from HAVANA but other annotation label/source can be specifed.\n",
    "\n",
    "    It is possible to use other type of features than genes present in a gtf file such as transcripts or CDS.\n",
    "\n",
    "    \"\"\"\n",
    "    ### extracting the genes\n",
    "    gtf = {}\n",
    "    with open(gtf_file) as f:\n",
    "        for line in f:\n",
    "            if line[0:2] != '##' and '\\t'+feature_type+'\\t' in line and '\\t'+annotation+'\\t' in line:\n",
    "                line = line.rstrip('\\n').split('\\t')\n",
    "                if line[6] == '-':\n",
    "                    if line[0] not in gtf.keys():\n",
    "                        gtf[line[0]] = [[int(line[3])-downstream, int(line[4])+upstream,line[-1].split(';')[:-1]]]\n",
    "                    else:\n",
    "                        gtf[line[0]].append([int(line[3])-downstream, int(line[4])+upstream,line[-1].split(';')[:-1]])\n",
    "                else:\n",
    "                    if line[0] not in gtf.keys():\n",
    "                        gtf[line[0]] = [[int(line[3])-upstream, int(line[4])+downstream,line[-1].split(';')[:-1]]]\n",
    "                    else:\n",
    "                        gtf[line[0]].append([int(line[3])-upstream, int(line[4])+downstream,line[-1].split(';')[:-1]])\n",
    "\n",
    "    \"\"\"\n",
    "    Begin of change 1: sort genes after calculating upstream/downstream\n",
    "    \"\"\"         \n",
    "    for chrom in gtf:\n",
    "        gtf[chrom].sort(key=lambda x: x[0])\n",
    "    \"\"\"\n",
    "    End of change 1\n",
    "    \"\"\"\n",
    "    \n",
    "    # extracting the feature coordinates\n",
    "    raw_adata_features = {}\n",
    "    feature_index = 0\n",
    "    for line in adata.var_names.tolist():\n",
    "        \"\"\" Begin of change 3a: store feature_name instead of index \"\"\"\n",
    "        feature_name = line\n",
    "        line = line.split('_')\n",
    "        if line[0] not in raw_adata_features.keys():\n",
    "            raw_adata_features[line[0]] = [[int(line[1]),int(line[2]), feature_name]]\n",
    "        else:\n",
    "            raw_adata_features[line[0]].append([int(line[1]),int(line[2]), feature_name])\n",
    "        \"\"\" End of change 3a \"\"\"\n",
    "        feature_index += 1\n",
    "\n",
    "    ## find the genes overlaping the features.\n",
    "    gene_index = []\n",
    "    for chrom in raw_adata_features.keys():\n",
    "        if chrom in gtf.keys():\n",
    "            chrom_index = 0\n",
    "            previous_features_index = 0\n",
    "            for feature in raw_adata_features[chrom]:\n",
    "                gene_name = []\n",
    "                feature_start = feature[0]\n",
    "                feature_end = feature[1]\n",
    "                \"\"\" Begin of change 2: change <= to < \"\"\"\n",
    "                for gene in gtf[chrom]:\n",
    "                    gene_start = gene[0]\n",
    "                    gene_end = gene[1]\n",
    "                    if (gene_end < feature_start): # the gene is before the feature. we need to test the next gene.\n",
    "                        continue\n",
    "                    elif (feature_end < gene_start): # the gene is after the feature. we need to test the next feature.\n",
    "                        break\n",
    "                    else: # the window is overlapping the gene.\n",
    "                        for n in gene[-1]:\n",
    "                            if 'gene_name' in n:\n",
    "                                gene_name.append(n.lstrip('gene_name \"').rstrip('\"\"'))\n",
    "                \"\"\" End of change 2 \"\"\"\n",
    "                \"\"\" Begin of change 3b: save feature_name (feature[2]) into gene_index \"\"\"\n",
    "                if gene_name == []:\n",
    "                    gene_index.append((feature[2], 'intergenic'))\n",
    "                elif len(gene_name)==1:\n",
    "                    gene_index.append((feature[2], gene_name[0]))\n",
    "                else:\n",
    "                    gene_index.append((feature[2], \";\".join(list(set(gene_name)))))\n",
    "        else:\n",
    "            for feature in raw_adata_features[chrom]:\n",
    "                gene_index.append((feature[2], \"unassigned\"))\n",
    "        \"\"\" End of change 3b \"\"\"\n",
    "    \n",
    "    \"\"\" Begin of change 3c: Use the feature_name to build an index, instead of relying on the correct ordering within gene_index \"\"\"\n",
    "    update_df = pd.DataFrame.from_records(gene_index, columns=[\"feature\", \"gene_annotation\"], index=\"feature\")\n",
    "    adata.var[key_added] = update_df[\"gene_annotation\"]\n",
    "    \"\"\" End of change 3c \"\"\""
   ]
  },
  {
   "cell_type": "code",
   "execution_count": 202,
   "id": "0488272b",
   "metadata": {},
   "outputs": [
    {
     "name": "stdout",
     "output_type": "stream",
     "text": [
      "CPU times: user 1min 56s, sys: 693 ms, total: 1min 57s\n",
      "Wall time: 1min 57s\n"
     ]
    }
   ],
   "source": [
    "%%time\n",
    "find_genes_fixed3(adata,\n",
    "           gtf_file=f\"{data_folder}/{gtf_filename}\",\n",
    "           key_added='gene_annotation_sorted_overlap_stored',\n",
    "           upstream=2000,\n",
    "           feature_type='gene',\n",
    "           annotation='HAVANA',\n",
    "           raw=False)"
   ]
  },
  {
   "cell_type": "markdown",
   "id": "416e0ff2",
   "metadata": {},
   "source": [
    "This runs significantly slower than the original find_genes!\n",
    "But as fast as find_genes_fixed2."
   ]
  },
  {
   "cell_type": "code",
   "execution_count": 208,
   "id": "b2fbccfe",
   "metadata": {},
   "outputs": [
    {
     "data": {
      "text/plain": [
       "chr1_9955_10355                      DDX11L1\n",
       "chr1_29163_29563          WASH7P;MIR1302-2HG\n",
       "chr1_79215_79615                  intergenic\n",
       "chr1_102755_103155              RP11-34P13.7\n",
       "chr1_180580_180980                  DDX11L17\n",
       "                                 ...        \n",
       "chrY_56676947_56677347            intergenic\n",
       "chrY_56677442_56677842            intergenic\n",
       "chrY_56678029_56678429            intergenic\n",
       "chrY_56678600_56679000            intergenic\n",
       "chrY_56707025_56707425            intergenic\n",
       "Name: gene_annotation_sorted_overlap_stored, Length: 1154611, dtype: object"
      ]
     },
     "execution_count": 208,
     "metadata": {},
     "output_type": "execute_result"
    }
   ],
   "source": [
    "adata.var[\"gene_annotation_sorted_overlap_stored\"]"
   ]
  },
  {
   "cell_type": "markdown",
   "id": "6dc251c6",
   "metadata": {},
   "source": [
    "We can see that the problem from before with the unassigned chrY is also solved."
   ]
  },
  {
   "cell_type": "code",
   "execution_count": 191,
   "id": "955f7e91",
   "metadata": {},
   "outputs": [
    {
     "name": "stdout",
     "output_type": "stream",
     "text": [
      "\n",
      "number of regions with difference: 0\n",
      "total number of regions: 1154611\n",
      "percentage of regions with a difference: 0.0000%\n"
     ]
    }
   ],
   "source": [
    "n = 0\n",
    "for i, region in enumerate(adata.var_names.tolist()):\n",
    "    left = \";\".join(sorted(adata.var[\"gene_annotation_sorted_overlap_stored\"][region].split(\";\"))) # sort to make them better comparable\n",
    "    right = \";\".join(sorted(adata.var[\"my_gene_annotation\"][region].split(\";\")))\n",
    "    if left != right:\n",
    "        n += 1\n",
    "        if n <= 10:\n",
    "            print(i, region, left, right)\n",
    "print()\n",
    "print(f\"number of regions with difference: {n}\")\n",
    "print(f\"total number of regions: {len(adata.var)}\")\n",
    "print(f\"percentage of regions with a difference: {n / len(adata.var)*100:0.4f}%\")"
   ]
  },
  {
   "cell_type": "markdown",
   "id": "5f254795",
   "metadata": {},
   "source": [
    "There are no differences anymore! We don't assume, that my_find_genes is correct, but at least we eliminated 3 bugs in episcanpy's find_genes and my_find_genes does find the same annotations and runs significantly faster! (1:57 vs 0:10)\n",
    "\n",
    "To find more bugs we'd need to test more."
   ]
  },
  {
   "cell_type": "markdown",
   "id": "71b083c6",
   "metadata": {},
   "source": [
    "## 5. Testing find_genes with artifical data"
   ]
  },
  {
   "cell_type": "markdown",
   "id": "64800a7a",
   "metadata": {},
   "source": [
    "### 5.1. Setup artifical data"
   ]
  },
  {
   "cell_type": "code",
   "execution_count": 385,
   "id": "24292693",
   "metadata": {},
   "outputs": [
    {
     "name": "stdout",
     "output_type": "stream",
     "text": [
      "file content:\n",
      "chr1\tHAVANA\tgene\t10\t20\t.\t-\t.\tgene_name \"A\";dummy \"episcanpy has weird parsing\"\n",
      "chr1\tHAVANA\tgene\t15\t25\t.\t+\t.\tgene_name \"A\";dummy \"episcanpy has weird parsing\"\n",
      "chr2\tHAVANA\tgene\t20\t30\t.\t+\t.\tgene_name \"B\";dummy \"episcanpy has weird parsing\"\n",
      "chr3\tHAVANA\tgene\t40\t50\t.\t+\t.\tgene_name \"C\";dummy \"episcanpy has weird parsing\"\n",
      "chr4\tHAVANA\tgene\t50\t60\t.\t+\t.\tgene_name \"D\";dummy \"episcanpy has weird parsing\"\n",
      "\n"
     ]
    }
   ],
   "source": [
    "# we will work with upstream=10, downstream=0\n",
    "#\n",
    "# on chr1 we test for the first bug\n",
    "# gene A:\n",
    "# 10-20 on negative strand, extended to 10-30\n",
    "# 15-25 on positive strand, extended to 5-25\n",
    "#\n",
    "# on chr2 we test for the second bug\n",
    "# gene B:\n",
    "# 20-30 on positive strand, extended to 10-30\n",
    "#\n",
    "# on chr3 and chr4 we test the thrid bug\n",
    "# chr3, gene C:\n",
    "# 40-50 on positive strand, extended to 30-50\n",
    "# chr4, gene D\n",
    "# 50-60 on positive strand, extended to 40-60\n",
    "\n",
    "# example line from hg38:\n",
    "# chr1\tHAVANA\tgene\t11869\t14409\t.\t+\t.\tgene_id \"ENSG00000223972.5\"; gene_type \"transcribed_unprocessed_pseudogene\"; gene_name \"DDX11L1\"; level 2; hgnc_id \"HGNC:37102\"; havana_gene \"OTTHUMG00000000961.2\";\n",
    "gtffile_test = tempfile.TemporaryFile()\n",
    "gtffile_test.write(b'chr1\\tHAVANA\\tgene\\t10\\t20\\t.\\t-\\t.\\tgene_name \"A\";dummy \"episcanpy has weird parsing\"\\n')\n",
    "gtffile_test.write(b'chr1\\tHAVANA\\tgene\\t15\\t25\\t.\\t+\\t.\\tgene_name \"A\";dummy \"episcanpy has weird parsing\"\\n')\n",
    "gtffile_test.write(b'chr2\\tHAVANA\\tgene\\t20\\t30\\t.\\t+\\t.\\tgene_name \"B\";dummy \"episcanpy has weird parsing\"\\n')\n",
    "gtffile_test.write(b'chr3\\tHAVANA\\tgene\\t40\\t50\\t.\\t+\\t.\\tgene_name \"C\";dummy \"episcanpy has weird parsing\"\\n')\n",
    "gtffile_test.write(b'chr4\\tHAVANA\\tgene\\t50\\t60\\t.\\t+\\t.\\tgene_name \"D\";dummy \"episcanpy has weird parsing\"\\n')\n",
    "gtffile_test.flush()\n",
    "filepath_test = f\"/proc/{os.getpid()}/fd/{gtffile_test.fileno()}\"\n",
    "\n",
    "print(\"file content:\")\n",
    "print(open(filepath_test).read())\n",
    "\n",
    "var_names = [\n",
    "    'chr1_1_3',   # intergenic (before)\n",
    "    'chr1_5_9',   # gene A (only positive strand)\n",
    "    'chr1_10_25', # gene A (both strands)\n",
    "    'chr1_26_30', # gene A (only negative strand)\n",
    "    'chr1_40_50', # intergenic (after))\n",
    "    'chr2_5_10',  # gene B (one base overlap)\n",
    "    'chr2_30_40', # gene B (one base overlap)\n",
    "    'chr3_20_35', # gene C\n",
    "    'chr4_40_60', # gene D\n",
    "    'chr3_40_60', # gene C\n",
    "    'chrU_5_25']  # unassigned\n",
    "obs_names = ['sample1', 'sample2']\n",
    "\n",
    "var_data = pd.DataFrame(index=var_names)\n",
    "obs_data = pd.DataFrame(index=obs_names)\n",
    "adata_test = ad.AnnData(obs=obs_data, var=var_data)"
   ]
  },
  {
   "cell_type": "code",
   "execution_count": 227,
   "id": "70f652b5",
   "metadata": {},
   "outputs": [
    {
     "data": {
      "text/plain": [
       "AnnData object with n_obs × n_vars = 2 × 8"
      ]
     },
     "execution_count": 227,
     "metadata": {},
     "output_type": "execute_result"
    }
   ],
   "source": [
    "adata_test"
   ]
  },
  {
   "cell_type": "code",
   "execution_count": 386,
   "id": "c252e8be",
   "metadata": {},
   "outputs": [
    {
     "data": {
      "text/html": [
       "<div>\n",
       "<style scoped>\n",
       "    .dataframe tbody tr th:only-of-type {\n",
       "        vertical-align: middle;\n",
       "    }\n",
       "\n",
       "    .dataframe tbody tr th {\n",
       "        vertical-align: top;\n",
       "    }\n",
       "\n",
       "    .dataframe thead th {\n",
       "        text-align: right;\n",
       "    }\n",
       "</style>\n",
       "<table border=\"1\" class=\"dataframe\">\n",
       "  <thead>\n",
       "    <tr style=\"text-align: right;\">\n",
       "      <th></th>\n",
       "    </tr>\n",
       "  </thead>\n",
       "  <tbody>\n",
       "    <tr>\n",
       "      <th>chr1_1_3</th>\n",
       "    </tr>\n",
       "    <tr>\n",
       "      <th>chr1_5_9</th>\n",
       "    </tr>\n",
       "    <tr>\n",
       "      <th>chr1_10_25</th>\n",
       "    </tr>\n",
       "    <tr>\n",
       "      <th>chr1_26_30</th>\n",
       "    </tr>\n",
       "    <tr>\n",
       "      <th>chr1_40_50</th>\n",
       "    </tr>\n",
       "    <tr>\n",
       "      <th>chr2_5_10</th>\n",
       "    </tr>\n",
       "    <tr>\n",
       "      <th>chr2_30_40</th>\n",
       "    </tr>\n",
       "    <tr>\n",
       "      <th>chr3_20_35</th>\n",
       "    </tr>\n",
       "    <tr>\n",
       "      <th>chr4_40_60</th>\n",
       "    </tr>\n",
       "    <tr>\n",
       "      <th>chr3_40_60</th>\n",
       "    </tr>\n",
       "    <tr>\n",
       "      <th>chrU_5_25</th>\n",
       "    </tr>\n",
       "  </tbody>\n",
       "</table>\n",
       "</div>"
      ],
      "text/plain": [
       "Empty DataFrame\n",
       "Columns: []\n",
       "Index: [chr1_1_3, chr1_5_9, chr1_10_25, chr1_26_30, chr1_40_50, chr2_5_10, chr2_30_40, chr3_20_35, chr4_40_60, chr3_40_60, chrU_5_25]"
      ]
     },
     "execution_count": 386,
     "metadata": {},
     "output_type": "execute_result"
    }
   ],
   "source": [
    "adata_test.var"
   ]
  },
  {
   "cell_type": "markdown",
   "id": "3fc20587",
   "metadata": {},
   "source": [
    "### 5.2. Annotate adata"
   ]
  },
  {
   "cell_type": "code",
   "execution_count": 387,
   "id": "08d620f2",
   "metadata": {},
   "outputs": [],
   "source": [
    "epi.tl.find_genes(adata_test,\n",
    "           gtf_file=filepath_test,\n",
    "           key_added='gene_annotation',\n",
    "           upstream=10,\n",
    "           feature_type='gene',\n",
    "           annotation='HAVANA',\n",
    "           raw=False)"
   ]
  },
  {
   "cell_type": "code",
   "execution_count": 388,
   "id": "d2097697",
   "metadata": {},
   "outputs": [],
   "source": [
    "my_find_genes(adata_test,\n",
    "            gtf_file=filepath_test,\n",
    "            key_added='my_gene_annotation',\n",
    "            upstream=10,\n",
    "            feature_type='gene',\n",
    "            annotation='HAVANA')"
   ]
  },
  {
   "cell_type": "code",
   "execution_count": 389,
   "id": "dbde0f75",
   "metadata": {},
   "outputs": [
    {
     "data": {
      "text/html": [
       "<div>\n",
       "<style scoped>\n",
       "    .dataframe tbody tr th:only-of-type {\n",
       "        vertical-align: middle;\n",
       "    }\n",
       "\n",
       "    .dataframe tbody tr th {\n",
       "        vertical-align: top;\n",
       "    }\n",
       "\n",
       "    .dataframe thead th {\n",
       "        text-align: right;\n",
       "    }\n",
       "</style>\n",
       "<table border=\"1\" class=\"dataframe\">\n",
       "  <thead>\n",
       "    <tr style=\"text-align: right;\">\n",
       "      <th></th>\n",
       "      <th>gene_annotation</th>\n",
       "      <th>my_gene_annotation</th>\n",
       "    </tr>\n",
       "  </thead>\n",
       "  <tbody>\n",
       "    <tr>\n",
       "      <th>chr1_1_3</th>\n",
       "      <td>intergenic</td>\n",
       "      <td>intergenic</td>\n",
       "    </tr>\n",
       "    <tr>\n",
       "      <th>chr1_5_9</th>\n",
       "      <td>intergenic</td>\n",
       "      <td>A</td>\n",
       "    </tr>\n",
       "    <tr>\n",
       "      <th>chr1_10_25</th>\n",
       "      <td>A</td>\n",
       "      <td>A</td>\n",
       "    </tr>\n",
       "    <tr>\n",
       "      <th>chr1_26_30</th>\n",
       "      <td>A</td>\n",
       "      <td>A</td>\n",
       "    </tr>\n",
       "    <tr>\n",
       "      <th>chr1_40_50</th>\n",
       "      <td>intergenic</td>\n",
       "      <td>intergenic</td>\n",
       "    </tr>\n",
       "    <tr>\n",
       "      <th>chr2_5_10</th>\n",
       "      <td>intergenic</td>\n",
       "      <td>B</td>\n",
       "    </tr>\n",
       "    <tr>\n",
       "      <th>chr2_30_40</th>\n",
       "      <td>intergenic</td>\n",
       "      <td>B</td>\n",
       "    </tr>\n",
       "    <tr>\n",
       "      <th>chr3_20_35</th>\n",
       "      <td>C</td>\n",
       "      <td>C</td>\n",
       "    </tr>\n",
       "    <tr>\n",
       "      <th>chr4_40_60</th>\n",
       "      <td>C</td>\n",
       "      <td>D</td>\n",
       "    </tr>\n",
       "    <tr>\n",
       "      <th>chr3_40_60</th>\n",
       "      <td>D</td>\n",
       "      <td>C</td>\n",
       "    </tr>\n",
       "    <tr>\n",
       "      <th>chrU_5_25</th>\n",
       "      <td>unassigned</td>\n",
       "      <td>unassigned</td>\n",
       "    </tr>\n",
       "  </tbody>\n",
       "</table>\n",
       "</div>"
      ],
      "text/plain": [
       "           gene_annotation my_gene_annotation\n",
       "chr1_1_3        intergenic         intergenic\n",
       "chr1_5_9        intergenic                  A\n",
       "chr1_10_25               A                  A\n",
       "chr1_26_30               A                  A\n",
       "chr1_40_50      intergenic         intergenic\n",
       "chr2_5_10       intergenic                  B\n",
       "chr2_30_40      intergenic                  B\n",
       "chr3_20_35               C                  C\n",
       "chr4_40_60               C                  D\n",
       "chr3_40_60               D                  C\n",
       "chrU_5_25       unassigned         unassigned"
      ]
     },
     "execution_count": 389,
     "metadata": {},
     "output_type": "execute_result"
    }
   ],
   "source": [
    "adata_test.var"
   ]
  },
  {
   "cell_type": "markdown",
   "id": "fcccb3a9",
   "metadata": {},
   "source": [
    "Just as a reminder:\n",
    "```\n",
    "on chr1 we test for the first bug\n",
    "gene A:\n",
    "10-20 on negative strand, extended to 10-30\n",
    "15-25 on positive strand, extended to 5-25\n",
    "\n",
    "on chr2 we test for the second bug\n",
    "gene B:\n",
    "20-30 on positive strand, extended to 10-30\n",
    "\n",
    "on chr3 and chr4 we test the thrid bug\n",
    "chr3, gene C:\n",
    "40-50 on positive strand, extended to 30-50\n",
    "chr4, gene D\n",
    "50-60 on positive strand, extended to 40-60\n",
    "```"
   ]
  },
  {
   "cell_type": "markdown",
   "id": "e712b2cd",
   "metadata": {},
   "source": [
    "### 5.3. Conclusion for test data\n",
    "```\n",
    "epi.tl.find_genes does not annotate the region chr1_5_9 with gene A, even though they overlap.\n",
    "epi.tl.find_genes does not annotate the region chr_2_5_10 with gene B, even though they overlap.\n",
    "epi.tl.find_genes does not annotate the region chr_2_30_40 with gene B, even though they overlap.\n",
    "epi.tl.find_genes swaps the annotation for the region chr4_40_60 and chr3_40_60\n",
    "```"
   ]
  },
  {
   "cell_type": "markdown",
   "id": "ce252830",
   "metadata": {},
   "source": [
    "## 6. Performance of my_find_genes with transcripts"
   ]
  },
  {
   "cell_type": "code",
   "execution_count": 234,
   "id": "087f7527",
   "metadata": {},
   "outputs": [
    {
     "name": "stdout",
     "output_type": "stream",
     "text": [
      "53065\n",
      "222945\n"
     ]
    }
   ],
   "source": [
    "!cat {data_folder}/{gtf_filename} | grep -P \"HAVANA\\tgene\" | wc -l\n",
    "!cat {data_folder}/{gtf_filename} | grep -P \"HAVANA\\ttranscript\" | wc -l"
   ]
  },
  {
   "cell_type": "markdown",
   "id": "94f23e13",
   "metadata": {},
   "source": [
    "There are ~4 times more transcripts than genes!"
   ]
  },
  {
   "cell_type": "code",
   "execution_count": 229,
   "id": "ef64bc34",
   "metadata": {},
   "outputs": [
    {
     "name": "stdout",
     "output_type": "stream",
     "text": [
      "CPU times: user 8min 26s, sys: 1.38 s, total: 8min 27s\n",
      "Wall time: 8min 27s\n"
     ]
    }
   ],
   "source": [
    "%%time\n",
    "find_genes_fixed3(adata,\n",
    "           gtf_file=f\"{data_folder}/{gtf_filename}\",\n",
    "           key_added='transcript_annotation',\n",
    "           upstream=2000,\n",
    "           feature_type='transcript',\n",
    "           annotation='HAVANA',\n",
    "           raw=False)"
   ]
  },
  {
   "cell_type": "markdown",
   "id": "5132edb0",
   "metadata": {},
   "source": [
    "O(N x M): find_genes_fixed3 takes ~4 times as much time time."
   ]
  },
  {
   "cell_type": "code",
   "execution_count": 231,
   "id": "c3116c8c",
   "metadata": {},
   "outputs": [
    {
     "name": "stdout",
     "output_type": "stream",
     "text": [
      "CPU times: user 10 s, sys: 597 ms, total: 10.6 s\n",
      "Wall time: 10.6 s\n"
     ]
    }
   ],
   "source": [
    "%%time\n",
    "my_find_genes(adata,\n",
    "           gtf_file=f\"{data_folder}/{gtf_filename}\",\n",
    "           key_added='my_transcript_annotation',\n",
    "           upstream=2000,\n",
    "           feature_type='transcript',\n",
    "           annotation='HAVANA')"
   ]
  },
  {
   "cell_type": "markdown",
   "id": "05299580",
   "metadata": {},
   "source": [
    "O(N + M): my_find_genes did almost not slow down. It's performance is likely still dominated by the number of regions."
   ]
  },
  {
   "cell_type": "code",
   "execution_count": 232,
   "id": "eb63ee1c",
   "metadata": {},
   "outputs": [
    {
     "name": "stdout",
     "output_type": "stream",
     "text": [
      "\n",
      "number of regions with difference: 0\n",
      "total number of regions: 1154611\n",
      "percentage of regions with a difference: 0.0000%\n"
     ]
    }
   ],
   "source": [
    "n = 0\n",
    "for i, region in enumerate(adata.var_names.tolist()):\n",
    "    left = \";\".join(sorted(adata.var[\"transcript_annotation\"][region].split(\";\"))) # sort to make them better comparable\n",
    "    right = \";\".join(sorted(adata.var[\"my_transcript_annotation\"][region].split(\";\")))\n",
    "    if left != right:\n",
    "        n += 1\n",
    "        if n <= 10:\n",
    "            print(i, region, left, right)\n",
    "print()\n",
    "print(f\"number of regions with difference: {n}\")\n",
    "print(f\"total number of regions: {len(adata.var)}\")\n",
    "print(f\"percentage of regions with a difference: {n / len(adata.var)*100:0.4f}%\")"
   ]
  },
  {
   "cell_type": "markdown",
   "id": "f15c5ac9",
   "metadata": {},
   "source": [
    "First of: There are not differences in the annotations.\n",
    "\n",
    "Second: Since find_genes_fixed3 relies on a O(N x M) it significantly slows down due to there being more transcripts than regions. my_find_genes almost doesn't slow down at all."
   ]
  },
  {
   "cell_type": "markdown",
   "id": "f4eda29d",
   "metadata": {},
   "source": [
    "## 7. Repeat the plots with my_find_genes' data"
   ]
  },
  {
   "cell_type": "markdown",
   "id": "57ef61b3",
   "metadata": {},
   "source": [
    "### 7.1. Prepare data"
   ]
  },
  {
   "cell_type": "code",
   "execution_count": 240,
   "id": "feed40ee",
   "metadata": {},
   "outputs": [],
   "source": [
    "split_genes = adata.var['my_gene_annotation'].str.split(';')\n",
    "flattened_data = []\n",
    "for index, genes in split_genes.items():\n",
    "    for gene in genes:\n",
    "        flattened_data.append([index, gene])\n",
    "flattened_df = pd.DataFrame(flattened_data, columns=['region', 'gene'])\n",
    "gene_counts = flattened_df.groupby('gene').count()\n",
    "gene_counts.rename(columns={'region': 'region_count'}, inplace=True)"
   ]
  },
  {
   "cell_type": "code",
   "execution_count": 236,
   "id": "b590e13e",
   "metadata": {},
   "outputs": [
    {
     "data": {
      "text/html": [
       "<div>\n",
       "<style scoped>\n",
       "    .dataframe tbody tr th:only-of-type {\n",
       "        vertical-align: middle;\n",
       "    }\n",
       "\n",
       "    .dataframe tbody tr th {\n",
       "        vertical-align: top;\n",
       "    }\n",
       "\n",
       "    .dataframe thead th {\n",
       "        text-align: right;\n",
       "    }\n",
       "</style>\n",
       "<table border=\"1\" class=\"dataframe\">\n",
       "  <thead>\n",
       "    <tr style=\"text-align: right;\">\n",
       "      <th></th>\n",
       "      <th>region_count</th>\n",
       "    </tr>\n",
       "    <tr>\n",
       "      <th>gene</th>\n",
       "      <th></th>\n",
       "    </tr>\n",
       "  </thead>\n",
       "  <tbody>\n",
       "    <tr>\n",
       "      <th>A1BG</th>\n",
       "      <td>6</td>\n",
       "    </tr>\n",
       "    <tr>\n",
       "      <th>A1BG-AS1</th>\n",
       "      <td>6</td>\n",
       "    </tr>\n",
       "    <tr>\n",
       "      <th>A1CF</th>\n",
       "      <td>32</td>\n",
       "    </tr>\n",
       "    <tr>\n",
       "      <th>A2M</th>\n",
       "      <td>25</td>\n",
       "    </tr>\n",
       "    <tr>\n",
       "      <th>A2M-AS1</th>\n",
       "      <td>3</td>\n",
       "    </tr>\n",
       "    <tr>\n",
       "      <th>...</th>\n",
       "      <td>...</td>\n",
       "    </tr>\n",
       "    <tr>\n",
       "      <th>bP-2189O9.5</th>\n",
       "      <td>5</td>\n",
       "    </tr>\n",
       "    <tr>\n",
       "      <th>hsa-mir-423</th>\n",
       "      <td>1</td>\n",
       "    </tr>\n",
       "    <tr>\n",
       "      <th>intergenic</th>\n",
       "      <td>336321</td>\n",
       "    </tr>\n",
       "    <tr>\n",
       "      <th>unassigned</th>\n",
       "      <td>5</td>\n",
       "    </tr>\n",
       "    <tr>\n",
       "      <th>yR211F11.2</th>\n",
       "      <td>5</td>\n",
       "    </tr>\n",
       "  </tbody>\n",
       "</table>\n",
       "<p>45319 rows × 1 columns</p>\n",
       "</div>"
      ],
      "text/plain": [
       "             region_count\n",
       "gene                     \n",
       "A1BG                    6\n",
       "A1BG-AS1                6\n",
       "A1CF                   32\n",
       "A2M                    25\n",
       "A2M-AS1                 3\n",
       "...                   ...\n",
       "bP-2189O9.5             5\n",
       "hsa-mir-423             1\n",
       "intergenic         336321\n",
       "unassigned              5\n",
       "yR211F11.2              5\n",
       "\n",
       "[45319 rows x 1 columns]"
      ]
     },
     "execution_count": 236,
     "metadata": {},
     "output_type": "execute_result"
    }
   ],
   "source": [
    "gene_counts"
   ]
  },
  {
   "cell_type": "code",
   "execution_count": 242,
   "id": "2d7d7613",
   "metadata": {},
   "outputs": [],
   "source": [
    "# Drop 'intergenic' and 'unassigned' annotations\n",
    "gene_counts = gene_counts.drop(\"intergenic\")\n",
    "gene_counts = gene_counts.drop(\"unassigned\")"
   ]
  },
  {
   "cell_type": "markdown",
   "id": "178e22ef",
   "metadata": {},
   "source": [
    "### 7.2. Plot Top 80 Genes by region count"
   ]
  },
  {
   "cell_type": "code",
   "execution_count": 243,
   "id": "29d3e70c",
   "metadata": {
    "scrolled": false
   },
   "outputs": [
    {
     "data": {
      "image/png": "[encoded data removed]",
      "text/plain": [
       "<Figure size 1200x800 with 1 Axes>"
      ]
     },
     "metadata": {},
     "output_type": "display_data"
    }
   ],
   "source": [
    "top_n = 80\n",
    "gene_counts_sorted = gene_counts.sort_values(by=\"region_count\", ascending=False).head(top_n)\n",
    "\n",
    "# Plotting\n",
    "plt.figure(figsize=(12, 8))\n",
    "plt.bar(gene_counts_sorted.index, gene_counts_sorted[\"region_count\"])\n",
    "plt.xticks(rotation=90)\n",
    "plt.xlabel(\"Gene\")\n",
    "plt.ylabel(\"Count of Regions\")\n",
    "plt.title(f\"Top {top_n} Genes by Count of Associated Regions\")\n",
    "plt.tight_layout()\n",
    "plt.show()"
   ]
  },
  {
   "cell_type": "markdown",
   "id": "53589809",
   "metadata": {},
   "source": [
    "The plot is almost the same as before. We did not change the amount of annotated regions significantly, but the chromosome where they are annotated!"
   ]
  },
  {
   "cell_type": "markdown",
   "id": "73d111b2",
   "metadata": {},
   "source": [
    "### 7.3. Plot Distribution (Histogram) of region_count per gene_annotation"
   ]
  },
  {
   "cell_type": "code",
   "execution_count": 239,
   "id": "23e74674",
   "metadata": {},
   "outputs": [
    {
     "name": "stderr",
     "output_type": "stream",
     "text": [
      " FutureWarning:/home/stud1/.conda/envs/datenanalyse/lib/python3.10/site-packages/seaborn/_oldcore.py:1498: is_categorical_dtype is deprecated and will be removed in a future version. Use isinstance(dtype, CategoricalDtype) instead\n",
      " FutureWarning:/home/stud1/.conda/envs/datenanalyse/lib/python3.10/site-packages/seaborn/_oldcore.py:1119: use_inf_as_na option is deprecated and will be removed in a future version. Convert inf values to NaN before operating instead.\n"
     ]
    },
    {
     "data": {
      "text/plain": [
       "<Figure size 1200x600 with 0 Axes>"
      ]
     },
     "metadata": {},
     "output_type": "display_data"
    },
    {
     "data": {
      "image/png": "[encoded data removed]",
      "text/plain": [
       "<Figure size 500x500 with 1 Axes>"
      ]
     },
     "metadata": {},
     "output_type": "display_data"
    }
   ],
   "source": [
    "plt.figure(figsize=(12, 6))\n",
    "sns.displot(gene_counts[\"region_count\"], kind='hist', log_scale=(False, True), bins=100)\n",
    "plt.xlabel(\"Count of Regions\")\n",
    "plt.ylabel(\"Frequency (log-scale)\")\n",
    "plt.title(\"Distribution of Region Counts Across Genes\")\n",
    "plt.show()"
   ]
  },
  {
   "cell_type": "markdown",
   "id": "4cb1de63",
   "metadata": {},
   "source": [
    "Also almost the same!"
   ]
  },
  {
   "cell_type": "markdown",
   "id": "8b9bb12c",
   "metadata": {},
   "source": [
    "## 8. Test different settings of upstream/downstream to cover most regions, but not overlap with too much genes at the same time."
   ]
  },
  {
   "cell_type": "markdown",
   "id": "5c4795d1",
   "metadata": {},
   "source": [
    "To test for different parameters for upstream and downstream we want to see a good coverage with a low overlap.\n",
    "\n",
    "Coverage: The number of regions annotated with at least one gene.\n",
    "\n",
    "Overlap: The number of regions annotated with at least two genes."
   ]
  },
  {
   "cell_type": "code",
   "execution_count": 245,
   "id": "8b6d264b",
   "metadata": {},
   "outputs": [
    {
     "name": "stderr",
     "output_type": "stream",
     "text": [
      " PerformanceWarning:/tmp/ipykernel_279231/74595845.py:124: DataFrame is highly fragmented.  This is usually the result of calling `frame.insert` many times, which has poor performance.  Consider joining all columns at once using pd.concat(axis=1) instead. To get a de-fragmented frame, use `newframe = frame.copy()`\n",
      " PerformanceWarning:/tmp/ipykernel_279231/74595845.py:124: DataFrame is highly fragmented.  This is usually the result of calling `frame.insert` many times, which has poor performance.  Consider joining all columns at once using pd.concat(axis=1) instead. To get a de-fragmented frame, use `newframe = frame.copy()`\n",
      " PerformanceWarning:/tmp/ipykernel_279231/74595845.py:124: DataFrame is highly fragmented.  This is usually the result of calling `frame.insert` many times, which has poor performance.  Consider joining all columns at once using pd.concat(axis=1) instead. To get a de-fragmented frame, use `newframe = frame.copy()`\n",
      " PerformanceWarning:/tmp/ipykernel_279231/74595845.py:124: DataFrame is highly fragmented.  This is usually the result of calling `frame.insert` many times, which has poor performance.  Consider joining all columns at once using pd.concat(axis=1) instead. To get a de-fragmented frame, use `newframe = frame.copy()`\n"
     ]
    },
    {
     "name": "stdout",
     "output_type": "stream",
     "text": [
      "CPU times: user 13min 13s, sys: 40.2 s, total: 13min 53s\n",
      "Wall time: 13min 51s\n"
     ]
    },
    {
     "name": "stderr",
     "output_type": "stream",
     "text": [
      " PerformanceWarning:/tmp/ipykernel_279231/74595845.py:124: DataFrame is highly fragmented.  This is usually the result of calling `frame.insert` many times, which has poor performance.  Consider joining all columns at once using pd.concat(axis=1) instead. To get a de-fragmented frame, use `newframe = frame.copy()`\n"
     ]
    }
   ],
   "source": [
    "%%time\n",
    "for upstream in [0, 500, 1000, 2000, 5000, 10000, 20000]:\n",
    "    for downstream in [0, 500, 1000, 2000, 5000, 10000, 20000]:\n",
    "        for annotation in [\"HAVANA\", \"ENSEMBL\"]:\n",
    "            my_find_genes(adata,\n",
    "                    gtf_file=f\"{data_folder}/{gtf_filename}\",\n",
    "                    key_added=f'gene_annotation_{annotation}_{upstream}_{downstream}',\n",
    "                    upstream=upstream,\n",
    "                    downstream=downstream,\n",
    "                    feature_type='gene',\n",
    "                    annotation=annotation)"
   ]
  },
  {
   "cell_type": "markdown",
   "id": "5fdbb7da",
   "metadata": {},
   "source": [
    "This would be very painful with the slower find_genes."
   ]
  },
  {
   "cell_type": "code",
   "execution_count": 339,
   "id": "bfcb7ec2",
   "metadata": {},
   "outputs": [],
   "source": [
    "def calculate_metrics(adata, column_names):\n",
    "    tidy_data = []\n",
    "\n",
    "    for col in column_names:\n",
    "        if col in adata.var.columns:\n",
    "            # Extract annotation, upstream, and downstream from column name\n",
    "            annotation, upstream, downstream = col.split('_')[2:]  # Adjust the indices based on your column name format\n",
    "\n",
    "            # Split the gene annotations and count the number of genes per region, excluding 'intergenic' or 'unassigned'\n",
    "            gene_counts = adata.var[col].str.split(';').apply(lambda x: len([gene for gene in x if gene not in ['intergenic', 'unassigned']]) if isinstance(x, list) else 0)\n",
    "\n",
    "            # Calculate coverage\n",
    "            coverage = (gene_counts > 0).sum()\n",
    "\n",
    "            # Calculate overlap\n",
    "            overlap = (gene_counts > 1).sum()\n",
    "\n",
    "            # Accumulate the data\n",
    "            tidy_data.append({'upstream': upstream, 'downstream': downstream, 'annotation': annotation, 'metric': 'coverage', 'value': coverage})\n",
    "            tidy_data.append({'upstream': upstream, 'downstream': downstream, 'annotation': annotation, 'metric': 'overlap', 'value': overlap})\n",
    "        else:\n",
    "            print(f\"Column '{col}' not found in adata.var\")\n",
    "\n",
    "    tidy_df = pd.DataFrame(tidy_data)\n",
    "\n",
    "    return tidy_df"
   ]
  },
  {
   "cell_type": "code",
   "execution_count": 337,
   "id": "0fec8d43",
   "metadata": {},
   "outputs": [
    {
     "name": "stdout",
     "output_type": "stream",
     "text": [
      "CPU times: user 3min 26s, sys: 286 ms, total: 3min 27s\n",
      "Wall time: 3min 27s\n"
     ]
    }
   ],
   "source": [
    "%%time\n",
    "col_names = []\n",
    "for upstream in [0, 500, 1000, 2000, 5000, 10000, 20000]:\n",
    "    for downstream in [0, 500, 1000, 2000, 5000, 10000, 20000]:\n",
    "        for annotation in [\"HAVANA\", \"ENSEMBL\"]:\n",
    "            col_names.append(f'gene_annotation_{annotation}_{upstream}_{downstream}')\n",
    "\n",
    "metrics_df = calculate_metrics(adata, col_names)"
   ]
  },
  {
   "cell_type": "code",
   "execution_count": 341,
   "id": "900f3760",
   "metadata": {},
   "outputs": [
    {
     "data": {
      "text/html": [
       "<div>\n",
       "<style scoped>\n",
       "    .dataframe tbody tr th:only-of-type {\n",
       "        vertical-align: middle;\n",
       "    }\n",
       "\n",
       "    .dataframe tbody tr th {\n",
       "        vertical-align: top;\n",
       "    }\n",
       "\n",
       "    .dataframe thead th {\n",
       "        text-align: right;\n",
       "    }\n",
       "</style>\n",
       "<table border=\"1\" class=\"dataframe\">\n",
       "  <thead>\n",
       "    <tr style=\"text-align: right;\">\n",
       "      <th></th>\n",
       "      <th>upstream</th>\n",
       "      <th>downstream</th>\n",
       "      <th>annotation</th>\n",
       "      <th>metric</th>\n",
       "      <th>value</th>\n",
       "    </tr>\n",
       "  </thead>\n",
       "  <tbody>\n",
       "    <tr>\n",
       "      <th>0</th>\n",
       "      <td>0</td>\n",
       "      <td>0</td>\n",
       "      <td>HAVANA</td>\n",
       "      <td>coverage</td>\n",
       "      <td>796361</td>\n",
       "    </tr>\n",
       "    <tr>\n",
       "      <th>1</th>\n",
       "      <td>0</td>\n",
       "      <td>0</td>\n",
       "      <td>HAVANA</td>\n",
       "      <td>overlap</td>\n",
       "      <td>108201</td>\n",
       "    </tr>\n",
       "    <tr>\n",
       "      <th>2</th>\n",
       "      <td>0</td>\n",
       "      <td>0</td>\n",
       "      <td>ENSEMBL</td>\n",
       "      <td>coverage</td>\n",
       "      <td>1809</td>\n",
       "    </tr>\n",
       "    <tr>\n",
       "      <th>3</th>\n",
       "      <td>0</td>\n",
       "      <td>0</td>\n",
       "      <td>ENSEMBL</td>\n",
       "      <td>overlap</td>\n",
       "      <td>55</td>\n",
       "    </tr>\n",
       "    <tr>\n",
       "      <th>4</th>\n",
       "      <td>0</td>\n",
       "      <td>500</td>\n",
       "      <td>HAVANA</td>\n",
       "      <td>coverage</td>\n",
       "      <td>802537</td>\n",
       "    </tr>\n",
       "    <tr>\n",
       "      <th>...</th>\n",
       "      <td>...</td>\n",
       "      <td>...</td>\n",
       "      <td>...</td>\n",
       "      <td>...</td>\n",
       "      <td>...</td>\n",
       "    </tr>\n",
       "    <tr>\n",
       "      <th>191</th>\n",
       "      <td>20000</td>\n",
       "      <td>10000</td>\n",
       "      <td>ENSEMBL</td>\n",
       "      <td>overlap</td>\n",
       "      <td>9841</td>\n",
       "    </tr>\n",
       "    <tr>\n",
       "      <th>192</th>\n",
       "      <td>20000</td>\n",
       "      <td>20000</td>\n",
       "      <td>HAVANA</td>\n",
       "      <td>coverage</td>\n",
       "      <td>992473</td>\n",
       "    </tr>\n",
       "    <tr>\n",
       "      <th>193</th>\n",
       "      <td>20000</td>\n",
       "      <td>20000</td>\n",
       "      <td>HAVANA</td>\n",
       "      <td>overlap</td>\n",
       "      <td>493152</td>\n",
       "    </tr>\n",
       "    <tr>\n",
       "      <th>194</th>\n",
       "      <td>20000</td>\n",
       "      <td>20000</td>\n",
       "      <td>ENSEMBL</td>\n",
       "      <td>coverage</td>\n",
       "      <td>116994</td>\n",
       "    </tr>\n",
       "    <tr>\n",
       "      <th>195</th>\n",
       "      <td>20000</td>\n",
       "      <td>20000</td>\n",
       "      <td>ENSEMBL</td>\n",
       "      <td>overlap</td>\n",
       "      <td>14879</td>\n",
       "    </tr>\n",
       "  </tbody>\n",
       "</table>\n",
       "<p>196 rows × 5 columns</p>\n",
       "</div>"
      ],
      "text/plain": [
       "    upstream downstream annotation    metric   value\n",
       "0          0          0     HAVANA  coverage  796361\n",
       "1          0          0     HAVANA   overlap  108201\n",
       "2          0          0    ENSEMBL  coverage    1809\n",
       "3          0          0    ENSEMBL   overlap      55\n",
       "4          0        500     HAVANA  coverage  802537\n",
       "..       ...        ...        ...       ...     ...\n",
       "191    20000      10000    ENSEMBL   overlap    9841\n",
       "192    20000      20000     HAVANA  coverage  992473\n",
       "193    20000      20000     HAVANA   overlap  493152\n",
       "194    20000      20000    ENSEMBL  coverage  116994\n",
       "195    20000      20000    ENSEMBL   overlap   14879\n",
       "\n",
       "[196 rows x 5 columns]"
      ]
     },
     "execution_count": 341,
     "metadata": {},
     "output_type": "execute_result"
    }
   ],
   "source": [
    "metrics_df"
   ]
  },
  {
   "cell_type": "code",
   "execution_count": 342,
   "id": "a2169b3c",
   "metadata": {},
   "outputs": [],
   "source": [
    "# Filter for HAVANA and ENSEMBL annotations\n",
    "havana_df = metrics_df[metrics_df['annotation'] == 'HAVANA']\n",
    "ensembl_df = metrics_df[metrics_df['annotation'] == 'ENSEMBL']\n",
    "\n",
    "# Function to calculate the ratio and reshape for heatmap\n",
    "def prepare_heatmap_data(df):\n",
    "    # Pivot table to create a matrix of upstream (rows) and downstream (columns)\n",
    "    coverage = df[df['metric'] == 'coverage'].pivot(index='upstream', columns='downstream', values='value')\n",
    "    overlap = df[df['metric'] == 'overlap'].pivot(index='upstream', columns='downstream', values='value')\n",
    "\n",
    "    # Calculate the ratio and handle division by zero\n",
    "    ratio = coverage - overlap\n",
    "    ratio.replace([np.inf, -np.inf], np.nan, inplace=True)  # Replace infinities with NaN\n",
    "\n",
    "    return ratio\n",
    "\n",
    "# Prepare data for heatmaps\n",
    "havana_heatmap_data = prepare_heatmap_data(havana_df)\n",
    "ensembl_heatmap_data = prepare_heatmap_data(ensembl_df)\n",
    "\n",
    "# Convert 'upstream' and 'downstream' to integers for sorting\n",
    "havana_heatmap_data.index = havana_heatmap_data.index.astype(int)\n",
    "havana_heatmap_data.columns = havana_heatmap_data.columns.astype(int)\n",
    "ensembl_heatmap_data.index = ensembl_heatmap_data.index.astype(int)\n",
    "ensembl_heatmap_data.columns = ensembl_heatmap_data.columns.astype(int)\n",
    "\n",
    "# Sort the index and columns\n",
    "havana_heatmap_data = havana_heatmap_data.sort_index().sort_index(axis=1)\n",
    "ensembl_heatmap_data = ensembl_heatmap_data.sort_index().sort_index(axis=1)"
   ]
  },
  {
   "cell_type": "code",
   "execution_count": 343,
   "id": "c0f25faf",
   "metadata": {},
   "outputs": [
    {
     "data": {
      "text/html": [
       "<div>\n",
       "<style scoped>\n",
       "    .dataframe tbody tr th:only-of-type {\n",
       "        vertical-align: middle;\n",
       "    }\n",
       "\n",
       "    .dataframe tbody tr th {\n",
       "        vertical-align: top;\n",
       "    }\n",
       "\n",
       "    .dataframe thead th {\n",
       "        text-align: right;\n",
       "    }\n",
       "</style>\n",
       "<table border=\"1\" class=\"dataframe\">\n",
       "  <thead>\n",
       "    <tr style=\"text-align: right;\">\n",
       "      <th>downstream</th>\n",
       "      <th>0</th>\n",
       "      <th>500</th>\n",
       "      <th>1000</th>\n",
       "      <th>2000</th>\n",
       "      <th>5000</th>\n",
       "      <th>10000</th>\n",
       "      <th>20000</th>\n",
       "    </tr>\n",
       "    <tr>\n",
       "      <th>upstream</th>\n",
       "      <th></th>\n",
       "      <th></th>\n",
       "      <th></th>\n",
       "      <th></th>\n",
       "      <th></th>\n",
       "      <th></th>\n",
       "      <th></th>\n",
       "    </tr>\n",
       "  </thead>\n",
       "  <tbody>\n",
       "    <tr>\n",
       "      <th>0</th>\n",
       "      <td>688160</td>\n",
       "      <td>688927</td>\n",
       "      <td>689002</td>\n",
       "      <td>687934</td>\n",
       "      <td>679029</td>\n",
       "      <td>655949</td>\n",
       "      <td>599921</td>\n",
       "    </tr>\n",
       "    <tr>\n",
       "      <th>500</th>\n",
       "      <td>687183</td>\n",
       "      <td>687656</td>\n",
       "      <td>687487</td>\n",
       "      <td>686034</td>\n",
       "      <td>676395</td>\n",
       "      <td>652630</td>\n",
       "      <td>596458</td>\n",
       "    </tr>\n",
       "    <tr>\n",
       "      <th>1000</th>\n",
       "      <td>685988</td>\n",
       "      <td>686143</td>\n",
       "      <td>685755</td>\n",
       "      <td>684086</td>\n",
       "      <td>673932</td>\n",
       "      <td>649731</td>\n",
       "      <td>593480</td>\n",
       "    </tr>\n",
       "    <tr>\n",
       "      <th>2000</th>\n",
       "      <td>684024</td>\n",
       "      <td>683860</td>\n",
       "      <td>683153</td>\n",
       "      <td>680999</td>\n",
       "      <td>670105</td>\n",
       "      <td>645223</td>\n",
       "      <td>588891</td>\n",
       "    </tr>\n",
       "    <tr>\n",
       "      <th>5000</th>\n",
       "      <td>676888</td>\n",
       "      <td>675999</td>\n",
       "      <td>674632</td>\n",
       "      <td>671241</td>\n",
       "      <td>658105</td>\n",
       "      <td>632058</td>\n",
       "      <td>575632</td>\n",
       "    </tr>\n",
       "    <tr>\n",
       "      <th>10000</th>\n",
       "      <td>655273</td>\n",
       "      <td>653573</td>\n",
       "      <td>651668</td>\n",
       "      <td>647228</td>\n",
       "      <td>631681</td>\n",
       "      <td>604819</td>\n",
       "      <td>549943</td>\n",
       "    </tr>\n",
       "    <tr>\n",
       "      <th>20000</th>\n",
       "      <td>599803</td>\n",
       "      <td>597704</td>\n",
       "      <td>595463</td>\n",
       "      <td>590601</td>\n",
       "      <td>575363</td>\n",
       "      <td>549673</td>\n",
       "      <td>499321</td>\n",
       "    </tr>\n",
       "  </tbody>\n",
       "</table>\n",
       "</div>"
      ],
      "text/plain": [
       "downstream   0       500     1000    2000    5000    10000   20000\n",
       "upstream                                                          \n",
       "0           688160  688927  689002  687934  679029  655949  599921\n",
       "500         687183  687656  687487  686034  676395  652630  596458\n",
       "1000        685988  686143  685755  684086  673932  649731  593480\n",
       "2000        684024  683860  683153  680999  670105  645223  588891\n",
       "5000        676888  675999  674632  671241  658105  632058  575632\n",
       "10000       655273  653573  651668  647228  631681  604819  549943\n",
       "20000       599803  597704  595463  590601  575363  549673  499321"
      ]
     },
     "execution_count": 343,
     "metadata": {},
     "output_type": "execute_result"
    }
   ],
   "source": [
    "havana_heatmap_data"
   ]
  },
  {
   "cell_type": "code",
   "execution_count": 317,
   "id": "1cc7f19a",
   "metadata": {
    "scrolled": false
   },
   "outputs": [
    {
     "data": {
      "image/png": "[encoded data removed]",
      "text/plain": [
       "<Figure size 1200x1000 with 2 Axes>"
      ]
     },
     "metadata": {},
     "output_type": "display_data"
    },
    {
     "data": {
      "image/png": "[encoded data removed]",
      "text/plain": [
       "<Figure size 1200x1000 with 2 Axes>"
      ]
     },
     "metadata": {},
     "output_type": "display_data"
    }
   ],
   "source": [
    "# Function to plot heatmap\n",
    "def plot_heatmap(data, title):\n",
    "    plt.figure(figsize=(12, 10))\n",
    "    sns.heatmap(data, annot=True, fmt=\".4f\", cmap='viridis', annot_kws={\"size\": 7})\n",
    "    plt.title(title)\n",
    "    plt.ylabel('Upstream')\n",
    "    plt.xlabel('Downstream')\n",
    "    plt.xticks(rotation=45)\n",
    "    plt.yticks(rotation=45)\n",
    "    plt.show()\n",
    "\n",
    "# Plot heatmaps for HAVANA and ENSEMBL\n",
    "plot_heatmap(havana_heatmap_data, 'HAVANA Coverage/Overlap Ratio')\n",
    "plot_heatmap(ensembl_heatmap_data, 'ENSEMBL Coverage/Overlap Ratio')"
   ]
  },
  {
   "cell_type": "markdown",
   "id": "8949556a",
   "metadata": {},
   "source": [
    "- TODO plot all the relevant Heatmaps/whatever one after the other, instead of relying on changing the cells above.\n",
    "- TODO properly rewrite this conclusion\n",
    "\n",
    "We see that HAVANA has way better coverage than ENSEMBLE. Thus we drop ENSEMBLE for now.\n",
    "\n",
    "In general coverage and overlap increase as we either increase upstream or downstream.\n",
    "\n",
    "Increasing upstream is a little better for not increasing overlap, while also being better for increasing coverage.\n",
    "But the ratio of coverage/overlap is better if we increase upstream, rather than downstream. Thus we want to increase upstream a little over downstream.\n",
    "\n",
    "We want a good coverage, of most regions, while keeping the overlap managable. I suppose the following steps have a much harder time diffentiating between different cells, if too many genes overlap.\n",
    "\n",
    "For now: we choose HAVANA upstream 5000 and downstream 2000 as our default gene_annotation.\n",
    "It has a good coverage of 849K, in the midst between HAVANA,0,0 (796K) and HAVANA,20000,20000 (992K), while at the same time only having an overlap of 186K, which is not much worse than HAVANA,0,0 (108K) but way better than HAVANA,20000,20000 (493K)\n",
    "\n",
    "The best ratio of coverage/overlap is at 0,0 while the best difference coverage - overlap is at 0,1000"
   ]
  },
  {
   "cell_type": "code",
   "execution_count": 344,
   "id": "c79b8461",
   "metadata": {},
   "outputs": [
    {
     "data": {
      "text/plain": [
       "AnnData object with n_obs × n_vars = 10997 × 1154611\n",
       "    var: 'gene_annotation', 'my_gene_annotation', 'gene_annotation_sorted', 'gene_annotation_sorted_overlap', 'gene_annotation_sorted_overlap_stored', 'transcript_annotation', 'my_transcript_annotation', 'gene_annotation_HAVANA_0_0', 'gene_annotation_ENSEMBL_0_0', 'gene_annotation_HAVANA_0_500', 'gene_annotation_ENSEMBL_0_500', 'gene_annotation_HAVANA_0_1000', 'gene_annotation_ENSEMBL_0_1000', 'gene_annotation_HAVANA_0_2000', 'gene_annotation_ENSEMBL_0_2000', 'gene_annotation_HAVANA_0_5000', 'gene_annotation_ENSEMBL_0_5000', 'gene_annotation_HAVANA_0_10000', 'gene_annotation_ENSEMBL_0_10000', 'gene_annotation_HAVANA_0_20000', 'gene_annotation_ENSEMBL_0_20000', 'gene_annotation_HAVANA_500_0', 'gene_annotation_ENSEMBL_500_0', 'gene_annotation_HAVANA_500_500', 'gene_annotation_ENSEMBL_500_500', 'gene_annotation_HAVANA_500_1000', 'gene_annotation_ENSEMBL_500_1000', 'gene_annotation_HAVANA_500_2000', 'gene_annotation_ENSEMBL_500_2000', 'gene_annotation_HAVANA_500_5000', 'gene_annotation_ENSEMBL_500_5000', 'gene_annotation_HAVANA_500_10000', 'gene_annotation_ENSEMBL_500_10000', 'gene_annotation_HAVANA_500_20000', 'gene_annotation_ENSEMBL_500_20000', 'gene_annotation_HAVANA_1000_0', 'gene_annotation_ENSEMBL_1000_0', 'gene_annotation_HAVANA_1000_500', 'gene_annotation_ENSEMBL_1000_500', 'gene_annotation_HAVANA_1000_1000', 'gene_annotation_ENSEMBL_1000_1000', 'gene_annotation_HAVANA_1000_2000', 'gene_annotation_ENSEMBL_1000_2000', 'gene_annotation_HAVANA_1000_5000', 'gene_annotation_ENSEMBL_1000_5000', 'gene_annotation_HAVANA_1000_10000', 'gene_annotation_ENSEMBL_1000_10000', 'gene_annotation_HAVANA_1000_20000', 'gene_annotation_ENSEMBL_1000_20000', 'gene_annotation_HAVANA_2000_0', 'gene_annotation_ENSEMBL_2000_0', 'gene_annotation_HAVANA_2000_500', 'gene_annotation_ENSEMBL_2000_500', 'gene_annotation_HAVANA_2000_1000', 'gene_annotation_ENSEMBL_2000_1000', 'gene_annotation_HAVANA_2000_2000', 'gene_annotation_ENSEMBL_2000_2000', 'gene_annotation_HAVANA_2000_5000', 'gene_annotation_ENSEMBL_2000_5000', 'gene_annotation_HAVANA_2000_10000', 'gene_annotation_ENSEMBL_2000_10000', 'gene_annotation_HAVANA_2000_20000', 'gene_annotation_ENSEMBL_2000_20000', 'gene_annotation_HAVANA_5000_0', 'gene_annotation_ENSEMBL_5000_0', 'gene_annotation_HAVANA_5000_500', 'gene_annotation_ENSEMBL_5000_500', 'gene_annotation_HAVANA_5000_1000', 'gene_annotation_ENSEMBL_5000_1000', 'gene_annotation_HAVANA_5000_2000', 'gene_annotation_ENSEMBL_5000_2000', 'gene_annotation_HAVANA_5000_5000', 'gene_annotation_ENSEMBL_5000_5000', 'gene_annotation_HAVANA_5000_10000', 'gene_annotation_ENSEMBL_5000_10000', 'gene_annotation_HAVANA_5000_20000', 'gene_annotation_ENSEMBL_5000_20000', 'gene_annotation_HAVANA_10000_0', 'gene_annotation_ENSEMBL_10000_0', 'gene_annotation_HAVANA_10000_500', 'gene_annotation_ENSEMBL_10000_500', 'gene_annotation_HAVANA_10000_1000', 'gene_annotation_ENSEMBL_10000_1000', 'gene_annotation_HAVANA_10000_2000', 'gene_annotation_ENSEMBL_10000_2000', 'gene_annotation_HAVANA_10000_5000', 'gene_annotation_ENSEMBL_10000_5000', 'gene_annotation_HAVANA_10000_10000', 'gene_annotation_ENSEMBL_10000_10000', 'gene_annotation_HAVANA_10000_20000', 'gene_annotation_ENSEMBL_10000_20000', 'gene_annotation_HAVANA_20000_0', 'gene_annotation_ENSEMBL_20000_0', 'gene_annotation_HAVANA_20000_500', 'gene_annotation_ENSEMBL_20000_500', 'gene_annotation_HAVANA_20000_1000', 'gene_annotation_ENSEMBL_20000_1000', 'gene_annotation_HAVANA_20000_2000', 'gene_annotation_ENSEMBL_20000_2000', 'gene_annotation_HAVANA_20000_5000', 'gene_annotation_ENSEMBL_20000_5000', 'gene_annotation_HAVANA_20000_10000', 'gene_annotation_ENSEMBL_20000_10000', 'gene_annotation_HAVANA_20000_20000', 'gene_annotation_ENSEMBL_20000_20000'"
      ]
     },
     "execution_count": 344,
     "metadata": {},
     "output_type": "execute_result"
    }
   ],
   "source": [
    "adata"
   ]
  }
 ],
 "metadata": {
  "kernelspec": {
   "display_name": "datenanalyse",
   "language": "python",
   "name": "datenanalyse"
  },
  "language_info": {
   "codemirror_mode": {
    "name": "ipython",
    "version": 3
   },
   "file_extension": ".py",
   "mimetype": "text/x-python",
   "name": "python",
   "nbconvert_exporter": "python",
   "pygments_lexer": "ipython3",
   "version": "3.10.13"
  }
 },
 "nbformat": 4,
 "nbformat_minor": 5
}
