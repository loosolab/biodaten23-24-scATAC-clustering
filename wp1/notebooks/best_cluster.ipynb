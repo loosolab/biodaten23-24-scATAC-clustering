{
 "cells": [
  {
   "cell_type": "code",
   "execution_count": 1,
   "id": "22f66011",
   "metadata": {},
   "outputs": [],
   "source": [
    "import os.path\n",
    "\n",
    "import episcanpy as epi\n",
    "import scanpy as sc\n",
    "import numpy as np\n",
    "import anndata as ad\n",
    "import pandas as pd\n",
    "from scipy.sparse import issparse, csr_matrix, hstack\n",
    "import tempfile\n",
    "import requests\n",
    "import warnings\n",
    "\n",
    "%load_ext autoreload\n",
    "%autoreload 2\n",
    "\n",
    "import utils"
   ]
  },
  {
   "cell_type": "code",
   "execution_count": 2,
   "id": "6b298039",
   "metadata": {},
   "outputs": [],
   "source": [
    "h5ad_path = \"/mnt/workspace_stud/mbentse/catlas_objects/esophagus_muscularis_SM-A8CPH.h5ad\"\n",
    "\n",
    "data_folder = \"/mnt/workspace_stud/allstud/wp1/data\"\n",
    "out_file = f\"{data_folder}/best_cluster.h5ad\"\n",
    "\n",
    "metadata_url = \"http://catlas.org/catlas_downloads/humantissues/Cell_metadata.tsv.gz\"\n",
    "metadata_filename = \"Cell_metadata.tsv\"\n",
    "metadata_path = f\"{data_folder}/catlas_metadata/{metadata_filename}\"\n",
    "ontology_path = f\"{data_folder}/Cell_ontology.tsv\"\n",
    "ontology_url = \"https://www.ebi.ac.uk/ols4/api/ontologies/cl/terms/http%253A%252F%252Fpurl.obolibrary.org%252Fobo%252F\"\n",
    "\n",
    "gtf_url=\"https://ftp.ebi.ac.uk/pub/databases/gencode/Gencode_human/release_38/gencode.v38.annotation.gtf.gz\"\n",
    "gtf_filename=\"gencode.v38.annotation.gtf\"\n",
    "gtf_path=f\"{data_folder}/{gtf_filename}\"\n",
    "\n",
    "uropa_path = \"/home/stud1/.conda/envs/datenanalyse/bin/uropa\"\n",
    "tmpdirobj = tempfile.TemporaryDirectory()\n",
    "tmpdir = tmpdirobj.name\n",
    "bed_path = f\"{tmpdir}/esophagus_muscularis_SM-A8CPH.bed\"\n",
    "uropa_config = f\"{tmpdir}/config.json\"\n",
    "uropa_output = f\"{tmpdir}/esophagus_muscularis_SM-A8CPH_finalhits.txt\""
   ]
  },
  {
   "cell_type": "code",
   "execution_count": 3,
   "id": "3e8777fb",
   "metadata": {},
   "outputs": [],
   "source": [
    "adata = epi.read_h5ad(h5ad_path)"
   ]
  },
  {
   "cell_type": "code",
   "execution_count": 4,
   "id": "70113b81",
   "metadata": {},
   "outputs": [],
   "source": [
    "sc.pp.calculate_qc_metrics(adata=adata, percent_top=None, inplace=True)"
   ]
  },
  {
   "cell_type": "code",
   "execution_count": 5,
   "id": "904ee9da",
   "metadata": {},
   "outputs": [
    {
     "data": {
      "image/png": "[encoded data removed]",
      "text/plain": [
       "<Figure size 640x480 with 1 Axes>"
      ]
     },
     "metadata": {},
     "output_type": "display_data"
    }
   ],
   "source": [
    "epi.pp.coverage_cells(adata, binary=True, log=10, bins=50,\n",
    "               threshold=30000)"
   ]
  },
  {
   "cell_type": "code",
   "execution_count": 6,
   "id": "46d30b47",
   "metadata": {},
   "outputs": [],
   "source": [
    "epi.pp.filter_cells(adata, min_features=100)\n",
    "epi.pp.filter_cells(adata, max_features=30000)"
   ]
  },
  {
   "cell_type": "code",
   "execution_count": 7,
   "id": "1ee456e2",
   "metadata": {},
   "outputs": [
    {
     "name": "stdout",
     "output_type": "stream",
     "text": [
      "/mnt/workspace_stud/allstud/wp1/data/catlas_metadata/Cell_metadata.tsv already exists.\n"
     ]
    }
   ],
   "source": [
    "utils.download(metadata_path, metadata_url)"
   ]
  },
  {
   "cell_type": "code",
   "execution_count": 8,
   "id": "24d7ad65",
   "metadata": {},
   "outputs": [],
   "source": [
    "utils.load_metadata(adata, metadata_path, columns_to_keep=['cell type'])"
   ]
  },
  {
   "cell_type": "code",
   "execution_count": 9,
   "id": "01e66d91",
   "metadata": {},
   "outputs": [],
   "source": [
    "ontology_df = pd.read_csv(ontology_path, delimiter=\"\\t\")\n",
    "ontology_df = ontology_df.rename(columns={\n",
    "    \"Cell type\": \"cell type\", \n",
    "    \"closest Cell Ontology term(s)\": \"ontology label\",\n",
    "    \"Cell Ontology ID\": \"ontology id\"})\n",
    "adata.obs = pd.merge(adata.obs, ontology_df, how=\"left\", on=\"cell type\")"
   ]
  },
  {
   "cell_type": "code",
   "execution_count": 10,
   "id": "289e980a",
   "metadata": {},
   "outputs": [
    {
     "data": {
      "text/plain": [
       "10996"
      ]
     },
     "execution_count": 10,
     "metadata": {},
     "output_type": "execute_result"
    }
   ],
   "source": [
    "# 10% of all cells:\n",
    "len(adata.obs[\"ontology label\"])"
   ]
  },
  {
   "cell_type": "code",
   "execution_count": 11,
   "id": "ea6789c4",
   "metadata": {},
   "outputs": [
    {
     "data": {
      "text/plain": [
       "ontology label\n",
       "fibroblast                              3201\n",
       "smooth muscle cell of the esophagus     2686\n",
       "macrophage                              1943\n",
       "schwann cell                             579\n",
       "CD8-positive, alpha-beta T cell          577\n",
       "smooth muscle cell                       541\n",
       "pericyte cell                            497\n",
       "endothelial cell                         345\n",
       "endothelial cell of lymphatic vessel     183\n",
       "alveolar macrophage                      156\n",
       "foveolar cell of stomach                 106\n",
       "mast cell                                 86\n",
       "mature NK T cell                          24\n",
       "naive t cell                              16\n",
       "cardiac endothelial cell                  10\n",
       "stromal cell                              10\n",
       "fibroblast of cardiac tissue               7\n",
       "luteal cell                                6\n",
       "enteric smooth muscle cell                 6\n",
       "plasma cell                                5\n",
       "CD4-positive, alpha-beta T cell            5\n",
       "blood vessel smooth muscle cell            2\n",
       "skeletal muscle fibroblast                 2\n",
       "skin fibroblast                            1\n",
       "mesothelial cell                           1\n",
       "uterine smooth muscle cell                 1\n",
       "Name: count, dtype: int64"
      ]
     },
     "execution_count": 11,
     "metadata": {},
     "output_type": "execute_result"
    }
   ],
   "source": [
    "adata.obs[\"ontology label\"].value_counts()"
   ]
  },
  {
   "cell_type": "code",
   "execution_count": 12,
   "id": "4709dfef",
   "metadata": {},
   "outputs": [
    {
     "name": "stderr",
     "output_type": "stream",
     "text": [
      " ImplicitModificationWarning:/home/stud1/.conda/envs/datenanalyse/lib/python3.10/site-packages/anndata/_core/anndata.py:183: Transforming to str index.\n"
     ]
    }
   ],
   "source": [
    "# only keep labels that are bigger than 1% of cell count\n",
    "threshold = len(adata.obs[\"ontology label\"]) / 100.0\n",
    "counts = adata.obs[\"ontology label\"].value_counts()\n",
    "valid_labels = counts[counts >= threshold].index\n",
    "adata = adata[adata.obs[\"ontology label\"].isin(valid_labels)].copy()\n",
    "# TODO das Warning beheben ImplicitModificationWarning Transforming to str index."
   ]
  },
  {
   "cell_type": "code",
   "execution_count": 13,
   "id": "c694d12b",
   "metadata": {},
   "outputs": [
    {
     "data": {
      "text/html": [
       "<div>\n",
       "<style scoped>\n",
       "    .dataframe tbody tr th:only-of-type {\n",
       "        vertical-align: middle;\n",
       "    }\n",
       "\n",
       "    .dataframe tbody tr th {\n",
       "        vertical-align: top;\n",
       "    }\n",
       "\n",
       "    .dataframe thead th {\n",
       "        text-align: right;\n",
       "    }\n",
       "</style>\n",
       "<table border=\"1\" class=\"dataframe\">\n",
       "  <thead>\n",
       "    <tr style=\"text-align: right;\">\n",
       "      <th></th>\n",
       "      <th>n_genes_by_counts</th>\n",
       "      <th>log1p_n_genes_by_counts</th>\n",
       "      <th>total_counts</th>\n",
       "      <th>log1p_total_counts</th>\n",
       "      <th>nb_features</th>\n",
       "      <th>cell type</th>\n",
       "      <th>ontology label</th>\n",
       "      <th>ontology id</th>\n",
       "    </tr>\n",
       "  </thead>\n",
       "  <tbody>\n",
       "    <tr>\n",
       "      <th>16</th>\n",
       "      <td>2410</td>\n",
       "      <td>7.787797</td>\n",
       "      <td>3953.0</td>\n",
       "      <td>8.282483</td>\n",
       "      <td>2410</td>\n",
       "      <td>Smooth Muscle (Esophageal Muscularis) 1</td>\n",
       "      <td>smooth muscle cell of the esophagus</td>\n",
       "      <td>CL:0002599</td>\n",
       "    </tr>\n",
       "    <tr>\n",
       "      <th>17</th>\n",
       "      <td>4710</td>\n",
       "      <td>8.457655</td>\n",
       "      <td>7891.0</td>\n",
       "      <td>8.973605</td>\n",
       "      <td>4710</td>\n",
       "      <td>Smooth Muscle (Esophageal Muscularis) 1</td>\n",
       "      <td>smooth muscle cell of the esophagus</td>\n",
       "      <td>CL:0002599</td>\n",
       "    </tr>\n",
       "    <tr>\n",
       "      <th>18</th>\n",
       "      <td>2866</td>\n",
       "      <td>7.961021</td>\n",
       "      <td>4669.0</td>\n",
       "      <td>8.448915</td>\n",
       "      <td>2866</td>\n",
       "      <td>Smooth Muscle (Esophageal Muscularis) 1</td>\n",
       "      <td>smooth muscle cell of the esophagus</td>\n",
       "      <td>CL:0002599</td>\n",
       "    </tr>\n",
       "    <tr>\n",
       "      <th>19</th>\n",
       "      <td>8464</td>\n",
       "      <td>9.043695</td>\n",
       "      <td>14382.0</td>\n",
       "      <td>9.573802</td>\n",
       "      <td>8464</td>\n",
       "      <td>Smooth Muscle (Esophageal Muscularis) 1</td>\n",
       "      <td>smooth muscle cell of the esophagus</td>\n",
       "      <td>CL:0002599</td>\n",
       "    </tr>\n",
       "    <tr>\n",
       "      <th>20</th>\n",
       "      <td>8500</td>\n",
       "      <td>9.047939</td>\n",
       "      <td>14767.0</td>\n",
       "      <td>9.600218</td>\n",
       "      <td>8500</td>\n",
       "      <td>Smooth Muscle (Esophageal Muscularis) 1</td>\n",
       "      <td>smooth muscle cell of the esophagus</td>\n",
       "      <td>CL:0002599</td>\n",
       "    </tr>\n",
       "    <tr>\n",
       "      <th>...</th>\n",
       "      <td>...</td>\n",
       "      <td>...</td>\n",
       "      <td>...</td>\n",
       "      <td>...</td>\n",
       "      <td>...</td>\n",
       "      <td>...</td>\n",
       "      <td>...</td>\n",
       "      <td>...</td>\n",
       "    </tr>\n",
       "    <tr>\n",
       "      <th>10988</th>\n",
       "      <td>2470</td>\n",
       "      <td>7.812378</td>\n",
       "      <td>4080.0</td>\n",
       "      <td>8.314097</td>\n",
       "      <td>2470</td>\n",
       "      <td>Fibroblast (Gastrointestinal)</td>\n",
       "      <td>fibroblast</td>\n",
       "      <td>CL:0000057</td>\n",
       "    </tr>\n",
       "    <tr>\n",
       "      <th>10989</th>\n",
       "      <td>2009</td>\n",
       "      <td>7.605890</td>\n",
       "      <td>3399.0</td>\n",
       "      <td>8.131531</td>\n",
       "      <td>2009</td>\n",
       "      <td>Fibroblast (Gastrointestinal)</td>\n",
       "      <td>fibroblast</td>\n",
       "      <td>CL:0000057</td>\n",
       "    </tr>\n",
       "    <tr>\n",
       "      <th>10990</th>\n",
       "      <td>781</td>\n",
       "      <td>6.661855</td>\n",
       "      <td>1282.0</td>\n",
       "      <td>7.156956</td>\n",
       "      <td>781</td>\n",
       "      <td>Fibroblast (Gastrointestinal)</td>\n",
       "      <td>fibroblast</td>\n",
       "      <td>CL:0000057</td>\n",
       "    </tr>\n",
       "    <tr>\n",
       "      <th>10991</th>\n",
       "      <td>1612</td>\n",
       "      <td>7.385851</td>\n",
       "      <td>2685.0</td>\n",
       "      <td>7.895808</td>\n",
       "      <td>1612</td>\n",
       "      <td>Fibroblast (Gastrointestinal)</td>\n",
       "      <td>fibroblast</td>\n",
       "      <td>CL:0000057</td>\n",
       "    </tr>\n",
       "    <tr>\n",
       "      <th>10992</th>\n",
       "      <td>539</td>\n",
       "      <td>6.291569</td>\n",
       "      <td>888.0</td>\n",
       "      <td>6.790097</td>\n",
       "      <td>539</td>\n",
       "      <td>Fibroblast (Gastrointestinal)</td>\n",
       "      <td>fibroblast</td>\n",
       "      <td>CL:0000057</td>\n",
       "    </tr>\n",
       "  </tbody>\n",
       "</table>\n",
       "<p>10708 rows × 8 columns</p>\n",
       "</div>"
      ],
      "text/plain": [
       "       n_genes_by_counts  log1p_n_genes_by_counts  total_counts  \\\n",
       "16                  2410                 7.787797        3953.0   \n",
       "17                  4710                 8.457655        7891.0   \n",
       "18                  2866                 7.961021        4669.0   \n",
       "19                  8464                 9.043695       14382.0   \n",
       "20                  8500                 9.047939       14767.0   \n",
       "...                  ...                      ...           ...   \n",
       "10988               2470                 7.812378        4080.0   \n",
       "10989               2009                 7.605890        3399.0   \n",
       "10990                781                 6.661855        1282.0   \n",
       "10991               1612                 7.385851        2685.0   \n",
       "10992                539                 6.291569         888.0   \n",
       "\n",
       "       log1p_total_counts  nb_features  \\\n",
       "16               8.282483         2410   \n",
       "17               8.973605         4710   \n",
       "18               8.448915         2866   \n",
       "19               9.573802         8464   \n",
       "20               9.600218         8500   \n",
       "...                   ...          ...   \n",
       "10988            8.314097         2470   \n",
       "10989            8.131531         2009   \n",
       "10990            7.156956          781   \n",
       "10991            7.895808         1612   \n",
       "10992            6.790097          539   \n",
       "\n",
       "                                     cell type  \\\n",
       "16     Smooth Muscle (Esophageal Muscularis) 1   \n",
       "17     Smooth Muscle (Esophageal Muscularis) 1   \n",
       "18     Smooth Muscle (Esophageal Muscularis) 1   \n",
       "19     Smooth Muscle (Esophageal Muscularis) 1   \n",
       "20     Smooth Muscle (Esophageal Muscularis) 1   \n",
       "...                                        ...   \n",
       "10988            Fibroblast (Gastrointestinal)   \n",
       "10989            Fibroblast (Gastrointestinal)   \n",
       "10990            Fibroblast (Gastrointestinal)   \n",
       "10991            Fibroblast (Gastrointestinal)   \n",
       "10992            Fibroblast (Gastrointestinal)   \n",
       "\n",
       "                            ontology label ontology id  \n",
       "16     smooth muscle cell of the esophagus  CL:0002599  \n",
       "17     smooth muscle cell of the esophagus  CL:0002599  \n",
       "18     smooth muscle cell of the esophagus  CL:0002599  \n",
       "19     smooth muscle cell of the esophagus  CL:0002599  \n",
       "20     smooth muscle cell of the esophagus  CL:0002599  \n",
       "...                                    ...         ...  \n",
       "10988                           fibroblast  CL:0000057  \n",
       "10989                           fibroblast  CL:0000057  \n",
       "10990                           fibroblast  CL:0000057  \n",
       "10991                           fibroblast  CL:0000057  \n",
       "10992                           fibroblast  CL:0000057  \n",
       "\n",
       "[10708 rows x 8 columns]"
      ]
     },
     "execution_count": 13,
     "metadata": {},
     "output_type": "execute_result"
    }
   ],
   "source": [
    "adata.obs"
   ]
  },
  {
   "cell_type": "code",
   "execution_count": 14,
   "id": "3786c776",
   "metadata": {},
   "outputs": [
    {
     "name": "stdout",
     "output_type": "stream",
     "text": [
      "/mnt/workspace_stud/allstud/wp1/data/gencode.v38.annotation.gtf already exists.\n"
     ]
    }
   ],
   "source": [
    "utils.download(gtf_path, gtf_url)"
   ]
  },
  {
   "cell_type": "code",
   "execution_count": 15,
   "id": "f9c67d46",
   "metadata": {},
   "outputs": [],
   "source": [
    "def parse_region(region):\n",
    "    if ':' in region and '-' in region:\n",
    "        chrom, positions = region.split(':')\n",
    "        begin, end = map(int, positions.split('-'))\n",
    "    elif '_' in region:\n",
    "        chrom, begin, end = region.split('_')\n",
    "        begin, end = int(begin), int(end)\n",
    "    else:\n",
    "        raise ValueError(f\"Invalid region format: {region}\")\n",
    "    return chrom, begin, end\n",
    "\n",
    "with open(bed_path, \"w\") as f:\n",
    "    for region in adata.var_names.tolist():\n",
    "        chrom, begin, end = parse_region(region)\n",
    "        f.write(f\"{chrom}\\t{begin}\\t{end}\\n\")\n",
    "    f.flush()"
   ]
  },
  {
   "cell_type": "code",
   "execution_count": 16,
   "id": "2f708670",
   "metadata": {},
   "outputs": [],
   "source": [
    "%%bash -s {tmpdir} {uropa_config} {gtf_path} {bed_path}\n",
    "cat >$2 << EOF\n",
    "{\n",
    "\"queries\":[\n",
    "    {\n",
    "        \"distance\": [5000, 2000],\n",
    "        \"feature\": [\"gene\"],\n",
    "        \"feature_anchor\": [\"end\", \"start\", \"center\"]\n",
    "    }\n",
    "],\n",
    "\"show_attributes\": [\"gene_name\"],\n",
    "\"priority\": \"False\",\n",
    "\"gtf\": \"$3\",\n",
    "\"bed\": \"$4\",\n",
    "\"outdir\": \"$1\",\n",
    "\"threads\": \"$(nproc --all)\"\n",
    "}\n",
    "EOF"
   ]
  },
  {
   "cell_type": "code",
   "execution_count": null,
   "id": "c97d87a2",
   "metadata": {},
   "outputs": [
    {
     "name": "stdout",
     "output_type": "stream",
     "text": [
      "2024-01-16 18:59:16 (789170) [INFO]\tStarted UROPA 4.0.3\n",
      "2024-01-16 18:59:16 (789170) [INFO]\tWorking directory: /home/stud1/notebooks/release\n",
      "2024-01-16 18:59:16 (789170) [INFO]\tCommand-line call: /home/stud1/.conda/envs/datenanalyse/bin/uropa -i /tmp/tmp9vletfu0/config.json\n",
      "2024-01-16 18:59:16 (789170) [INFO]\tReading configuration from commandline/input config\n",
      "2024-01-16 18:59:16 (789170) [INFO]\tPreparing .gtf-file for fast access\n",
      "2024-01-16 18:59:53 (789170) [INFO]\tStarted annotation\n",
      "2024-01-16 18:59:58 (789170) [INFO]\tProgress: Annotated 30000 peaks (1 jobs running; 30 jobs finished)\n",
      "2024-01-16 19:00:03 (789170) [INFO]\tProgress: Annotated 80000 peaks (0 jobs running; 80 jobs finished)\n",
      "2024-01-16 19:00:08 (789170) [INFO]\tProgress: Annotated 130000 peaks (0 jobs running; 130 jobs finished)\n",
      "2024-01-16 19:00:13 (789170) [INFO]\tProgress: Annotated 180000 peaks (0 jobs running; 180 jobs finished)\n",
      "2024-01-16 19:00:19 (789170) [INFO]\tProgress: Annotated 230000 peaks (0 jobs running; 230 jobs finished)\n"
     ]
    }
   ],
   "source": [
    "%%time\n",
    "!{uropa_path} -i {uropa_config}"
   ]
  },
  {
   "cell_type": "code",
   "execution_count": null,
   "id": "c603d11f",
   "metadata": {},
   "outputs": [],
   "source": [
    "uropa_df = pd.read_csv(uropa_output, delimiter=\"\\t\")\n",
    "uropa_df['index'] = uropa_df['peak_chr'].astype(str) + ':' + uropa_df['peak_start'].astype(str) + '-' + uropa_df['peak_end'].astype(str)\n",
    "uropa_df = uropa_df[['index', 'gene_name']]\n",
    "uropa_df = uropa_df.set_index('index')\n",
    "adata.var = adata.var.merge(uropa_df, left_index=True, right_index=True)"
   ]
  },
  {
   "cell_type": "code",
   "execution_count": null,
   "id": "61d31da8",
   "metadata": {},
   "outputs": [],
   "source": [
    "tmpdirobj.cleanup()"
   ]
  },
  {
   "cell_type": "code",
   "execution_count": null,
   "id": "05373e13",
   "metadata": {},
   "outputs": [],
   "source": [
    "adata.var"
   ]
  },
  {
   "cell_type": "code",
   "execution_count": null,
   "id": "91270232",
   "metadata": {},
   "outputs": [],
   "source": [
    "sc.pp.normalize_total(adata, exclude_highly_expressed=False, target_sum=None)\n",
    "sc.pp.log1p(adata)"
   ]
  },
  {
   "cell_type": "code",
   "execution_count": null,
   "id": "40483091",
   "metadata": {},
   "outputs": [],
   "source": [
    "%%time\n",
    "sc.pp.pca(adata, n_comps=16, use_highly_variable=False)"
   ]
  },
  {
   "cell_type": "code",
   "execution_count": null,
   "id": "300d8a6d",
   "metadata": {},
   "outputs": [],
   "source": [
    "sc.pl.pca_overview(adata, color=\"total_counts\")"
   ]
  },
  {
   "cell_type": "code",
   "execution_count": null,
   "id": "c156a2f4",
   "metadata": {},
   "outputs": [],
   "source": [
    "%%time\n",
    "sc.pp.neighbors(adata, n_neighbors=15, method='umap', metric='euclidean')"
   ]
  },
  {
   "cell_type": "code",
   "execution_count": null,
   "id": "7a599f13",
   "metadata": {},
   "outputs": [],
   "source": [
    "%%time\n",
    "sc.tl.umap(adata, min_dist=0.1, spread=2.5)"
   ]
  },
  {
   "cell_type": "code",
   "execution_count": null,
   "id": "27328c5f",
   "metadata": {},
   "outputs": [],
   "source": [
    "sc.pl.embedding(adata, basis='umap', ncols=3, show=False, color=\"log1p_n_genes_by_counts\")"
   ]
  },
  {
   "cell_type": "code",
   "execution_count": null,
   "id": "8d5c634c",
   "metadata": {},
   "outputs": [],
   "source": [
    "louvain_resolution = 0.25\n",
    "\n",
    "\n",
    "\n",
    "louvain_tag = f'louvain-R:{louvain_resolution}'\n",
    "\n",
    "sc.tl.louvain(adata, resolution=louvain_resolution, key_added=louvain_tag)\n",
    "ari = epi.tl.ARI(adata, louvain_tag, 'ontology label')\n",
    "ami = epi.tl.AMI(adata, louvain_tag, 'ontology label')\n",
    "\n",
    "print(f\"ARI: {ari}\")\n",
    "print(f\"AMI: {ami}\")\n",
    "\n",
    "adata.uns[\"best_cluster\"] = louvain_tag\n",
    "adata.uns[\"clusters\"] = {\n",
    "    louvain_tag: {\n",
    "        \"score\": {\n",
    "            \"ari\": ari,\n",
    "            \"ami\": ami\n",
    "        }\n",
    "    } \n",
    "}"
   ]
  },
  {
   "cell_type": "code",
   "execution_count": null,
   "id": "88c5dbe7",
   "metadata": {},
   "outputs": [],
   "source": [
    "sc.pl.embedding(adata, basis='umap', ncols=3, show=False, color=louvain_tag)"
   ]
  },
  {
   "cell_type": "code",
   "execution_count": null,
   "id": "a24de2bc",
   "metadata": {
    "scrolled": false
   },
   "outputs": [],
   "source": [
    "sc.pl.embedding(adata, basis='umap', ncols=3, show=False, color=\"ontology label\")"
   ]
  },
  {
   "cell_type": "markdown",
   "id": "3b7ee3ce",
   "metadata": {},
   "source": [
    "__Rekey adata.var to genes__"
   ]
  },
  {
   "cell_type": "code",
   "execution_count": null,
   "id": "82138027",
   "metadata": {},
   "outputs": [],
   "source": [
    "# remove unannotated regions\n",
    "adata = adata[:, ~adata.var['gene_name'].isna()]"
   ]
  },
  {
   "cell_type": "code",
   "execution_count": null,
   "id": "f3f4dab0",
   "metadata": {},
   "outputs": [],
   "source": [
    "duplicated_genes = adata.var['gene_name'][adata.var['gene_name'].duplicated(keep=False)]"
   ]
  },
  {
   "cell_type": "code",
   "execution_count": null,
   "id": "3712c4dd",
   "metadata": {},
   "outputs": [],
   "source": [
    "%%time\n",
    "adata_csc = adata.X.tocsc()"
   ]
  },
  {
   "cell_type": "code",
   "execution_count": null,
   "id": "e77360fa",
   "metadata": {},
   "outputs": [],
   "source": [
    "%%time\n",
    "merged_data_dict = {}\n",
    "for gene in duplicated_genes.unique():\n",
    "    cols = np.where(adata.var['gene_name'] == gene)[0]\n",
    "    data_slice = adata_csc[:, cols]\n",
    "    merged = data_slice.max(axis=1)\n",
    "    merged_data_dict[gene] = merged"
   ]
  },
  {
   "cell_type": "code",
   "execution_count": null,
   "id": "50510422",
   "metadata": {},
   "outputs": [],
   "source": [
    "%%time\n",
    "non_duplicated_genes = adata.var['gene_name'][~adata.var['gene_name'].duplicated(keep=False)]\n",
    "for gene in non_duplicated_genes:\n",
    "    cols = np.where(adata.var['gene_name'] == gene)[0]\n",
    "    data_slice = adata_csc[:, cols]\n",
    "    merged_data_dict[gene] = data_slice"
   ]
  },
  {
   "cell_type": "code",
   "execution_count": null,
   "id": "130e7c0a",
   "metadata": {},
   "outputs": [],
   "source": [
    "merged_matrix = hstack([l for l in merged_data_dict.values()], format='csr')"
   ]
  },
  {
   "cell_type": "code",
   "execution_count": null,
   "id": "7fc82164",
   "metadata": {},
   "outputs": [],
   "source": [
    "adata_merged = ad.AnnData(X=merged_matrix, obs=adata.obs, obsm=adata.obsm, var=pd.DataFrame(index=merged_data_dict.keys()))"
   ]
  },
  {
   "cell_type": "code",
   "execution_count": null,
   "id": "1528b6bf",
   "metadata": {},
   "outputs": [],
   "source": [
    "%%time\n",
    "adata_merged.write(\n",
    "        out_file,\n",
    "        compression=\"gzip\")"
   ]
  },
  {
   "cell_type": "code",
   "execution_count": null,
   "id": "97bf67be",
   "metadata": {},
   "outputs": [],
   "source": [
    "adata_merged"
   ]
  }
 ],
 "metadata": {
  "kernelspec": {
   "display_name": "datenanalyse",
   "language": "python",
   "name": "datenanalyse"
  },
  "language_info": {
   "codemirror_mode": {
    "name": "ipython",
    "version": 3
   },
   "file_extension": ".py",
   "mimetype": "text/x-python",
   "name": "python",
   "nbconvert_exporter": "python",
   "pygments_lexer": "ipython3",
   "version": "3.10.13"
  }
 },
 "nbformat": 4,
 "nbformat_minor": 5
}
